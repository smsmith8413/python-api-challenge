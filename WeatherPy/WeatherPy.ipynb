{
 "cells": [
  {
   "cell_type": "markdown",
   "metadata": {},
   "source": [
    "Stephanie Smith\n",
    "Python API Challenge HW\n",
    "WeatherPy"
   ]
  },
  {
   "cell_type": "markdown",
   "metadata": {},
   "source": [
    "utilize: https://pypi.python.org/pypi/citipy"
   ]
  },
  {
   "cell_type": "code",
   "execution_count": null,
   "metadata": {},
   "outputs": [],
   "source": [
    "#pip install citipy"
   ]
  },
  {
   "cell_type": "code",
   "execution_count": 1,
   "metadata": {},
   "outputs": [
    {
     "name": "stdout",
     "output_type": "stream",
     "text": [
      "0b3f8e2a43251d206d5aeab517c4ad2a\n"
     ]
    }
   ],
   "source": [
    "# Dependencies and Setup\n",
    "import matplotlib.pyplot as plt\n",
    "import pandas as pd\n",
    "import numpy as np\n",
    "import requests\n",
    "import time\n",
    "from scipy.stats import linregress\n",
    "import json\n",
    "\n",
    "# Import API key\n",
    "from config import api_key\n",
    "print(api_key)\n",
    "\n",
    "# Incorporated citipy to determine city based on latitude and longitude\n",
    "from citipy import citipy\n",
    "\n",
    "# Output File (CSV)\n",
    "output_data_file = \"output_data/cities.csv\"\n",
    "\n",
    "# Range of latitudes and longitudes\n",
    "lat_range = (-90, 90)\n",
    "lng_range = (-180, 180)"
   ]
  },
  {
   "cell_type": "markdown",
   "metadata": {},
   "source": [
    "Generate Cities List\n"
   ]
  },
  {
   "cell_type": "code",
   "execution_count": 2,
   "metadata": {},
   "outputs": [
    {
     "data": {
      "text/plain": [
       "633"
      ]
     },
     "execution_count": 2,
     "metadata": {},
     "output_type": "execute_result"
    }
   ],
   "source": [
    "# List for holding lat_lngs and cities\n",
    "lat_lngs = []\n",
    "cities = []\n",
    "\n",
    "# Create a set of random lat and lng combinations\n",
    "lats = np.random.uniform(low=-90.000, high=90.000, size=1500)\n",
    "lngs = np.random.uniform(low=-180.000, high=180.000, size=1500)\n",
    "lat_lngs = zip(lats, lngs)\n",
    "\n",
    "# Identify nearest city for each lat, lng combination\n",
    "for lat_lng in lat_lngs:\n",
    "    city = citipy.nearest_city(lat_lng[0], lat_lng[1]).city_name\n",
    "    \n",
    "    # If the city is unique, then add it to a our cities list\n",
    "    if city not in cities:\n",
    "        cities.append(city)\n",
    "\n",
    "# Print the city count to confirm sufficient count\n",
    "len(cities)"
   ]
  },
  {
   "cell_type": "code",
   "execution_count": 3,
   "metadata": {},
   "outputs": [],
   "source": [
    "# Save config information.\n",
    "url = \"http://api.openweathermap.org/data/2.5/weather?\"\n",
    "units = \"metric\"\n",
    "\n",
    "# Build partial query URL\n",
    "query_url = f\"{url}appid={api_key}&units={units}&q=\""
   ]
  },
  {
   "cell_type": "code",
   "execution_count": 8,
   "metadata": {},
   "outputs": [
    {
     "name": "stdout",
     "output_type": "stream",
     "text": [
      "{\n",
      "    \"base\": \"stations\",\n",
      "    \"clouds\": {\n",
      "        \"all\": 77\n",
      "    },\n",
      "    \"cod\": 200,\n",
      "    \"coord\": {\n",
      "        \"lat\": 48.85,\n",
      "        \"lon\": 2.35\n",
      "    },\n",
      "    \"dt\": 1579985217,\n",
      "    \"id\": 2988507,\n",
      "    \"main\": {\n",
      "        \"feels_like\": -0.73,\n",
      "        \"humidity\": 90,\n",
      "        \"pressure\": 1017,\n",
      "        \"temp\": 2.57,\n",
      "        \"temp_max\": 5,\n",
      "        \"temp_min\": 0.56\n",
      "    },\n",
      "    \"name\": \"Paris\",\n",
      "    \"sys\": {\n",
      "        \"country\": \"FR\",\n",
      "        \"id\": 2012208,\n",
      "        \"sunrise\": 1579937411,\n",
      "        \"sunset\": 1579970104,\n",
      "        \"type\": 3\n",
      "    },\n",
      "    \"timezone\": 3600,\n",
      "    \"weather\": [\n",
      "        {\n",
      "            \"description\": \"broken clouds\",\n",
      "            \"icon\": \"04n\",\n",
      "            \"id\": 803,\n",
      "            \"main\": \"Clouds\"\n",
      "        }\n",
      "    ],\n",
      "    \"wind\": {\n",
      "        \"deg\": 153,\n",
      "        \"speed\": 2.11\n",
      "    }\n",
      "}\n"
     ]
    }
   ],
   "source": [
    "#run a test on url structure\n",
    "city = \"Paris\"\n",
    "response = requests.get(query_url + city).json()\n",
    "print(json.dumps(response, indent=4, sort_keys=True))"
   ]
  },
  {
   "cell_type": "code",
   "execution_count": 9,
   "metadata": {},
   "outputs": [
    {
     "name": "stdout",
     "output_type": "stream",
     "text": [
      "City not found.....skipping\n",
      "Processing Record 2 of Set 0 | busselton\n",
      "Processing Record 3 of Set 0 | barrow\n",
      "Processing Record 4 of Set 0 | filadelfia\n",
      "City not found.....skipping\n",
      "Processing Record 6 of Set 0 | saldanha\n",
      "Processing Record 7 of Set 0 | vila velha\n",
      "City not found.....skipping\n",
      "Processing Record 9 of Set 0 | turukhansk\n",
      "Processing Record 10 of Set 0 | kaitangata\n",
      "Processing Record 11 of Set 0 | buraydah\n",
      "Processing Record 12 of Set 0 | kodiak\n",
      "Processing Record 13 of Set 0 | bluff\n",
      "Processing Record 14 of Set 0 | vaini\n",
      "Processing Record 15 of Set 0 | kavieng\n",
      "Processing Record 16 of Set 0 | tiksi\n",
      "Processing Record 17 of Set 0 | new norfolk\n",
      "Processing Record 18 of Set 0 | hilo\n",
      "Processing Record 19 of Set 0 | antalaha\n",
      "Processing Record 20 of Set 0 | hohhot\n",
      "Processing Record 21 of Set 0 | port alfred\n",
      "Processing Record 22 of Set 0 | punta arenas\n",
      "Processing Record 23 of Set 0 | ostrovnoy\n",
      "Processing Record 24 of Set 0 | albany\n",
      "Processing Record 25 of Set 0 | bethel\n",
      "City not found.....skipping\n",
      "Processing Record 27 of Set 0 | wetaskiwin\n",
      "Processing Record 28 of Set 0 | saskylakh\n",
      "Processing Record 29 of Set 0 | lipno\n",
      "Processing Record 30 of Set 0 | amapa\n",
      "Processing Record 31 of Set 0 | sao filipe\n",
      "Processing Record 32 of Set 0 | matagami\n",
      "Processing Record 33 of Set 0 | jalu\n",
      "Processing Record 34 of Set 0 | qaanaaq\n",
      "Processing Record 35 of Set 0 | atuona\n",
      "Processing Record 36 of Set 0 | puerto ayora\n",
      "Processing Record 37 of Set 0 | chirongui\n",
      "City not found.....skipping\n",
      "Processing Record 39 of Set 0 | tripoli\n",
      "Processing Record 40 of Set 0 | upernavik\n",
      "Processing Record 41 of Set 0 | cape town\n",
      "Processing Record 42 of Set 0 | usinsk\n",
      "Processing Record 43 of Set 0 | tasiilaq\n",
      "Processing Record 44 of Set 0 | hermanus\n",
      "Processing Record 45 of Set 0 | arraial do cabo\n",
      "Processing Record 46 of Set 0 | saint anthony\n",
      "Processing Record 47 of Set 0 | butaritari\n",
      "Processing Record 48 of Set 0 | chuy\n",
      "Processing Record 49 of Set 0 | vostok\n",
      "Processing Record 50 of Set 1 | bengkulu\n",
      "Processing Record 51 of Set 1 | aksu\n",
      "Processing Record 52 of Set 1 | avarua\n",
      "City not found.....skipping\n",
      "Processing Record 54 of Set 1 | torbay\n",
      "Processing Record 55 of Set 1 | saint-francois\n",
      "Processing Record 56 of Set 1 | bilma\n",
      "Processing Record 57 of Set 1 | mar del plata\n",
      "Processing Record 58 of Set 1 | hanna\n",
      "Processing Record 59 of Set 1 | bonavista\n",
      "Processing Record 60 of Set 1 | rikitea\n",
      "Processing Record 61 of Set 1 | leningradskiy\n",
      "Processing Record 62 of Set 1 | paramaribo\n",
      "Processing Record 63 of Set 1 | hofn\n",
      "Processing Record 64 of Set 1 | mahebourg\n",
      "City not found.....skipping\n",
      "Processing Record 66 of Set 1 | bagdarin\n",
      "Processing Record 67 of Set 1 | tinaquillo\n",
      "City not found.....skipping\n",
      "City not found.....skipping\n",
      "Processing Record 70 of Set 1 | kapaa\n",
      "Processing Record 71 of Set 1 | pangody\n",
      "Processing Record 72 of Set 1 | tuktoyaktuk\n",
      "Processing Record 73 of Set 1 | nikolayevskaya\n",
      "Processing Record 74 of Set 1 | zernograd\n",
      "Processing Record 75 of Set 1 | bredasdorp\n",
      "Processing Record 76 of Set 1 | ternate\n",
      "Processing Record 77 of Set 1 | jatai\n",
      "Processing Record 78 of Set 1 | feldkirchen\n",
      "Processing Record 79 of Set 1 | provideniya\n",
      "Processing Record 80 of Set 1 | alofi\n",
      "Processing Record 81 of Set 1 | ushuaia\n",
      "Processing Record 82 of Set 1 | severnyy\n",
      "Processing Record 83 of Set 1 | shiloh\n",
      "Processing Record 84 of Set 1 | naze\n",
      "Processing Record 85 of Set 1 | airai\n",
      "Processing Record 86 of Set 1 | lleida\n",
      "City not found.....skipping\n",
      "Processing Record 88 of Set 1 | hobart\n",
      "City not found.....skipping\n",
      "Processing Record 90 of Set 1 | aberystwyth\n",
      "Processing Record 91 of Set 1 | kalang\n",
      "Processing Record 92 of Set 1 | panama city\n",
      "Processing Record 93 of Set 1 | tautira\n",
      "Processing Record 94 of Set 1 | emba\n",
      "Processing Record 95 of Set 1 | haines junction\n",
      "City not found.....skipping\n",
      "Processing Record 97 of Set 1 | vertou\n",
      "City not found.....skipping\n",
      "City not found.....skipping\n",
      "City not found.....skipping\n",
      "Processing Record 101 of Set 1 | chokurdakh\n",
      "Processing Record 102 of Set 1 | talaya\n",
      "Processing Record 103 of Set 1 | east london\n",
      "Processing Record 104 of Set 1 | tazovskiy\n",
      "Processing Record 105 of Set 1 | touros\n",
      "Processing Record 106 of Set 1 | krasnoselkup\n",
      "Processing Record 107 of Set 1 | christchurch\n",
      "Processing Record 108 of Set 1 | ambon\n",
      "Processing Record 109 of Set 1 | pacific grove\n",
      "Processing Record 110 of Set 1 | hit\n",
      "Processing Record 111 of Set 1 | vao\n",
      "Processing Record 112 of Set 1 | ovre ardal\n",
      "Processing Record 113 of Set 1 | vanimo\n",
      "Processing Record 114 of Set 1 | grand gaube\n",
      "Processing Record 115 of Set 1 | itarema\n",
      "Processing Record 116 of Set 1 | gilgit\n",
      "Processing Record 117 of Set 1 | port hardy\n",
      "Processing Record 118 of Set 1 | norman wells\n",
      "Processing Record 119 of Set 1 | mnogovershinnyy\n",
      "Processing Record 120 of Set 1 | casper\n",
      "Processing Record 121 of Set 1 | maceio\n",
      "Processing Record 122 of Set 1 | quelimane\n",
      "Processing Record 123 of Set 1 | mataura\n",
      "Processing Record 124 of Set 1 | batagay\n",
      "Processing Record 125 of Set 1 | iranshahr\n",
      "Processing Record 126 of Set 1 | iguatemi\n",
      "Processing Record 127 of Set 1 | odienne\n",
      "City not found.....skipping\n",
      "Processing Record 129 of Set 1 | mvuma\n",
      "Processing Record 130 of Set 1 | qiyang\n",
      "Processing Record 131 of Set 1 | sabang\n",
      "Processing Record 132 of Set 1 | georgetown\n",
      "Processing Record 133 of Set 1 | belfast\n",
      "Processing Record 134 of Set 1 | nikolskoye\n",
      "Processing Record 135 of Set 1 | havre-saint-pierre\n",
      "Processing Record 136 of Set 1 | banjarmasin\n",
      "Processing Record 137 of Set 1 | rosh pinna\n",
      "Processing Record 138 of Set 1 | khatanga\n",
      "Processing Record 139 of Set 1 | cayhagan\n",
      "Processing Record 140 of Set 1 | monrovia\n",
      "Processing Record 141 of Set 1 | portland\n",
      "Processing Record 142 of Set 1 | vardo\n",
      "City not found.....skipping\n",
      "Processing Record 144 of Set 1 | hermosillo\n",
      "Processing Record 145 of Set 1 | castro\n",
      "City not found.....skipping\n",
      "Processing Record 147 of Set 1 | narsaq\n",
      "Processing Record 148 of Set 1 | bathsheba\n",
      "Processing Record 149 of Set 1 | polunochnoye\n",
      "Processing Record 150 of Set 1 | noumea\n",
      "Processing Record 151 of Set 1 | sept-iles\n",
      "Processing Record 152 of Set 1 | taseyevo\n",
      "Processing Record 153 of Set 1 | poum\n",
      "Processing Record 154 of Set 1 | evensk\n",
      "Processing Record 155 of Set 1 | lensk\n",
      "Processing Record 156 of Set 1 | salalah\n",
      "Processing Record 157 of Set 1 | cobija\n",
      "Processing Record 158 of Set 1 | makakilo city\n",
      "Processing Record 159 of Set 1 | kirakira\n",
      "Processing Record 160 of Set 1 | alice town\n",
      "Processing Record 161 of Set 1 | lieksa\n",
      "Processing Record 162 of Set 1 | sur\n",
      "City not found.....skipping\n",
      "Processing Record 164 of Set 1 | tan an\n",
      "Processing Record 165 of Set 1 | port blair\n",
      "Processing Record 166 of Set 1 | meybod\n",
      "City not found.....skipping\n",
      "Processing Record 168 of Set 1 | lyuban\n",
      "Processing Record 169 of Set 1 | talnakh\n",
      "Processing Record 170 of Set 1 | banjar\n",
      "Processing Record 171 of Set 1 | esperance\n",
      "Processing Record 172 of Set 1 | myitkyina\n",
      "Processing Record 173 of Set 1 | ponta do sol\n",
      "Processing Record 174 of Set 1 | ndago\n",
      "Processing Record 175 of Set 1 | nome\n",
      "Processing Record 176 of Set 1 | ancud\n",
      "Processing Record 177 of Set 1 | sitka\n",
      "Processing Record 178 of Set 1 | longyearbyen\n",
      "Processing Record 179 of Set 1 | voh\n",
      "Processing Record 180 of Set 1 | southbridge\n",
      "Processing Record 181 of Set 1 | eureka\n",
      "Processing Record 182 of Set 1 | cherskiy\n",
      "Processing Record 183 of Set 1 | barabai\n",
      "Processing Record 184 of Set 1 | raga\n",
      "Processing Record 185 of Set 1 | port lincoln\n",
      "Processing Record 186 of Set 1 | port macquarie\n",
      "Processing Record 187 of Set 1 | isangel\n",
      "Processing Record 188 of Set 1 | lompoc\n",
      "Processing Record 189 of Set 1 | dikson\n",
      "Processing Record 190 of Set 1 | bubaque\n",
      "Processing Record 191 of Set 1 | lorengau\n",
      "Processing Record 192 of Set 1 | adrar\n",
      "Processing Record 193 of Set 1 | tuatapere\n",
      "Processing Record 194 of Set 1 | saint-philippe\n",
      "Processing Record 195 of Set 1 | santa engracia\n",
      "Processing Record 196 of Set 1 | san quintin\n",
      "Processing Record 197 of Set 1 | pizarro\n",
      "Processing Record 198 of Set 1 | port hawkesbury\n",
      "Processing Record 199 of Set 1 | kvitok\n",
      "Processing Record 200 of Set 1 | porto novo\n",
      "City not found.....skipping\n",
      "Processing Record 202 of Set 1 | hasaki\n",
      "Processing Record 203 of Set 1 | nan\n",
      "Processing Record 204 of Set 1 | coihaique\n",
      "Processing Record 205 of Set 1 | raton\n",
      "Processing Record 206 of Set 1 | muriae\n"
     ]
    },
    {
     "name": "stdout",
     "output_type": "stream",
     "text": [
      "Processing Record 207 of Set 1 | verkhniye tatyshly\n",
      "Processing Record 208 of Set 1 | sakaiminato\n",
      "Processing Record 209 of Set 1 | aklavik\n",
      "Processing Record 210 of Set 1 | toktogul\n",
      "Processing Record 211 of Set 1 | agadez\n",
      "Processing Record 212 of Set 1 | concepcion\n",
      "Processing Record 213 of Set 1 | sakyla\n",
      "City not found.....skipping\n",
      "Processing Record 215 of Set 1 | jamestown\n",
      "Processing Record 216 of Set 1 | pevek\n",
      "Processing Record 217 of Set 1 | milton keynes\n",
      "Processing Record 218 of Set 1 | mount gambier\n",
      "Processing Record 219 of Set 1 | viedma\n",
      "Processing Record 220 of Set 1 | port elizabeth\n",
      "City not found.....skipping\n",
      "Processing Record 222 of Set 1 | san lorenzo\n",
      "Processing Record 223 of Set 1 | san jeronimo\n",
      "Processing Record 224 of Set 1 | verkhnevilyuysk\n",
      "Processing Record 225 of Set 1 | mezhdurechenskiy\n",
      "City not found.....skipping\n",
      "Processing Record 227 of Set 1 | tateyama\n",
      "Processing Record 228 of Set 1 | pangnirtung\n",
      "City not found.....skipping\n",
      "Processing Record 230 of Set 1 | loncoche\n",
      "Processing Record 231 of Set 1 | yellowknife\n",
      "Processing Record 232 of Set 1 | san rafael\n",
      "Processing Record 233 of Set 1 | mattru\n",
      "Processing Record 234 of Set 1 | buala\n",
      "Processing Record 235 of Set 1 | nizhniy kuranakh\n",
      "Processing Record 236 of Set 1 | radovis\n",
      "Processing Record 237 of Set 1 | pisco\n",
      "Processing Record 238 of Set 1 | rio gallegos\n",
      "Processing Record 239 of Set 1 | high level\n",
      "Processing Record 240 of Set 1 | cidreira\n",
      "Processing Record 241 of Set 1 | ovsyanka\n",
      "Processing Record 242 of Set 1 | victoria\n",
      "Processing Record 243 of Set 1 | thompson\n",
      "Processing Record 244 of Set 1 | port augusta\n",
      "Processing Record 245 of Set 1 | lavrentiya\n",
      "Processing Record 246 of Set 1 | clyde river\n",
      "Processing Record 247 of Set 1 | zaysan\n",
      "Processing Record 248 of Set 1 | madison heights\n",
      "Processing Record 249 of Set 1 | la ronge\n",
      "Processing Record 250 of Set 1 | murgab\n",
      "Processing Record 251 of Set 1 | bacolod\n",
      "Processing Record 252 of Set 1 | faanui\n",
      "Processing Record 253 of Set 1 | soto la marina\n",
      "Processing Record 254 of Set 1 | sete lagoas\n",
      "Processing Record 255 of Set 1 | sindor\n",
      "Processing Record 256 of Set 1 | paharpur\n",
      "City not found.....skipping\n",
      "Processing Record 258 of Set 1 | pochutla\n",
      "Processing Record 259 of Set 1 | kavaratti\n",
      "Processing Record 260 of Set 1 | muscat\n",
      "Processing Record 261 of Set 1 | brae\n",
      "Processing Record 262 of Set 1 | lagoa\n",
      "Processing Record 263 of Set 1 | olafsvik\n",
      "Processing Record 264 of Set 1 | sakete\n",
      "Processing Record 265 of Set 1 | upata\n",
      "Processing Record 266 of Set 1 | yulara\n",
      "Processing Record 267 of Set 1 | sechura\n",
      "City not found.....skipping\n",
      "Processing Record 269 of Set 1 | saint-pierre\n",
      "Processing Record 270 of Set 1 | neiafu\n",
      "Processing Record 271 of Set 1 | khor\n",
      "Processing Record 272 of Set 1 | magistralnyy\n",
      "Processing Record 273 of Set 1 | bambous virieux\n",
      "Processing Record 274 of Set 1 | saint-augustin\n",
      "Processing Record 275 of Set 1 | maine-soroa\n",
      "Processing Record 276 of Set 1 | hanzhong\n",
      "Processing Record 277 of Set 1 | eydhafushi\n",
      "Processing Record 278 of Set 1 | irbil\n",
      "Processing Record 279 of Set 1 | belinskiy\n",
      "Processing Record 280 of Set 1 | itoman\n",
      "Processing Record 281 of Set 1 | pasighat\n",
      "Processing Record 282 of Set 1 | pinega\n",
      "Processing Record 283 of Set 1 | buin\n",
      "Processing Record 284 of Set 1 | otaru\n",
      "Processing Record 285 of Set 1 | waipawa\n",
      "Processing Record 286 of Set 1 | moose factory\n",
      "Processing Record 287 of Set 1 | emerald\n",
      "Processing Record 288 of Set 1 | contamana\n",
      "Processing Record 289 of Set 1 | san patricio\n",
      "Processing Record 290 of Set 1 | parry sound\n",
      "Processing Record 291 of Set 1 | silver city\n",
      "Processing Record 292 of Set 1 | kupang\n",
      "Processing Record 293 of Set 1 | owando\n",
      "Processing Record 294 of Set 1 | chengzihe\n",
      "Processing Record 295 of Set 1 | karpogory\n",
      "Processing Record 296 of Set 1 | anloga\n",
      "Processing Record 297 of Set 1 | kruisfontein\n",
      "Processing Record 298 of Set 1 | tilichiki\n",
      "Processing Record 299 of Set 1 | milkovo\n",
      "Processing Record 300 of Set 1 | hithadhoo\n",
      "Processing Record 301 of Set 1 | te anau\n",
      "Processing Record 302 of Set 1 | deputatskiy\n",
      "City not found.....skipping\n",
      "Processing Record 304 of Set 1 | abbeville\n",
      "Processing Record 305 of Set 1 | cap-aux-meules\n",
      "Processing Record 306 of Set 1 | yenagoa\n",
      "Processing Record 307 of Set 1 | cayenne\n",
      "Processing Record 308 of Set 1 | codrington\n",
      "Processing Record 309 of Set 1 | bud\n",
      "Processing Record 310 of Set 1 | svetlyy\n",
      "City not found.....skipping\n",
      "Processing Record 312 of Set 1 | syava\n",
      "Processing Record 313 of Set 1 | yumen\n",
      "Processing Record 314 of Set 1 | rocha\n",
      "City not found.....skipping\n",
      "Processing Record 316 of Set 1 | luderitz\n",
      "Processing Record 317 of Set 1 | atar\n",
      "Processing Record 318 of Set 1 | cabedelo\n",
      "Processing Record 319 of Set 1 | carnarvon\n",
      "Processing Record 320 of Set 1 | nishihara\n",
      "Processing Record 321 of Set 1 | aloleng\n",
      "Processing Record 322 of Set 1 | kalmunai\n",
      "City not found.....skipping\n",
      "Processing Record 324 of Set 1 | batamshinskiy\n",
      "Processing Record 325 of Set 1 | burnie\n",
      "City not found.....skipping\n",
      "Processing Record 327 of Set 1 | nyurba\n",
      "Processing Record 328 of Set 1 | havoysund\n",
      "Processing Record 329 of Set 1 | teya\n",
      "Processing Record 330 of Set 1 | severo-kurilsk\n",
      "Processing Record 331 of Set 1 | kota belud\n",
      "Processing Record 332 of Set 1 | yatou\n",
      "Processing Record 333 of Set 1 | solnechnyy\n",
      "Processing Record 334 of Set 1 | palu\n",
      "Processing Record 335 of Set 1 | egvekinot\n",
      "Processing Record 336 of Set 1 | kinablangan\n",
      "Processing Record 337 of Set 1 | shahe\n",
      "Processing Record 338 of Set 1 | tazmalt\n",
      "Processing Record 339 of Set 1 | iskenderun\n",
      "Processing Record 340 of Set 1 | shizunai\n",
      "City not found.....skipping\n",
      "Processing Record 342 of Set 1 | komarno\n",
      "Processing Record 343 of Set 1 | konde\n",
      "Processing Record 344 of Set 1 | bundaberg\n",
      "City not found.....skipping\n",
      "Processing Record 346 of Set 1 | college\n",
      "Processing Record 347 of Set 1 | arinos\n",
      "Processing Record 348 of Set 1 | moshi\n",
      "Processing Record 349 of Set 1 | kansanshi\n",
      "Processing Record 350 of Set 1 | salta\n",
      "Processing Record 351 of Set 1 | tahta\n",
      "Processing Record 352 of Set 1 | goulburn\n",
      "Processing Record 353 of Set 1 | fortuna\n",
      "City not found.....skipping\n",
      "Processing Record 355 of Set 1 | brunsbuttel\n",
      "Processing Record 356 of Set 1 | san policarpo\n",
      "City not found.....skipping\n",
      "Processing Record 358 of Set 1 | pasco\n",
      "Processing Record 359 of Set 1 | la libertad\n",
      "Processing Record 360 of Set 1 | smidovich\n",
      "Processing Record 361 of Set 1 | meulaboh\n",
      "Processing Record 362 of Set 1 | laguna\n",
      "Processing Record 363 of Set 1 | arcachon\n",
      "Processing Record 364 of Set 1 | cananeia\n",
      "Processing Record 365 of Set 1 | inuvik\n",
      "Processing Record 366 of Set 1 | deer lake\n",
      "Processing Record 367 of Set 1 | isoka\n",
      "Processing Record 368 of Set 1 | terrace\n",
      "Processing Record 369 of Set 1 | ilulissat\n",
      "Processing Record 370 of Set 1 | chabahar\n",
      "Processing Record 371 of Set 1 | pimenta bueno\n",
      "Processing Record 372 of Set 1 | blagoyevo\n",
      "Processing Record 373 of Set 1 | sandnessjoen\n",
      "Processing Record 374 of Set 1 | opuwo\n",
      "Processing Record 375 of Set 1 | naryan-mar\n",
      "Processing Record 376 of Set 1 | sao miguel\n",
      "Processing Record 377 of Set 1 | flinders\n",
      "Processing Record 378 of Set 1 | port-gentil\n",
      "Processing Record 379 of Set 1 | akdepe\n",
      "Processing Record 380 of Set 1 | cabangahan\n",
      "Processing Record 381 of Set 1 | baiyin\n",
      "Processing Record 382 of Set 1 | frutal\n",
      "Processing Record 383 of Set 1 | tashtagol\n",
      "Processing Record 384 of Set 1 | cockburn town\n",
      "Processing Record 385 of Set 1 | skibbereen\n",
      "Processing Record 386 of Set 1 | raudeberg\n",
      "Processing Record 387 of Set 1 | traiguen\n",
      "Processing Record 388 of Set 1 | methoni\n",
      "Processing Record 389 of Set 1 | yerbogachen\n",
      "Processing Record 390 of Set 1 | carutapera\n",
      "Processing Record 391 of Set 1 | liverpool\n",
      "Processing Record 392 of Set 1 | ulladulla\n",
      "Processing Record 393 of Set 1 | anchorage\n",
      "Processing Record 394 of Set 1 | anadyr\n",
      "Processing Record 395 of Set 1 | mocuba\n",
      "Processing Record 396 of Set 1 | mount isa\n",
      "Processing Record 397 of Set 1 | dong hoi\n",
      "Processing Record 398 of Set 1 | shakiso\n",
      "Processing Record 399 of Set 1 | souillac\n",
      "Processing Record 400 of Set 1 | kimbe\n",
      "Processing Record 401 of Set 1 | necochea\n",
      "Processing Record 402 of Set 1 | straumen\n",
      "Processing Record 403 of Set 1 | beringovskiy\n",
      "City not found.....skipping\n",
      "Processing Record 405 of Set 1 | chickasha\n"
     ]
    },
    {
     "name": "stdout",
     "output_type": "stream",
     "text": [
      "Processing Record 406 of Set 1 | livingston\n",
      "City not found.....skipping\n",
      "Processing Record 408 of Set 1 | vermilion\n",
      "Processing Record 409 of Set 1 | slyudyanka\n",
      "Processing Record 410 of Set 1 | arlit\n",
      "Processing Record 411 of Set 1 | barranquilla\n",
      "Processing Record 412 of Set 1 | chaihe\n",
      "Processing Record 413 of Set 1 | hazorasp\n",
      "Processing Record 414 of Set 1 | tamandare\n",
      "Processing Record 415 of Set 1 | lexington\n",
      "Processing Record 416 of Set 1 | abrau-dyurso\n",
      "Processing Record 417 of Set 1 | port moresby\n",
      "Processing Record 418 of Set 1 | caravelas\n",
      "Processing Record 419 of Set 1 | hamilton\n",
      "Processing Record 420 of Set 1 | cheremukhovo\n",
      "Processing Record 421 of Set 1 | vestmannaeyjar\n",
      "Processing Record 422 of Set 1 | roros\n",
      "Processing Record 423 of Set 1 | iskateley\n",
      "Processing Record 424 of Set 1 | miri\n",
      "City not found.....skipping\n",
      "City not found.....skipping\n",
      "Processing Record 427 of Set 1 | aquiraz\n",
      "Processing Record 428 of Set 1 | dimona\n",
      "Processing Record 429 of Set 1 | mehamn\n",
      "City not found.....skipping\n",
      "Processing Record 431 of Set 1 | guerrero negro\n",
      "Processing Record 432 of Set 1 | shache\n",
      "Processing Record 433 of Set 1 | horta\n",
      "Processing Record 434 of Set 1 | dunedin\n",
      "Processing Record 435 of Set 1 | byron bay\n",
      "Processing Record 436 of Set 1 | lebu\n",
      "Processing Record 437 of Set 1 | kurchum\n",
      "Processing Record 438 of Set 1 | hagi\n",
      "Processing Record 439 of Set 1 | bayanday\n",
      "Processing Record 440 of Set 1 | abapo\n",
      "City not found.....skipping\n",
      "Processing Record 442 of Set 1 | kamaishi\n",
      "Processing Record 443 of Set 1 | ust-tsilma\n",
      "Processing Record 444 of Set 1 | tondano\n",
      "Processing Record 445 of Set 1 | luganville\n",
      "City not found.....skipping\n",
      "Processing Record 447 of Set 1 | ono\n",
      "Processing Record 448 of Set 1 | auki\n",
      "Processing Record 449 of Set 1 | nisia floresta\n",
      "Processing Record 450 of Set 1 | saint-joseph\n",
      "Processing Record 451 of Set 1 | leshukonskoye\n",
      "Processing Record 452 of Set 1 | griffith\n",
      "Processing Record 453 of Set 1 | shingu\n",
      "Processing Record 454 of Set 1 | bayangol\n",
      "Processing Record 455 of Set 1 | puerto del rosario\n",
      "Processing Record 456 of Set 1 | vilhena\n",
      "Processing Record 457 of Set 1 | champasak\n",
      "Processing Record 458 of Set 1 | butembo\n",
      "Processing Record 459 of Set 1 | changji\n",
      "Processing Record 460 of Set 1 | jumla\n",
      "Processing Record 461 of Set 1 | omboue\n",
      "Processing Record 462 of Set 1 | bereda\n",
      "City not found.....skipping\n",
      "Processing Record 464 of Set 1 | tevriz\n",
      "Processing Record 465 of Set 1 | tezu\n",
      "Processing Record 466 of Set 1 | soyo\n",
      "Processing Record 467 of Set 1 | fort nelson\n",
      "Processing Record 468 of Set 1 | litovko\n",
      "Processing Record 469 of Set 1 | morant bay\n",
      "Processing Record 470 of Set 1 | lisala\n",
      "Processing Record 471 of Set 1 | puerto escondido\n",
      "Processing Record 472 of Set 1 | nuuk\n",
      "Processing Record 473 of Set 1 | gravdal\n",
      "Processing Record 474 of Set 1 | lovington\n",
      "Processing Record 475 of Set 1 | avera\n",
      "Processing Record 476 of Set 1 | ukiah\n",
      "Processing Record 477 of Set 1 | coahuayana\n",
      "Processing Record 478 of Set 1 | klaksvik\n",
      "Processing Record 479 of Set 1 | paramonga\n",
      "Processing Record 480 of Set 1 | kataysk\n",
      "Processing Record 481 of Set 1 | pestovo\n",
      "Processing Record 482 of Set 1 | naldurg\n",
      "Processing Record 483 of Set 1 | matara\n",
      "Processing Record 484 of Set 1 | port-cartier\n",
      "Processing Record 485 of Set 1 | cabo san lucas\n",
      "Processing Record 486 of Set 1 | ibra\n",
      "Processing Record 487 of Set 1 | ixtapa\n",
      "Processing Record 488 of Set 1 | mosetse\n",
      "Processing Record 489 of Set 1 | praia da vitoria\n",
      "Processing Record 490 of Set 1 | pleshanovo\n",
      "Processing Record 491 of Set 1 | thunder bay\n",
      "City not found.....skipping\n",
      "Processing Record 493 of Set 1 | iisalmi\n",
      "Processing Record 494 of Set 1 | agirish\n",
      "Processing Record 495 of Set 1 | roma\n",
      "Processing Record 496 of Set 1 | stykkisholmur\n",
      "Processing Record 497 of Set 1 | saint george\n",
      "Processing Record 498 of Set 1 | bodden town\n",
      "Processing Record 499 of Set 1 | guilin\n",
      "Processing Record 500 of Set 1 | dutlwe\n",
      "Processing Record 501 of Set 1 | bougouni\n",
      "Processing Record 502 of Set 1 | conroe\n",
      "Processing Record 503 of Set 1 | raboso\n",
      "Processing Record 504 of Set 1 | abashiri\n",
      "Processing Record 505 of Set 1 | najran\n",
      "Processing Record 506 of Set 1 | filingue\n",
      "Processing Record 507 of Set 1 | mortka\n",
      "Processing Record 508 of Set 1 | telma\n",
      "Processing Record 509 of Set 1 | kidal\n",
      "Processing Record 510 of Set 1 | iqaluit\n",
      "Processing Record 511 of Set 1 | marzuq\n",
      "Processing Record 512 of Set 1 | sibolga\n",
      "Processing Record 513 of Set 1 | verkhnetulomskiy\n",
      "Processing Record 514 of Set 1 | pregradnaya\n",
      "Processing Record 515 of Set 1 | takoradi\n",
      "Processing Record 516 of Set 1 | diapaga\n",
      "Processing Record 517 of Set 1 | moussoro\n",
      "Processing Record 518 of Set 1 | ribeira grande\n",
      "Processing Record 519 of Set 1 | kosh-agach\n",
      "Processing Record 520 of Set 1 | general roca\n",
      "Processing Record 521 of Set 1 | vitim\n",
      "Processing Record 522 of Set 1 | kambi\n",
      "Processing Record 523 of Set 1 | daska\n",
      "Processing Record 524 of Set 1 | ilebo\n",
      "Processing Record 525 of Set 1 | namibe\n",
      "Processing Record 526 of Set 1 | datong\n",
      "Processing Record 527 of Set 1 | anupgarh\n",
      "Processing Record 528 of Set 1 | galveston\n",
      "Processing Record 529 of Set 1 | kondinskoye\n",
      "Processing Record 530 of Set 1 | chara\n",
      "Processing Record 531 of Set 1 | peniche\n",
      "Processing Record 532 of Set 1 | tucurui\n",
      "Processing Record 533 of Set 1 | katsuura\n",
      "Processing Record 534 of Set 1 | ankazoabo\n",
      "Processing Record 535 of Set 1 | chapais\n",
      "Processing Record 536 of Set 1 | plettenberg bay\n",
      "Processing Record 537 of Set 1 | yar-sale\n",
      "Processing Record 538 of Set 1 | mpika\n",
      "Processing Record 539 of Set 1 | dandong\n",
      "Processing Record 540 of Set 1 | berlevag\n",
      "Processing Record 541 of Set 1 | mukhen\n",
      "Processing Record 542 of Set 1 | ust-maya\n",
      "Processing Record 543 of Set 1 | totma\n",
      "Processing Record 544 of Set 1 | aasiaat\n",
      "City not found.....skipping\n",
      "Processing Record 546 of Set 1 | udachnyy\n",
      "Processing Record 547 of Set 1 | mbarara\n",
      "City not found.....skipping\n",
      "Processing Record 549 of Set 1 | nizwa\n",
      "Processing Record 550 of Set 1 | sierra vista\n",
      "Processing Record 551 of Set 1 | salacgriva\n",
      "Processing Record 552 of Set 1 | jijiga\n",
      "Processing Record 553 of Set 1 | nouakchott\n",
      "Processing Record 554 of Set 1 | naziya\n",
      "Processing Record 555 of Set 1 | hede\n",
      "Processing Record 556 of Set 1 | los llanos de aridane\n",
      "Processing Record 557 of Set 1 | sabzevar\n",
      "Processing Record 558 of Set 1 | paamiut\n",
      "Processing Record 559 of Set 1 | mizan teferi\n",
      "City not found.....skipping\n",
      "Processing Record 561 of Set 1 | cutervo\n",
      "Processing Record 562 of Set 1 | broome\n",
      "Processing Record 563 of Set 1 | svetlogorsk\n",
      "Processing Record 564 of Set 1 | kuna\n",
      "Processing Record 565 of Set 1 | vung tau\n",
      "Processing Record 566 of Set 1 | coquimbo\n",
      "Processing Record 567 of Set 1 | caucaia\n",
      "Processing Record 568 of Set 1 | aswan\n",
      "Processing Record 569 of Set 1 | blind river\n",
      "Processing Record 570 of Set 1 | magadan\n",
      "Processing Record 571 of Set 1 | langres\n",
      "Processing Record 572 of Set 1 | abhar\n",
      "Processing Record 573 of Set 1 | trelew\n",
      "Processing Record 574 of Set 1 | brigantine\n",
      "Processing Record 575 of Set 1 | swan hill\n",
      "Processing Record 576 of Set 1 | qui nhon\n",
      "Processing Record 577 of Set 1 | kattivakkam\n",
      "Processing Record 578 of Set 1 | geraldton\n",
      "Processing Record 579 of Set 1 | joao monlevade\n",
      "Processing Record 580 of Set 1 | khoy\n",
      "Processing Record 581 of Set 1 | hualmay\n",
      "Processing Record 582 of Set 1 | awjilah\n",
      "Processing Record 583 of Set 1 | kpandu\n",
      "Processing Record 584 of Set 1 | sao joao da barra\n",
      "Processing Record 585 of Set 1 | manado\n",
      "Processing Record 586 of Set 1 | palmer\n",
      "Processing Record 587 of Set 1 | taltal\n",
      "Processing Record 588 of Set 1 | tessalit\n",
      "Processing Record 589 of Set 1 | mao\n",
      "Processing Record 590 of Set 1 | severo-yeniseyskiy\n",
      "Processing Record 591 of Set 1 | san cristobal\n",
      "Processing Record 592 of Set 1 | zhigansk\n",
      "Processing Record 593 of Set 1 | mezen\n",
      "Processing Record 594 of Set 1 | esmeralda\n",
      "Processing Record 595 of Set 1 | boulsa\n",
      "Processing Record 596 of Set 1 | arauca\n",
      "Processing Record 597 of Set 1 | nara\n",
      "Processing Record 598 of Set 1 | alice springs\n",
      "City not found.....skipping\n",
      "Processing Record 600 of Set 1 | kenai\n",
      "Processing Record 601 of Set 1 | veraval\n",
      "City not found.....skipping\n",
      "Processing Record 603 of Set 1 | jhinjhak\n",
      "Processing Record 604 of Set 1 | lai\n",
      "Processing Record 605 of Set 1 | aroeiras\n"
     ]
    },
    {
     "name": "stdout",
     "output_type": "stream",
     "text": [
      "Processing Record 606 of Set 1 | miraflores\n",
      "Processing Record 607 of Set 1 | mogoytuy\n",
      "Processing Record 608 of Set 1 | quatre cocos\n",
      "Processing Record 609 of Set 1 | valdobbiadene\n",
      "Processing Record 610 of Set 1 | buchanan\n",
      "Processing Record 611 of Set 1 | ganzhou\n",
      "City not found.....skipping\n",
      "Processing Record 613 of Set 1 | bahia blanca\n",
      "City not found.....skipping\n",
      "Processing Record 615 of Set 1 | husavik\n",
      "Processing Record 616 of Set 1 | maniitsoq\n",
      "Processing Record 617 of Set 1 | ketchikan\n",
      "Processing Record 618 of Set 1 | praia\n",
      "Processing Record 619 of Set 1 | constitucion\n",
      "City not found.....skipping\n",
      "Processing Record 621 of Set 1 | imbituba\n",
      "Processing Record 622 of Set 1 | vyshhorod\n",
      "Processing Record 623 of Set 1 | fairbanks\n",
      "Processing Record 624 of Set 1 | nanortalik\n",
      "Processing Record 625 of Set 1 | flin flon\n",
      "Processing Record 626 of Set 1 | mancora\n",
      "Processing Record 627 of Set 1 | barcelos\n",
      "Processing Record 628 of Set 1 | pangai\n",
      "Processing Record 629 of Set 1 | cogtong\n",
      "Processing Record 630 of Set 1 | praxedis guerrero\n",
      "Processing Record 631 of Set 1 | bela\n",
      "Processing Record 632 of Set 1 | benghazi\n",
      "Processing Record 633 of Set 1 | kutum\n",
      "Beginning Data Retrieval\n",
      "-----------------------------\n"
     ]
    }
   ],
   "source": [
    "# set up lists to hold reponse info (will be used for df)...city already done in previous code\n",
    "cityName = []\n",
    "clouds = []\n",
    "country = []\n",
    "date = []\n",
    "humidity = []\n",
    "lat = []\n",
    "long = []\n",
    "max_temp = []\n",
    "wind_speed = []\n",
    "\n",
    "\n",
    "# Loop through the list of cities and perform a request for data on each\n",
    "set_count = 0\n",
    "start_count = 49\n",
    "\n",
    "for count, city in enumerate(cities,1):\n",
    "    try:\n",
    "        response = requests.get(query_url + city).json()\n",
    "        cityName.append(response[\"name\"])\n",
    "        clouds.append(response[\"clouds\"][\"all\"])\n",
    "        country.append(response[\"sys\"][\"country\"])\n",
    "        date.append(response[\"dt\"])\n",
    "        humidity.append(response[\"main\"][\"humidity\"])\n",
    "        lat.append(response[\"coord\"][\"lat\"])\n",
    "        long.append(response[\"coord\"][\"lon\"])\n",
    "        max_temp.append(response[\"main\"][\"temp_max\"])\n",
    "        wind_speed.append(response[\"wind\"][\"speed\"])\n",
    "        if count/50==set_count+1:\n",
    "            set_count=set_count+1\n",
    "        print(f\"Processing Record {count} of Set {set_count} | {city}\")\n",
    "    except:\n",
    "        print(f\"City not found.....skipping\")\n",
    "print(f\"Beginning Data Retrieval\")\n",
    "print(f\"-----------------------------\")"
   ]
  },
  {
   "cell_type": "code",
   "execution_count": null,
   "metadata": {},
   "outputs": [],
   "source": [
    "response = requests.get(query_url + \"kassala\").json()\n",
    "#print(json.dumps(response, indent=4, sort_keys=True))"
   ]
  },
  {
   "cell_type": "code",
   "execution_count": 11,
   "metadata": {},
   "outputs": [
    {
     "data": {
      "text/html": [
       "<div>\n",
       "<style scoped>\n",
       "    .dataframe tbody tr th:only-of-type {\n",
       "        vertical-align: middle;\n",
       "    }\n",
       "\n",
       "    .dataframe tbody tr th {\n",
       "        vertical-align: top;\n",
       "    }\n",
       "\n",
       "    .dataframe thead th {\n",
       "        text-align: right;\n",
       "    }\n",
       "</style>\n",
       "<table border=\"1\" class=\"dataframe\">\n",
       "  <thead>\n",
       "    <tr style=\"text-align: right;\">\n",
       "      <th></th>\n",
       "      <th>City</th>\n",
       "      <th>Cloudiness</th>\n",
       "      <th>Country</th>\n",
       "      <th>Date</th>\n",
       "      <th>Humidity</th>\n",
       "      <th>Lat</th>\n",
       "      <th>Lng</th>\n",
       "      <th>Max Temp</th>\n",
       "      <th>Wind Speed</th>\n",
       "    </tr>\n",
       "  </thead>\n",
       "  <tbody>\n",
       "    <tr>\n",
       "      <td>0</td>\n",
       "      <td>Busselton</td>\n",
       "      <td>1</td>\n",
       "      <td>AU</td>\n",
       "      <td>1579985335</td>\n",
       "      <td>60</td>\n",
       "      <td>-33.65</td>\n",
       "      <td>115.33</td>\n",
       "      <td>18.33</td>\n",
       "      <td>4.29</td>\n",
       "    </tr>\n",
       "    <tr>\n",
       "      <td>1</td>\n",
       "      <td>Barrow</td>\n",
       "      <td>1</td>\n",
       "      <td>US</td>\n",
       "      <td>1579985335</td>\n",
       "      <td>74</td>\n",
       "      <td>71.29</td>\n",
       "      <td>-156.79</td>\n",
       "      <td>-30.00</td>\n",
       "      <td>3.60</td>\n",
       "    </tr>\n",
       "    <tr>\n",
       "      <td>2</td>\n",
       "      <td>Philadelphia</td>\n",
       "      <td>94</td>\n",
       "      <td>US</td>\n",
       "      <td>1579985165</td>\n",
       "      <td>89</td>\n",
       "      <td>39.95</td>\n",
       "      <td>-75.16</td>\n",
       "      <td>12.22</td>\n",
       "      <td>1.34</td>\n",
       "    </tr>\n",
       "    <tr>\n",
       "      <td>3</td>\n",
       "      <td>Saldanha</td>\n",
       "      <td>33</td>\n",
       "      <td>ZA</td>\n",
       "      <td>1579985251</td>\n",
       "      <td>88</td>\n",
       "      <td>-33.01</td>\n",
       "      <td>17.94</td>\n",
       "      <td>17.49</td>\n",
       "      <td>3.14</td>\n",
       "    </tr>\n",
       "    <tr>\n",
       "      <td>4</td>\n",
       "      <td>Vila Velha</td>\n",
       "      <td>100</td>\n",
       "      <td>BR</td>\n",
       "      <td>1579985111</td>\n",
       "      <td>78</td>\n",
       "      <td>-20.33</td>\n",
       "      <td>-40.29</td>\n",
       "      <td>25.00</td>\n",
       "      <td>1.44</td>\n",
       "    </tr>\n",
       "  </tbody>\n",
       "</table>\n",
       "</div>"
      ],
      "text/plain": [
       "           City  Cloudiness Country        Date  Humidity    Lat     Lng  \\\n",
       "0     Busselton           1      AU  1579985335        60 -33.65  115.33   \n",
       "1        Barrow           1      US  1579985335        74  71.29 -156.79   \n",
       "2  Philadelphia          94      US  1579985165        89  39.95  -75.16   \n",
       "3      Saldanha          33      ZA  1579985251        88 -33.01   17.94   \n",
       "4    Vila Velha         100      BR  1579985111        78 -20.33  -40.29   \n",
       "\n",
       "   Max Temp  Wind Speed  \n",
       "0     18.33        4.29  \n",
       "1    -30.00        3.60  \n",
       "2     12.22        1.34  \n",
       "3     17.49        3.14  \n",
       "4     25.00        1.44  "
      ]
     },
     "execution_count": 11,
     "metadata": {},
     "output_type": "execute_result"
    }
   ],
   "source": [
    "# create a data frame from cities, lat, and temp\n",
    "weather_dict = {\n",
    "    \"City\": cityName,\n",
    "    \"Cloudiness\": clouds,\n",
    "    \"Country\": country,\n",
    "    \"Date\": date,\n",
    "    \"Humidity\": humidity,\n",
    "    \"Lat\": lat,\n",
    "    \"Lng\": long,\n",
    "    \"Max Temp\": max_temp,\n",
    "    \"Wind Speed\": wind_speed\n",
    "}\n",
    "weather_data = pd.DataFrame(weather_dict)\n",
    "weather_data.head()"
   ]
  },
  {
   "cell_type": "code",
   "execution_count": 12,
   "metadata": {},
   "outputs": [],
   "source": [
    "weather_data.to_csv(\"weatherOutput.csv\", index=False, header=True)"
   ]
  },
  {
   "cell_type": "code",
   "execution_count": 93,
   "metadata": {},
   "outputs": [
    {
     "data": {
      "image/png": "[encoded data removed]",
      "text/plain": [
       "<Figure size 432x288 with 1 Axes>"
      ]
     },
     "metadata": {
      "needs_background": "light"
     },
     "output_type": "display_data"
    },
    {
     "data": {
      "text/plain": [
       "<function matplotlib.pyplot.show(*args, **kw)>"
      ]
     },
     "execution_count": 93,
     "metadata": {},
     "output_type": "execute_result"
    },
    {
     "data": {
      "text/plain": [
       "<Figure size 432x288 with 0 Axes>"
      ]
     },
     "metadata": {},
     "output_type": "display_data"
    }
   ],
   "source": [
    "#scatter plot lat vs temp\n",
    "x_axis = weather_data['Lat']\n",
    "\n",
    "# Create a list of data that we will use for our y values\n",
    "y_axis = weather_data['Max Temp']\n",
    "\n",
    "# The size of each point on our plot is determined by their x value\n",
    "plt.scatter(x_axis, y_axis, marker=\"o\", facecolors=\"red\", edgecolors=\"black\",\n",
    "           alpha=0.75)\n",
    "plt.title(\"City Latitude vs Max Tempurature\")\n",
    "plt.ylabel(\"Max Temperature (F)\")\n",
    "plt.xlabel(\"City Latitude\")\n",
    "plt.show()\n",
    "\n",
    "#save chart to a .png file\n",
    "plt.savefig(\"cityLat_vs_windSpeed.png\")\n",
    "plt.show"
   ]
  },
  {
   "cell_type": "code",
   "execution_count": 94,
   "metadata": {},
   "outputs": [
    {
     "data": {
      "image/png": "[encoded data removed]",
      "text/plain": [
       "<Figure size 432x288 with 1 Axes>"
      ]
     },
     "metadata": {
      "needs_background": "light"
     },
     "output_type": "display_data"
    },
    {
     "data": {
      "text/plain": [
       "<function matplotlib.pyplot.show(*args, **kw)>"
      ]
     },
     "execution_count": 94,
     "metadata": {},
     "output_type": "execute_result"
    },
    {
     "data": {
      "text/plain": [
       "<Figure size 432x288 with 0 Axes>"
      ]
     },
     "metadata": {},
     "output_type": "display_data"
    }
   ],
   "source": [
    "#scatter plot lat vs temp\n",
    "x_axis = weather_data['Lat']\n",
    "\n",
    "# Create a list of data that we will use for our y values\n",
    "y_axis = weather_data['Humidity']\n",
    "\n",
    "# The size of each point on our plot is determined by their x value\n",
    "plt.scatter(x_axis, y_axis, marker=\"o\", facecolors=\"red\", edgecolors=\"black\",\n",
    "           alpha=0.75)\n",
    "plt.title(\"City Latitude vs Humidity\")\n",
    "plt.ylabel(\"Humidity\")\n",
    "plt.xlabel(\"City Latitude\")\n",
    "plt.show()\n",
    "\n",
    "#save chart to a .png file\n",
    "plt.savefig(\"cityLat_vs_humidity.png\")\n",
    "plt.show"
   ]
  },
  {
   "cell_type": "code",
   "execution_count": 95,
   "metadata": {},
   "outputs": [
    {
     "data": {
      "image/png": "[encoded data removed]",
      "text/plain": [
       "<Figure size 432x288 with 1 Axes>"
      ]
     },
     "metadata": {
      "needs_background": "light"
     },
     "output_type": "display_data"
    },
    {
     "data": {
      "text/plain": [
       "<function matplotlib.pyplot.show(*args, **kw)>"
      ]
     },
     "execution_count": 95,
     "metadata": {},
     "output_type": "execute_result"
    },
    {
     "data": {
      "text/plain": [
       "<Figure size 432x288 with 0 Axes>"
      ]
     },
     "metadata": {},
     "output_type": "display_data"
    }
   ],
   "source": [
    "#scatter plot lat vs cloudiness\n",
    "x_axis = weather_data['Lat']\n",
    "\n",
    "# Create a list of data that we will use for our y values\n",
    "y_axis = weather_data['Cloudiness']\n",
    "\n",
    "# The size of each point on our plot is determined by their x value\n",
    "plt.scatter(x_axis, y_axis, marker=\"o\", facecolors=\"red\", edgecolors=\"black\",\n",
    "           alpha=0.75)\n",
    "plt.title(\"City Latitude vs Coudiness\")\n",
    "plt.ylabel(\"Humidity\")\n",
    "plt.xlabel(\"City Latitude\")\n",
    "plt.show()\n",
    "\n",
    "#save chart to a .png file\n",
    "plt.savefig(\"cityLat_vs_cloudiness.png\")\n",
    "plt.show"
   ]
  },
  {
   "cell_type": "code",
   "execution_count": 96,
   "metadata": {},
   "outputs": [
    {
     "data": {
      "image/png": "[encoded data removed]",
      "text/plain": [
       "<Figure size 432x288 with 1 Axes>"
      ]
     },
     "metadata": {
      "needs_background": "light"
     },
     "output_type": "display_data"
    },
    {
     "data": {
      "text/plain": [
       "<function matplotlib.pyplot.show(*args, **kw)>"
      ]
     },
     "execution_count": 96,
     "metadata": {},
     "output_type": "execute_result"
    },
    {
     "data": {
      "text/plain": [
       "<Figure size 432x288 with 0 Axes>"
      ]
     },
     "metadata": {},
     "output_type": "display_data"
    }
   ],
   "source": [
    "#scatter plot lat vs cloudiness\n",
    "x_axis = weather_data['Lat']\n",
    "\n",
    "# Create a list of data that we will use for our y values\n",
    "y_axis = weather_data['Wind Speed']\n",
    "\n",
    "# The size of each point on our plot is determined by their x value\n",
    "plt.scatter(x_axis, y_axis, marker=\"o\", facecolors=\"red\", edgecolors=\"black\",\n",
    "           alpha=0.75)\n",
    "plt.title(\"City Latitude vs Wind Speed\")\n",
    "plt.ylabel(\"Wind Speed\")\n",
    "plt.xlabel(\"City Latitude\")\n",
    "plt.show()\n",
    "\n",
    "#save chart to a .png file\n",
    "plt.savefig(\"cityLat_vs_windSpeed.png\")\n",
    "plt.show"
   ]
  },
  {
   "cell_type": "code",
   "execution_count": 26,
   "metadata": {},
   "outputs": [
    {
     "data": {
      "text/html": [
       "<div>\n",
       "<style scoped>\n",
       "    .dataframe tbody tr th:only-of-type {\n",
       "        vertical-align: middle;\n",
       "    }\n",
       "\n",
       "    .dataframe tbody tr th {\n",
       "        vertical-align: top;\n",
       "    }\n",
       "\n",
       "    .dataframe thead th {\n",
       "        text-align: right;\n",
       "    }\n",
       "</style>\n",
       "<table border=\"1\" class=\"dataframe\">\n",
       "  <thead>\n",
       "    <tr style=\"text-align: right;\">\n",
       "      <th></th>\n",
       "      <th>City</th>\n",
       "      <th>Cloudiness</th>\n",
       "      <th>Country</th>\n",
       "      <th>Date</th>\n",
       "      <th>Humidity</th>\n",
       "      <th>Lat</th>\n",
       "      <th>Lng</th>\n",
       "      <th>Max Temp</th>\n",
       "      <th>Wind Speed</th>\n",
       "    </tr>\n",
       "  </thead>\n",
       "  <tbody>\n",
       "    <tr>\n",
       "      <td>1</td>\n",
       "      <td>Barrow</td>\n",
       "      <td>1</td>\n",
       "      <td>US</td>\n",
       "      <td>1579985335</td>\n",
       "      <td>74</td>\n",
       "      <td>71.29</td>\n",
       "      <td>-156.79</td>\n",
       "      <td>-30.00</td>\n",
       "      <td>3.60</td>\n",
       "    </tr>\n",
       "    <tr>\n",
       "      <td>2</td>\n",
       "      <td>Philadelphia</td>\n",
       "      <td>94</td>\n",
       "      <td>US</td>\n",
       "      <td>1579985165</td>\n",
       "      <td>89</td>\n",
       "      <td>39.95</td>\n",
       "      <td>-75.16</td>\n",
       "      <td>12.22</td>\n",
       "      <td>1.34</td>\n",
       "    </tr>\n",
       "    <tr>\n",
       "      <td>5</td>\n",
       "      <td>Turukhansk</td>\n",
       "      <td>97</td>\n",
       "      <td>RU</td>\n",
       "      <td>1579985335</td>\n",
       "      <td>94</td>\n",
       "      <td>65.82</td>\n",
       "      <td>87.98</td>\n",
       "      <td>-15.69</td>\n",
       "      <td>0.89</td>\n",
       "    </tr>\n",
       "    <tr>\n",
       "      <td>7</td>\n",
       "      <td>Buraidah</td>\n",
       "      <td>0</td>\n",
       "      <td>SA</td>\n",
       "      <td>1579985142</td>\n",
       "      <td>45</td>\n",
       "      <td>26.33</td>\n",
       "      <td>43.98</td>\n",
       "      <td>5.93</td>\n",
       "      <td>4.79</td>\n",
       "    </tr>\n",
       "    <tr>\n",
       "      <td>8</td>\n",
       "      <td>Kodiak</td>\n",
       "      <td>80</td>\n",
       "      <td>US</td>\n",
       "      <td>1579985336</td>\n",
       "      <td>81</td>\n",
       "      <td>57.79</td>\n",
       "      <td>-152.41</td>\n",
       "      <td>-6.94</td>\n",
       "      <td>10.58</td>\n",
       "    </tr>\n",
       "    <tr>\n",
       "      <td>...</td>\n",
       "      <td>...</td>\n",
       "      <td>...</td>\n",
       "      <td>...</td>\n",
       "      <td>...</td>\n",
       "      <td>...</td>\n",
       "      <td>...</td>\n",
       "      <td>...</td>\n",
       "      <td>...</td>\n",
       "      <td>...</td>\n",
       "    </tr>\n",
       "    <tr>\n",
       "      <td>575</td>\n",
       "      <td>Cogtong</td>\n",
       "      <td>1</td>\n",
       "      <td>PH</td>\n",
       "      <td>1579985406</td>\n",
       "      <td>86</td>\n",
       "      <td>9.84</td>\n",
       "      <td>124.53</td>\n",
       "      <td>25.81</td>\n",
       "      <td>3.66</td>\n",
       "    </tr>\n",
       "    <tr>\n",
       "      <td>576</td>\n",
       "      <td>Praxedis Guerrero</td>\n",
       "      <td>0</td>\n",
       "      <td>MX</td>\n",
       "      <td>1579985406</td>\n",
       "      <td>30</td>\n",
       "      <td>31.37</td>\n",
       "      <td>-106.02</td>\n",
       "      <td>17.22</td>\n",
       "      <td>1.34</td>\n",
       "    </tr>\n",
       "    <tr>\n",
       "      <td>577</td>\n",
       "      <td>Bela</td>\n",
       "      <td>0</td>\n",
       "      <td>IN</td>\n",
       "      <td>1579985406</td>\n",
       "      <td>67</td>\n",
       "      <td>25.93</td>\n",
       "      <td>81.98</td>\n",
       "      <td>10.18</td>\n",
       "      <td>2.27</td>\n",
       "    </tr>\n",
       "    <tr>\n",
       "      <td>578</td>\n",
       "      <td>Benghazi</td>\n",
       "      <td>56</td>\n",
       "      <td>LY</td>\n",
       "      <td>1579985406</td>\n",
       "      <td>60</td>\n",
       "      <td>32.12</td>\n",
       "      <td>20.07</td>\n",
       "      <td>14.30</td>\n",
       "      <td>7.31</td>\n",
       "    </tr>\n",
       "    <tr>\n",
       "      <td>579</td>\n",
       "      <td>Kutum</td>\n",
       "      <td>0</td>\n",
       "      <td>SD</td>\n",
       "      <td>1579985406</td>\n",
       "      <td>28</td>\n",
       "      <td>14.20</td>\n",
       "      <td>24.67</td>\n",
       "      <td>8.56</td>\n",
       "      <td>3.39</td>\n",
       "    </tr>\n",
       "  </tbody>\n",
       "</table>\n",
       "<p>413 rows × 9 columns</p>\n",
       "</div>"
      ],
      "text/plain": [
       "                  City  Cloudiness Country        Date  Humidity    Lat  \\\n",
       "1               Barrow           1      US  1579985335        74  71.29   \n",
       "2         Philadelphia          94      US  1579985165        89  39.95   \n",
       "5           Turukhansk          97      RU  1579985335        94  65.82   \n",
       "7             Buraidah           0      SA  1579985142        45  26.33   \n",
       "8               Kodiak          80      US  1579985336        81  57.79   \n",
       "..                 ...         ...     ...         ...       ...    ...   \n",
       "575            Cogtong           1      PH  1579985406        86   9.84   \n",
       "576  Praxedis Guerrero           0      MX  1579985406        30  31.37   \n",
       "577               Bela           0      IN  1579985406        67  25.93   \n",
       "578           Benghazi          56      LY  1579985406        60  32.12   \n",
       "579              Kutum           0      SD  1579985406        28  14.20   \n",
       "\n",
       "        Lng  Max Temp  Wind Speed  \n",
       "1   -156.79    -30.00        3.60  \n",
       "2    -75.16     12.22        1.34  \n",
       "5     87.98    -15.69        0.89  \n",
       "7     43.98      5.93        4.79  \n",
       "8   -152.41     -6.94       10.58  \n",
       "..      ...       ...         ...  \n",
       "575  124.53     25.81        3.66  \n",
       "576 -106.02     17.22        1.34  \n",
       "577   81.98     10.18        2.27  \n",
       "578   20.07     14.30        7.31  \n",
       "579   24.67      8.56        3.39  \n",
       "\n",
       "[413 rows x 9 columns]"
      ]
     },
     "execution_count": 26,
     "metadata": {},
     "output_type": "execute_result"
    }
   ],
   "source": [
    "# create Northern Hemisphere\n",
    "northern_df = weather_data[weather_data['Lat']>=0]\n",
    "northern_df"
   ]
  },
  {
   "cell_type": "code",
   "execution_count": 97,
   "metadata": {},
   "outputs": [
    {
     "data": {
      "text/html": [
       "<div>\n",
       "<style scoped>\n",
       "    .dataframe tbody tr th:only-of-type {\n",
       "        vertical-align: middle;\n",
       "    }\n",
       "\n",
       "    .dataframe tbody tr th {\n",
       "        vertical-align: top;\n",
       "    }\n",
       "\n",
       "    .dataframe thead th {\n",
       "        text-align: right;\n",
       "    }\n",
       "</style>\n",
       "<table border=\"1\" class=\"dataframe\">\n",
       "  <thead>\n",
       "    <tr style=\"text-align: right;\">\n",
       "      <th></th>\n",
       "      <th>City</th>\n",
       "      <th>Cloudiness</th>\n",
       "      <th>Country</th>\n",
       "      <th>Date</th>\n",
       "      <th>Humidity</th>\n",
       "      <th>Lat</th>\n",
       "      <th>Lng</th>\n",
       "      <th>Max Temp</th>\n",
       "      <th>Wind Speed</th>\n",
       "    </tr>\n",
       "  </thead>\n",
       "  <tbody>\n",
       "    <tr>\n",
       "      <td>0</td>\n",
       "      <td>Busselton</td>\n",
       "      <td>1</td>\n",
       "      <td>AU</td>\n",
       "      <td>1579985335</td>\n",
       "      <td>60</td>\n",
       "      <td>-33.65</td>\n",
       "      <td>115.33</td>\n",
       "      <td>18.33</td>\n",
       "      <td>4.29</td>\n",
       "    </tr>\n",
       "    <tr>\n",
       "      <td>3</td>\n",
       "      <td>Saldanha</td>\n",
       "      <td>33</td>\n",
       "      <td>ZA</td>\n",
       "      <td>1579985251</td>\n",
       "      <td>88</td>\n",
       "      <td>-33.01</td>\n",
       "      <td>17.94</td>\n",
       "      <td>17.49</td>\n",
       "      <td>3.14</td>\n",
       "    </tr>\n",
       "    <tr>\n",
       "      <td>4</td>\n",
       "      <td>Vila Velha</td>\n",
       "      <td>100</td>\n",
       "      <td>BR</td>\n",
       "      <td>1579985111</td>\n",
       "      <td>78</td>\n",
       "      <td>-20.33</td>\n",
       "      <td>-40.29</td>\n",
       "      <td>25.00</td>\n",
       "      <td>1.44</td>\n",
       "    </tr>\n",
       "    <tr>\n",
       "      <td>6</td>\n",
       "      <td>Kaitangata</td>\n",
       "      <td>91</td>\n",
       "      <td>NZ</td>\n",
       "      <td>1579985335</td>\n",
       "      <td>68</td>\n",
       "      <td>-46.28</td>\n",
       "      <td>169.85</td>\n",
       "      <td>18.33</td>\n",
       "      <td>3.06</td>\n",
       "    </tr>\n",
       "    <tr>\n",
       "      <td>9</td>\n",
       "      <td>Bluff</td>\n",
       "      <td>66</td>\n",
       "      <td>NZ</td>\n",
       "      <td>1579985336</td>\n",
       "      <td>73</td>\n",
       "      <td>-46.60</td>\n",
       "      <td>168.33</td>\n",
       "      <td>18.33</td>\n",
       "      <td>0.45</td>\n",
       "    </tr>\n",
       "    <tr>\n",
       "      <td>...</td>\n",
       "      <td>...</td>\n",
       "      <td>...</td>\n",
       "      <td>...</td>\n",
       "      <td>...</td>\n",
       "      <td>...</td>\n",
       "      <td>...</td>\n",
       "      <td>...</td>\n",
       "      <td>...</td>\n",
       "      <td>...</td>\n",
       "    </tr>\n",
       "    <tr>\n",
       "      <td>561</td>\n",
       "      <td>Bahia Blanca</td>\n",
       "      <td>66</td>\n",
       "      <td>AR</td>\n",
       "      <td>1579985404</td>\n",
       "      <td>25</td>\n",
       "      <td>-38.72</td>\n",
       "      <td>-62.27</td>\n",
       "      <td>28.33</td>\n",
       "      <td>7.03</td>\n",
       "    </tr>\n",
       "    <tr>\n",
       "      <td>566</td>\n",
       "      <td>Constitucion</td>\n",
       "      <td>0</td>\n",
       "      <td>CL</td>\n",
       "      <td>1579985283</td>\n",
       "      <td>49</td>\n",
       "      <td>-35.33</td>\n",
       "      <td>-72.42</td>\n",
       "      <td>21.45</td>\n",
       "      <td>5.08</td>\n",
       "    </tr>\n",
       "    <tr>\n",
       "      <td>567</td>\n",
       "      <td>Imbituba</td>\n",
       "      <td>0</td>\n",
       "      <td>BR</td>\n",
       "      <td>1579985212</td>\n",
       "      <td>67</td>\n",
       "      <td>-28.24</td>\n",
       "      <td>-48.67</td>\n",
       "      <td>23.78</td>\n",
       "      <td>2.24</td>\n",
       "    </tr>\n",
       "    <tr>\n",
       "      <td>572</td>\n",
       "      <td>Mancora</td>\n",
       "      <td>28</td>\n",
       "      <td>PE</td>\n",
       "      <td>1579985405</td>\n",
       "      <td>54</td>\n",
       "      <td>-4.11</td>\n",
       "      <td>-81.05</td>\n",
       "      <td>30.00</td>\n",
       "      <td>11.24</td>\n",
       "    </tr>\n",
       "    <tr>\n",
       "      <td>574</td>\n",
       "      <td>Pangai</td>\n",
       "      <td>0</td>\n",
       "      <td>TO</td>\n",
       "      <td>1579985406</td>\n",
       "      <td>85</td>\n",
       "      <td>-19.80</td>\n",
       "      <td>-174.35</td>\n",
       "      <td>26.56</td>\n",
       "      <td>6.69</td>\n",
       "    </tr>\n",
       "  </tbody>\n",
       "</table>\n",
       "<p>167 rows × 9 columns</p>\n",
       "</div>"
      ],
      "text/plain": [
       "             City  Cloudiness Country        Date  Humidity    Lat     Lng  \\\n",
       "0       Busselton           1      AU  1579985335        60 -33.65  115.33   \n",
       "3        Saldanha          33      ZA  1579985251        88 -33.01   17.94   \n",
       "4      Vila Velha         100      BR  1579985111        78 -20.33  -40.29   \n",
       "6      Kaitangata          91      NZ  1579985335        68 -46.28  169.85   \n",
       "9           Bluff          66      NZ  1579985336        73 -46.60  168.33   \n",
       "..            ...         ...     ...         ...       ...    ...     ...   \n",
       "561  Bahia Blanca          66      AR  1579985404        25 -38.72  -62.27   \n",
       "566  Constitucion           0      CL  1579985283        49 -35.33  -72.42   \n",
       "567      Imbituba           0      BR  1579985212        67 -28.24  -48.67   \n",
       "572       Mancora          28      PE  1579985405        54  -4.11  -81.05   \n",
       "574        Pangai           0      TO  1579985406        85 -19.80 -174.35   \n",
       "\n",
       "     Max Temp  Wind Speed  \n",
       "0       18.33        4.29  \n",
       "3       17.49        3.14  \n",
       "4       25.00        1.44  \n",
       "6       18.33        3.06  \n",
       "9       18.33        0.45  \n",
       "..        ...         ...  \n",
       "561     28.33        7.03  \n",
       "566     21.45        5.08  \n",
       "567     23.78        2.24  \n",
       "572     30.00       11.24  \n",
       "574     26.56        6.69  \n",
       "\n",
       "[167 rows x 9 columns]"
      ]
     },
     "execution_count": 97,
     "metadata": {},
     "output_type": "execute_result"
    }
   ],
   "source": [
    "# create Southern Hemisphere\n",
    "southern_df = weather_data[weather_data['Lat']<0]\n",
    "southern_df"
   ]
  },
  {
   "cell_type": "code",
   "execution_count": 49,
   "metadata": {},
   "outputs": [],
   "source": [
    "#create x_axis and y_axis variables for north and south hemispheres, and various charts\n",
    "\n",
    "x_north = northern_df['Lat']\n",
    "x_south = southern_df['Lat']\n",
    "\n",
    "#create titles and variable for each chart\n",
    "title1 = \"Northern Hemisphere - Temperature (F) vs. Latitude\"\n",
    "y_north_temp = northern_df['Max Temp']\n",
    "\n",
    "title2 = \"Southern Hemisphere - Temperature (F) vs. Latitude\"\n",
    "y_south_temp = southern_df['Max Temp']\n",
    "\n",
    "title3 = \"Northern Hemisphere - Humidity (%) vs. Latitude\"\n",
    "y_north_humidity = northern_df['Humidity']\n",
    "\n",
    "title4 = \"Southern Hemisphere - Humidity (%) vs. Latitude\"\n",
    "y_south_humidity = southern_df['Humidity']\n",
    "\n",
    "title5 = \"Northern Hemisphere - Cloudiness (%) vs. Latitude\"\n",
    "y_north_clouds = northern_df['Cloudiness']\n",
    "\n",
    "title6 = \"Southern Hemisphere - Cloudiness (%) vs. Latitude\"\n",
    "y_south_clouds = southern_df['Cloudiness']\n",
    "\n",
    "title7 = \"Northern Hemisphere - Wind Speed (mph) vs. Latitude\"\n",
    "y_north_wind = northern_df['Wind Speed']\n",
    "\n",
    "title8 = \"Southern Hemisphere - Wind Speed (mph) vs. Latitude\"\n",
    "y_south_wind = southern_df['Wind Speed']\n",
    "\n",
    "#create x label to be used for all charts\n",
    "x_label = \"Latitude\"\n"
   ]
  },
  {
   "cell_type": "markdown",
   "metadata": {},
   "source": [
    "# #Northern Hemisphere - Temperature (F) vs. Latitude"
   ]
  },
  {
   "cell_type": "code",
   "execution_count": 98,
   "metadata": {},
   "outputs": [
    {
     "name": "stdout",
     "output_type": "stream",
     "text": [
      "The r-squared is: -0.8584020514200984\n"
     ]
    },
    {
     "data": {
      "image/png": "[encoded data removed]",
      "text/plain": [
       "<Figure size 432x288 with 1 Axes>"
      ]
     },
     "metadata": {
      "needs_background": "light"
     },
     "output_type": "display_data"
    },
    {
     "data": {
      "text/plain": [
       "<function matplotlib.pyplot.show(*args, **kw)>"
      ]
     },
     "execution_count": 98,
     "metadata": {},
     "output_type": "execute_result"
    },
    {
     "data": {
      "text/plain": [
       "<Figure size 432x288 with 0 Axes>"
      ]
     },
     "metadata": {},
     "output_type": "display_data"
    }
   ],
   "source": [
    "# Create northern hemisphere - temp vs lat with linear regression and r-squared\n",
    "x_values = x_north\n",
    "y_values = y_north_temp\n",
    "(slope, intercept, rvalue, pvalue, stderr) = linregress(x_values, y_values)\n",
    "regress_values = x_values * slope + intercept\n",
    "line_eq = \"y = \" + str(round(slope,2)) + \"x + \" + str(round(intercept,2))\n",
    "plt.scatter(x_values,y_values)\n",
    "plt.plot(x_values,regress_values,\"r-\")\n",
    "plt.annotate(line_eq,(0,-40),fontsize=12,color=\"red\")\n",
    "plt.title(title1)\n",
    "plt.xlabel(x_label)\n",
    "plt.ylabel(\"Max Temp\")\n",
    "print(f\"The r-squared is: {rvalue}\")\n",
    "plt.show()\n",
    "\n",
    "#save chart to a .png file\n",
    "plt.savefig(\"northHemLat_vs_temp.png\")\n",
    "plt.show"
   ]
  },
  {
   "cell_type": "markdown",
   "metadata": {},
   "source": [
    "# Southern Hemisphere - Temperature (F) vs. Latitude"
   ]
  },
  {
   "cell_type": "code",
   "execution_count": 99,
   "metadata": {},
   "outputs": [
    {
     "name": "stdout",
     "output_type": "stream",
     "text": [
      "The r-squared is: 0.44678947946953695\n"
     ]
    },
    {
     "data": {
      "image/png": "[encoded data removed]",
      "text/plain": [
       "<Figure size 432x288 with 1 Axes>"
      ]
     },
     "metadata": {
      "needs_background": "light"
     },
     "output_type": "display_data"
    },
    {
     "data": {
      "text/plain": [
       "<function matplotlib.pyplot.show(*args, **kw)>"
      ]
     },
     "execution_count": 99,
     "metadata": {},
     "output_type": "execute_result"
    },
    {
     "data": {
      "text/plain": [
       "<Figure size 432x288 with 0 Axes>"
      ]
     },
     "metadata": {},
     "output_type": "display_data"
    }
   ],
   "source": [
    "# Create southern hemisphere - temp vs lat with linear regression and r-squared\n",
    "x_values = x_south\n",
    "y_values = y_south_temp\n",
    "(slope, intercept, rvalue, pvalue, stderr) = linregress(x_values, y_values)\n",
    "regress_values = x_values * slope + intercept\n",
    "line_eq = \"y = \" + str(round(slope,2)) + \"x + \" + str(round(intercept,2))\n",
    "plt.scatter(x_values,y_values)\n",
    "plt.plot(x_values,regress_values,\"r-\")\n",
    "plt.annotate(line_eq,(-40,10),fontsize=12,color=\"red\")\n",
    "plt.title(title2)\n",
    "plt.xlabel(x_label)\n",
    "plt.ylabel(\"Max Temp\")\n",
    "print(f\"The r-squared is: {rvalue}\")\n",
    "plt.show()\n",
    "\n",
    "#save chart to a .png file\n",
    "plt.savefig(\"southHemLat_vs_temp.png\")\n",
    "plt.show"
   ]
  },
  {
   "cell_type": "markdown",
   "metadata": {},
   "source": [
    "# Northern Hemisphere - Humidity (%) vs. Latitude"
   ]
  },
  {
   "cell_type": "code",
   "execution_count": 100,
   "metadata": {},
   "outputs": [
    {
     "name": "stdout",
     "output_type": "stream",
     "text": [
      "The r-squared is: 0.4348745189321772\n"
     ]
    },
    {
     "data": {
      "image/png": "[encoded data removed]",
      "text/plain": [
       "<Figure size 432x288 with 1 Axes>"
      ]
     },
     "metadata": {
      "needs_background": "light"
     },
     "output_type": "display_data"
    },
    {
     "data": {
      "text/plain": [
       "<function matplotlib.pyplot.show(*args, **kw)>"
      ]
     },
     "execution_count": 100,
     "metadata": {},
     "output_type": "execute_result"
    },
    {
     "data": {
      "text/plain": [
       "<Figure size 432x288 with 0 Axes>"
      ]
     },
     "metadata": {},
     "output_type": "display_data"
    }
   ],
   "source": [
    "# Create northern hemisphere - humidity vs lat with linear regression and r-squared\n",
    "x_values = x_north\n",
    "y_values = y_north_humidity\n",
    "(slope, intercept, rvalue, pvalue, stderr) = linregress(x_values, y_values)\n",
    "regress_values = x_values * slope + intercept\n",
    "line_eq = \"y = \" + str(round(slope,2)) + \"x + \" + str(round(intercept,2))\n",
    "plt.scatter(x_values,y_values)\n",
    "plt.plot(x_values,regress_values,\"r-\")\n",
    "plt.annotate(line_eq,(50,30),fontsize=12,color=\"red\")\n",
    "plt.title(title3)\n",
    "plt.xlabel(x_label)\n",
    "plt.ylabel(\"Humidity\")\n",
    "print(f\"The r-squared is: {rvalue}\")\n",
    "plt.show()\n",
    "\n",
    "#save chart to a .png file\n",
    "plt.savefig(\"northHemLat_vs_humidity.png\")\n",
    "plt.show"
   ]
  },
  {
   "cell_type": "markdown",
   "metadata": {},
   "source": [
    "# Southern Hemisphere - Humidity (%) vs. Latitude"
   ]
  },
  {
   "cell_type": "code",
   "execution_count": 101,
   "metadata": {},
   "outputs": [
    {
     "name": "stdout",
     "output_type": "stream",
     "text": [
      "The r-squared is: 0.2540868822697453\n"
     ]
    },
    {
     "data": {
      "image/png": "[encoded data removed]",
      "text/plain": [
       "<Figure size 432x288 with 1 Axes>"
      ]
     },
     "metadata": {
      "needs_background": "light"
     },
     "output_type": "display_data"
    },
    {
     "data": {
      "text/plain": [
       "<function matplotlib.pyplot.show(*args, **kw)>"
      ]
     },
     "execution_count": 101,
     "metadata": {},
     "output_type": "execute_result"
    },
    {
     "data": {
      "text/plain": [
       "<Figure size 432x288 with 0 Axes>"
      ]
     },
     "metadata": {},
     "output_type": "display_data"
    }
   ],
   "source": [
    "# Create southern hemisphere - humidity vs lat with linear regression and r-squared\n",
    "x_values = x_south\n",
    "y_values = y_south_humidity\n",
    "(slope, intercept, rvalue, pvalue, stderr) = linregress(x_values, y_values)\n",
    "regress_values = x_values * slope + intercept\n",
    "line_eq = \"y = \" + str(round(slope,2)) + \"x + \" + str(round(intercept,2))\n",
    "plt.scatter(x_values,y_values)\n",
    "plt.plot(x_values,regress_values,\"r-\")\n",
    "plt.annotate(line_eq,(-20,20),fontsize=12,color=\"red\")\n",
    "plt.title(title4)\n",
    "plt.xlabel(x_label)\n",
    "plt.ylabel(\"Humidity\")\n",
    "print(f\"The r-squared is: {rvalue}\")\n",
    "plt.show()\n",
    "\n",
    "plt.savefig(\"southHemLat_vs_humidity.png\")\n",
    "plt.show"
   ]
  },
  {
   "cell_type": "markdown",
   "metadata": {},
   "source": [
    "# Northern Hemisphere - Cloudiness (%) vs. Latitude"
   ]
  },
  {
   "cell_type": "code",
   "execution_count": 102,
   "metadata": {},
   "outputs": [
    {
     "name": "stdout",
     "output_type": "stream",
     "text": [
      "The r-squared is: 0.28608834003362343\n"
     ]
    },
    {
     "data": {
      "image/png": "[encoded data removed]",
      "text/plain": [
       "<Figure size 432x288 with 1 Axes>"
      ]
     },
     "metadata": {
      "needs_background": "light"
     },
     "output_type": "display_data"
    },
    {
     "data": {
      "text/plain": [
       "<function matplotlib.pyplot.show(*args, **kw)>"
      ]
     },
     "execution_count": 102,
     "metadata": {},
     "output_type": "execute_result"
    },
    {
     "data": {
      "text/plain": [
       "<Figure size 432x288 with 0 Axes>"
      ]
     },
     "metadata": {},
     "output_type": "display_data"
    }
   ],
   "source": [
    "# Create northern hemisphere - cloudiness vs lat with linear regression and r-squared\n",
    "x_values = x_north\n",
    "y_values = y_north_clouds\n",
    "(slope, intercept, rvalue, pvalue, stderr) = linregress(x_values, y_values)\n",
    "regress_values = x_values * slope + intercept\n",
    "line_eq = \"y = \" + str(round(slope,2)) + \"x + \" + str(round(intercept,2))\n",
    "plt.scatter(x_values,y_values)\n",
    "plt.plot(x_values,regress_values,\"r-\")\n",
    "plt.annotate(line_eq,(55,30),fontsize=12,color=\"red\")\n",
    "plt.title(title5)\n",
    "plt.xlabel(x_label)\n",
    "plt.ylabel(\"Cloudiness\")\n",
    "print(f\"The r-squared is: {rvalue}\")\n",
    "plt.show()\n",
    "\n",
    "plt.savefig(\"northHemLat_vs_cloudiness.png\")\n",
    "plt.show"
   ]
  },
  {
   "cell_type": "markdown",
   "metadata": {},
   "source": [
    "# #Southern Hemisphere - Cloudiness (%) vs. Latitude"
   ]
  },
  {
   "cell_type": "code",
   "execution_count": 103,
   "metadata": {},
   "outputs": [
    {
     "name": "stdout",
     "output_type": "stream",
     "text": [
      "The r-squared is: 0.2565212842628662\n"
     ]
    },
    {
     "data": {
      "image/png": "[encoded data removed]",
      "text/plain": [
       "<Figure size 432x288 with 1 Axes>"
      ]
     },
     "metadata": {
      "needs_background": "light"
     },
     "output_type": "display_data"
    },
    {
     "data": {
      "text/plain": [
       "<function matplotlib.pyplot.show(*args, **kw)>"
      ]
     },
     "execution_count": 103,
     "metadata": {},
     "output_type": "execute_result"
    },
    {
     "data": {
      "text/plain": [
       "<Figure size 432x288 with 0 Axes>"
      ]
     },
     "metadata": {},
     "output_type": "display_data"
    }
   ],
   "source": [
    "# Create southern hemisphere - cloudiness vs lat with linear regression and r-squared\n",
    "x_values = x_south\n",
    "y_values = y_south_clouds\n",
    "(slope, intercept, rvalue, pvalue, stderr) = linregress(x_values, y_values)\n",
    "regress_values = x_values * slope + intercept\n",
    "line_eq = \"y = \" + str(round(slope,2)) + \"x + \" + str(round(intercept,2))\n",
    "plt.scatter(x_values,y_values)\n",
    "plt.plot(x_values,regress_values,\"r-\")\n",
    "plt.annotate(line_eq,(-55,20),fontsize=12,color=\"red\")\n",
    "plt.title(title6)\n",
    "plt.xlabel(x_label)\n",
    "plt.ylabel(\"Cloudiness\")\n",
    "print(f\"The r-squared is: {rvalue}\")\n",
    "plt.show()\n",
    "\n",
    "plt.savefig(\"southHemLat_vs_cloudiness.png\")\n",
    "plt.show"
   ]
  },
  {
   "cell_type": "markdown",
   "metadata": {},
   "source": [
    "# Northern Hemisphere - Wind Speed (mph) vs. Latitude"
   ]
  },
  {
   "cell_type": "code",
   "execution_count": 104,
   "metadata": {},
   "outputs": [
    {
     "name": "stdout",
     "output_type": "stream",
     "text": [
      "The r-squared is: 0.16630410938224277\n"
     ]
    },
    {
     "data": {
      "image/png": "[encoded data removed]",
      "text/plain": [
       "<Figure size 432x288 with 1 Axes>"
      ]
     },
     "metadata": {
      "needs_background": "light"
     },
     "output_type": "display_data"
    },
    {
     "data": {
      "text/plain": [
       "<function matplotlib.pyplot.show(*args, **kw)>"
      ]
     },
     "execution_count": 104,
     "metadata": {},
     "output_type": "execute_result"
    },
    {
     "data": {
      "text/plain": [
       "<Figure size 432x288 with 0 Axes>"
      ]
     },
     "metadata": {},
     "output_type": "display_data"
    }
   ],
   "source": [
    "# Create northern hemisphere - wind speed vs lat with linear regression and r-squared\n",
    "x_values = x_north\n",
    "y_values = y_north_wind\n",
    "(slope, intercept, rvalue, pvalue, stderr) = linregress(x_values, y_values)\n",
    "regress_values = x_values * slope + intercept\n",
    "line_eq = \"y = \" + str(round(slope,2)) + \"x + \" + str(round(intercept,2))\n",
    "plt.scatter(x_values,y_values)\n",
    "plt.plot(x_values,regress_values,\"r-\")\n",
    "plt.annotate(line_eq,(0,15),fontsize=12,color=\"red\")\n",
    "plt.title(title7)\n",
    "plt.xlabel(x_label)\n",
    "plt.ylabel(\"Wind Speed\")\n",
    "print(f\"The r-squared is: {rvalue}\")\n",
    "plt.show()\n",
    "\n",
    "plt.savefig(\"northHemLat_vs_windSpeed.png\")\n",
    "plt.show"
   ]
  },
  {
   "cell_type": "markdown",
   "metadata": {},
   "source": [
    "# Southern Hemisphere - Wind Speed (mph) vs. Latitude"
   ]
  },
  {
   "cell_type": "code",
   "execution_count": 105,
   "metadata": {},
   "outputs": [
    {
     "name": "stdout",
     "output_type": "stream",
     "text": [
      "The r-squared is: -0.1354365516158891\n"
     ]
    },
    {
     "data": {
      "image/png": "[encoded data removed]",
      "text/plain": [
       "<Figure size 432x288 with 1 Axes>"
      ]
     },
     "metadata": {
      "needs_background": "light"
     },
     "output_type": "display_data"
    },
    {
     "data": {
      "text/plain": [
       "<function matplotlib.pyplot.show(*args, **kw)>"
      ]
     },
     "execution_count": 105,
     "metadata": {},
     "output_type": "execute_result"
    },
    {
     "data": {
      "text/plain": [
       "<Figure size 432x288 with 0 Axes>"
      ]
     },
     "metadata": {},
     "output_type": "display_data"
    }
   ],
   "source": [
    "# Create southern hemisphere - wind speed vs lat with linear regression and r-squared\n",
    "x_values = x_south\n",
    "y_values = y_south_wind\n",
    "(slope, intercept, rvalue, pvalue, stderr) = linregress(x_values, y_values)\n",
    "regress_values = x_values * slope + intercept\n",
    "line_eq = \"y = \" + str(round(slope,2)) + \"x + \" + str(round(intercept,2))\n",
    "plt.scatter(x_values,y_values)\n",
    "plt.plot(x_values,regress_values,\"r-\")\n",
    "plt.annotate(line_eq,(-30,14),fontsize=12,color=\"red\")\n",
    "plt.title(title8)\n",
    "plt.xlabel(x_label)\n",
    "plt.ylabel(\"Wind Speed\")\n",
    "print(f\"The r-squared is: {rvalue}\")\n",
    "plt.show()\n",
    "\n",
    "plt.savefig(\"southHemLat_vs_windSpeed.png\")\n",
    "plt.show"
   ]
  },
  {
   "cell_type": "code",
   "execution_count": null,
   "metadata": {},
   "outputs": [],
   "source": []
  }
 ],
 "metadata": {
  "kernelspec": {
   "display_name": "Python 3",
   "language": "python",
   "name": "python3"
  },
  "language_info": {
   "codemirror_mode": {
    "name": "ipython",
    "version": 3
   },
   "file_extension": ".py",
   "mimetype": "text/x-python",
   "name": "python",
   "nbconvert_exporter": "python",
   "pygments_lexer": "ipython3",
   "version": "3.7.4"
  }
 },
 "nbformat": 4,
 "nbformat_minor": 2
}
