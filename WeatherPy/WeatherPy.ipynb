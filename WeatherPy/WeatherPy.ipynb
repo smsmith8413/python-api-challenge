{
 "cells": [
  {
   "cell_type": "markdown",
   "metadata": {},
   "source": [
    "Stephanie Smith\n",
    "Python API Challenge HW\n",
    "WeatherPy"
   ]
  },
  {
   "cell_type": "markdown",
   "metadata": {},
   "source": [
    "utilize: https://pypi.python.org/pypi/citipy"
   ]
  },
  {
   "cell_type": "code",
   "execution_count": null,
   "metadata": {},
   "outputs": [],
   "source": [
    "#pip install citipy"
   ]
  },
  {
   "cell_type": "code",
   "execution_count": 106,
   "metadata": {},
   "outputs": [
    {
     "name": "stdout",
     "output_type": "stream",
     "text": [
      "0b3f8e2a43251d206d5aeab517c4ad2a\n"
     ]
    }
   ],
   "source": [
    "# Dependencies and Setup\n",
    "import matplotlib.pyplot as plt\n",
    "import pandas as pd\n",
    "import numpy as np\n",
    "import requests\n",
    "import time\n",
    "from scipy.stats import linregress\n",
    "import json\n",
    "\n",
    "# Import API key\n",
    "from config import api_key\n",
    "print(api_key)\n",
    "\n",
    "# Incorporated citipy to determine city based on latitude and longitude\n",
    "from citipy import citipy\n",
    "\n",
    "# Output File (CSV)\n",
    "output_data_file = \"output_data/cities.csv\"\n",
    "\n",
    "# Range of latitudes and longitudes\n",
    "lat_range = (-90, 90)\n",
    "lng_range = (-180, 180)"
   ]
  },
  {
   "cell_type": "markdown",
   "metadata": {},
   "source": [
    "Generate Cities List\n"
   ]
  },
  {
   "cell_type": "code",
   "execution_count": 107,
   "metadata": {},
   "outputs": [
    {
     "data": {
      "text/plain": [
       "604"
      ]
     },
     "execution_count": 107,
     "metadata": {},
     "output_type": "execute_result"
    }
   ],
   "source": [
    "# List for holding lat_lngs and cities\n",
    "lat_lngs = []\n",
    "cities = []\n",
    "\n",
    "# Create a set of random lat and lng combinations\n",
    "lats = np.random.uniform(low=-90.000, high=90.000, size=1500)\n",
    "lngs = np.random.uniform(low=-180.000, high=180.000, size=1500)\n",
    "lat_lngs = zip(lats, lngs)\n",
    "\n",
    "# Identify nearest city for each lat, lng combination\n",
    "for lat_lng in lat_lngs:\n",
    "    city = citipy.nearest_city(lat_lng[0], lat_lng[1]).city_name\n",
    "    \n",
    "    # If the city is unique, then add it to a our cities list\n",
    "    if city not in cities:\n",
    "        cities.append(city)\n",
    "\n",
    "# Print the city count to confirm sufficient count\n",
    "len(cities)"
   ]
  },
  {
   "cell_type": "code",
   "execution_count": 108,
   "metadata": {},
   "outputs": [],
   "source": [
    "# Save config information.\n",
    "url = \"http://api.openweathermap.org/data/2.5/weather?\"\n",
    "units = \"metric\"\n",
    "\n",
    "# Build partial query URL\n",
    "query_url = f\"{url}appid={api_key}&units={units}&q=\""
   ]
  },
  {
   "cell_type": "code",
   "execution_count": 109,
   "metadata": {},
   "outputs": [
    {
     "name": "stdout",
     "output_type": "stream",
     "text": [
      "{\n",
      "    \"base\": \"stations\",\n",
      "    \"clouds\": {\n",
      "        \"all\": 73\n",
      "    },\n",
      "    \"cod\": 200,\n",
      "    \"coord\": {\n",
      "        \"lat\": 48.85,\n",
      "        \"lon\": 2.35\n",
      "    },\n",
      "    \"dt\": 1580024476,\n",
      "    \"id\": 2988507,\n",
      "    \"main\": {\n",
      "        \"feels_like\": -0.98,\n",
      "        \"humidity\": 100,\n",
      "        \"pressure\": 1016,\n",
      "        \"temp\": 2.14,\n",
      "        \"temp_max\": 4,\n",
      "        \"temp_min\": -0.56\n",
      "    },\n",
      "    \"name\": \"Paris\",\n",
      "    \"sys\": {\n",
      "        \"country\": \"FR\",\n",
      "        \"id\": 6550,\n",
      "        \"sunrise\": 1580023744,\n",
      "        \"sunset\": 1580056599,\n",
      "        \"type\": 1\n",
      "    },\n",
      "    \"timezone\": 3600,\n",
      "    \"visibility\": 4000,\n",
      "    \"weather\": [\n",
      "        {\n",
      "            \"description\": \"mist\",\n",
      "            \"icon\": \"50d\",\n",
      "            \"id\": 701,\n",
      "            \"main\": \"Mist\"\n",
      "        }\n",
      "    ],\n",
      "    \"wind\": {\n",
      "        \"deg\": 220,\n",
      "        \"speed\": 2.1\n",
      "    }\n",
      "}\n"
     ]
    }
   ],
   "source": [
    "#run a test on url structure\n",
    "city = \"Paris\"\n",
    "response = requests.get(query_url + city).json()\n",
    "print(json.dumps(response, indent=4, sort_keys=True))"
   ]
  },
  {
   "cell_type": "code",
   "execution_count": 110,
   "metadata": {},
   "outputs": [
    {
     "name": "stdout",
     "output_type": "stream",
     "text": [
      "Processing Record 1 of Set 0 | mar del plata\n",
      "Processing Record 2 of Set 0 | hervey bay\n",
      "Processing Record 3 of Set 0 | rundu\n",
      "Processing Record 4 of Set 0 | saint george\n",
      "Processing Record 5 of Set 0 | richards bay\n",
      "Processing Record 6 of Set 0 | hermanus\n",
      "City not found.....skipping\n",
      "Processing Record 8 of Set 0 | severo-kurilsk\n",
      "Processing Record 9 of Set 0 | avarua\n",
      "Processing Record 10 of Set 0 | butaritari\n",
      "Processing Record 11 of Set 0 | sao joao da barra\n",
      "Processing Record 12 of Set 0 | praia\n",
      "Processing Record 13 of Set 0 | male\n",
      "Processing Record 14 of Set 0 | rikitea\n",
      "Processing Record 15 of Set 0 | dikson\n",
      "City not found.....skipping\n",
      "Processing Record 17 of Set 0 | faanui\n",
      "Processing Record 18 of Set 0 | broome\n",
      "Processing Record 19 of Set 0 | tiznit\n",
      "City not found.....skipping\n",
      "Processing Record 21 of Set 0 | hithadhoo\n",
      "Processing Record 22 of Set 0 | sosua\n",
      "Processing Record 23 of Set 0 | dumbrava\n",
      "Processing Record 24 of Set 0 | sitka\n",
      "Processing Record 25 of Set 0 | kapaa\n",
      "Processing Record 26 of Set 0 | ushuaia\n",
      "Processing Record 27 of Set 0 | talaya\n",
      "Processing Record 28 of Set 0 | dawson creek\n",
      "Processing Record 29 of Set 0 | talnakh\n",
      "Processing Record 30 of Set 0 | georgetown\n",
      "Processing Record 31 of Set 0 | atuona\n",
      "Processing Record 32 of Set 0 | arraial do cabo\n",
      "Processing Record 33 of Set 0 | araci\n",
      "City not found.....skipping\n",
      "Processing Record 35 of Set 0 | saskylakh\n",
      "Processing Record 36 of Set 0 | mount gambier\n",
      "Processing Record 37 of Set 0 | lebu\n",
      "Processing Record 38 of Set 0 | jamestown\n",
      "Processing Record 39 of Set 0 | longyearbyen\n",
      "Processing Record 40 of Set 0 | wenling\n",
      "Processing Record 41 of Set 0 | qianjiang\n",
      "Processing Record 42 of Set 0 | grafton\n",
      "Processing Record 43 of Set 0 | horki\n",
      "Processing Record 44 of Set 0 | vardo\n",
      "Processing Record 45 of Set 0 | vestmannaeyjar\n",
      "Processing Record 46 of Set 0 | punta arenas\n",
      "Processing Record 47 of Set 0 | mackenzie\n",
      "Processing Record 48 of Set 0 | busselton\n",
      "Processing Record 49 of Set 0 | kununurra\n",
      "Processing Record 50 of Set 1 | andenes\n",
      "Processing Record 51 of Set 1 | bredasdorp\n",
      "Processing Record 52 of Set 1 | moerai\n",
      "Processing Record 53 of Set 1 | khash\n",
      "Processing Record 54 of Set 1 | asosa\n",
      "Processing Record 55 of Set 1 | bluff\n",
      "Processing Record 56 of Set 1 | provideniya\n",
      "Processing Record 57 of Set 1 | shyryayeve\n",
      "Processing Record 58 of Set 1 | inirida\n",
      "Processing Record 59 of Set 1 | rafaela\n",
      "Processing Record 60 of Set 1 | bam\n",
      "Processing Record 61 of Set 1 | yumen\n",
      "Processing Record 62 of Set 1 | hilo\n",
      "Processing Record 63 of Set 1 | santa rosa\n",
      "Processing Record 64 of Set 1 | yellowknife\n",
      "Processing Record 65 of Set 1 | new norfolk\n",
      "Processing Record 66 of Set 1 | tromso\n",
      "Processing Record 67 of Set 1 | dingle\n",
      "Processing Record 68 of Set 1 | puerto ayora\n",
      "City not found.....skipping\n",
      "Processing Record 70 of Set 1 | vaini\n",
      "City not found.....skipping\n",
      "Processing Record 72 of Set 1 | olafsvik\n",
      "Processing Record 73 of Set 1 | yasinya\n",
      "City not found.....skipping\n",
      "Processing Record 75 of Set 1 | norman wells\n",
      "Processing Record 76 of Set 1 | castro\n",
      "Processing Record 77 of Set 1 | inuvik\n",
      "Processing Record 78 of Set 1 | hamilton\n",
      "Processing Record 79 of Set 1 | tarakan\n",
      "Processing Record 80 of Set 1 | sjenica\n",
      "Processing Record 81 of Set 1 | tuktoyaktuk\n",
      "Processing Record 82 of Set 1 | kenai\n",
      "Processing Record 83 of Set 1 | port elizabeth\n",
      "Processing Record 84 of Set 1 | qaanaaq\n",
      "Processing Record 85 of Set 1 | katobu\n",
      "Processing Record 86 of Set 1 | ribeira grande\n",
      "Processing Record 87 of Set 1 | barrow\n",
      "Processing Record 88 of Set 1 | ornskoldsvik\n",
      "Processing Record 89 of Set 1 | gangtok\n",
      "Processing Record 90 of Set 1 | thompson\n",
      "Processing Record 91 of Set 1 | arica\n",
      "Processing Record 92 of Set 1 | huai thalaeng\n",
      "Processing Record 93 of Set 1 | borogontsy\n",
      "City not found.....skipping\n",
      "Processing Record 95 of Set 1 | mataura\n",
      "City not found.....skipping\n",
      "Processing Record 97 of Set 1 | ratnagiri\n",
      "Processing Record 98 of Set 1 | arona\n",
      "Processing Record 99 of Set 1 | lorengau\n",
      "Processing Record 100 of Set 2 | bambous virieux\n",
      "Processing Record 101 of Set 2 | yabrud\n",
      "Processing Record 102 of Set 2 | hobart\n",
      "Processing Record 103 of Set 2 | bethel\n",
      "Processing Record 104 of Set 2 | brejo\n",
      "City not found.....skipping\n",
      "Processing Record 106 of Set 2 | te anau\n",
      "Processing Record 107 of Set 2 | champerico\n",
      "Processing Record 108 of Set 2 | road town\n",
      "Processing Record 109 of Set 2 | nikolskoye\n",
      "Processing Record 110 of Set 2 | victoria\n",
      "Processing Record 111 of Set 2 | pisco\n",
      "Processing Record 112 of Set 2 | cape town\n",
      "Processing Record 113 of Set 2 | esperance\n",
      "Processing Record 114 of Set 2 | tiarei\n",
      "City not found.....skipping\n",
      "Processing Record 116 of Set 2 | khatanga\n",
      "Processing Record 117 of Set 2 | chenghai\n",
      "City not found.....skipping\n",
      "Processing Record 119 of Set 2 | aljezur\n",
      "Processing Record 120 of Set 2 | adzope\n",
      "Processing Record 121 of Set 2 | samarai\n",
      "Processing Record 122 of Set 2 | fereydun kenar\n",
      "Processing Record 123 of Set 2 | vanimo\n",
      "Processing Record 124 of Set 2 | haines junction\n",
      "Processing Record 125 of Set 2 | albany\n",
      "Processing Record 126 of Set 2 | santa cruz naranjo\n",
      "Processing Record 127 of Set 2 | taranagar\n",
      "Processing Record 128 of Set 2 | clyde river\n",
      "Processing Record 129 of Set 2 | constantine\n",
      "Processing Record 130 of Set 2 | bagdarin\n",
      "Processing Record 131 of Set 2 | soyo\n",
      "Processing Record 132 of Set 2 | bardiyah\n",
      "Processing Record 133 of Set 2 | port alfred\n",
      "Processing Record 134 of Set 2 | rena\n",
      "City not found.....skipping\n",
      "City not found.....skipping\n",
      "Processing Record 137 of Set 2 | brae\n",
      "Processing Record 138 of Set 2 | luwuk\n",
      "City not found.....skipping\n",
      "Processing Record 140 of Set 2 | srednekolymsk\n",
      "City not found.....skipping\n",
      "Processing Record 142 of Set 2 | guerrero negro\n",
      "City not found.....skipping\n",
      "Processing Record 144 of Set 2 | moron\n",
      "Processing Record 145 of Set 2 | luderitz\n",
      "Processing Record 146 of Set 2 | ilheus\n",
      "City not found.....skipping\n",
      "Processing Record 148 of Set 2 | mamallapuram\n",
      "Processing Record 149 of Set 2 | nabire\n",
      "Processing Record 150 of Set 3 | ternate\n",
      "Processing Record 151 of Set 3 | marathon\n",
      "Processing Record 152 of Set 3 | egvekinot\n",
      "Processing Record 153 of Set 3 | kruisfontein\n",
      "Processing Record 154 of Set 3 | vao\n",
      "City not found.....skipping\n",
      "City not found.....skipping\n",
      "Processing Record 157 of Set 3 | ingham\n",
      "Processing Record 158 of Set 3 | rawson\n",
      "Processing Record 159 of Set 3 | saint-pierre\n",
      "Processing Record 160 of Set 3 | trat\n",
      "Processing Record 161 of Set 3 | port hardy\n",
      "Processing Record 162 of Set 3 | poronaysk\n",
      "Processing Record 163 of Set 3 | masuguru\n",
      "Processing Record 164 of Set 3 | robertson\n",
      "City not found.....skipping\n",
      "Processing Record 166 of Set 3 | ponta do sol\n",
      "Processing Record 167 of Set 3 | kavieng\n",
      "Processing Record 168 of Set 3 | kemi\n",
      "Processing Record 169 of Set 3 | seoul\n",
      "Processing Record 170 of Set 3 | hailar\n",
      "Processing Record 171 of Set 3 | nandigama\n",
      "Processing Record 172 of Set 3 | bang rakam\n",
      "Processing Record 173 of Set 3 | komsomolskiy\n",
      "Processing Record 174 of Set 3 | winnemucca\n",
      "City not found.....skipping\n",
      "Processing Record 176 of Set 3 | arroio grande\n",
      "Processing Record 177 of Set 3 | pacific grove\n",
      "Processing Record 178 of Set 3 | kidal\n",
      "Processing Record 179 of Set 3 | baijiantan\n",
      "Processing Record 180 of Set 3 | nongan\n",
      "Processing Record 181 of Set 3 | arandis\n",
      "Processing Record 182 of Set 3 | auki\n",
      "Processing Record 183 of Set 3 | kieta\n",
      "Processing Record 184 of Set 3 | hope\n",
      "Processing Record 185 of Set 3 | chumikan\n",
      "Processing Record 186 of Set 3 | pangnirtung\n",
      "Processing Record 187 of Set 3 | floro\n",
      "Processing Record 188 of Set 3 | ladario\n",
      "Processing Record 189 of Set 3 | cherskiy\n",
      "Processing Record 190 of Set 3 | nouadhibou\n",
      "Processing Record 191 of Set 3 | semenivka\n",
      "Processing Record 192 of Set 3 | chokurdakh\n",
      "Processing Record 193 of Set 3 | lata\n",
      "Processing Record 194 of Set 3 | kodiak\n",
      "City not found.....skipping\n",
      "City not found.....skipping\n",
      "Processing Record 197 of Set 3 | san bartolo\n",
      "Processing Record 198 of Set 3 | neiafu\n",
      "City not found.....skipping\n",
      "Processing Record 200 of Set 4 | trairi\n",
      "Processing Record 201 of Set 4 | teya\n",
      "Processing Record 202 of Set 4 | ibipeba\n",
      "Processing Record 203 of Set 4 | kloulklubed\n",
      "City not found.....skipping\n",
      "Processing Record 205 of Set 4 | staryy krym\n",
      "Processing Record 206 of Set 4 | gannan\n",
      "Processing Record 207 of Set 4 | luanda\n"
     ]
    },
    {
     "name": "stdout",
     "output_type": "stream",
     "text": [
      "Processing Record 208 of Set 4 | tuatapere\n",
      "Processing Record 209 of Set 4 | korfovskiy\n",
      "Processing Record 210 of Set 4 | waipawa\n",
      "Processing Record 211 of Set 4 | axim\n",
      "Processing Record 212 of Set 4 | cabo san lucas\n",
      "Processing Record 213 of Set 4 | ahuimanu\n",
      "Processing Record 214 of Set 4 | mahebourg\n",
      "Processing Record 215 of Set 4 | daru\n",
      "Processing Record 216 of Set 4 | itarema\n",
      "Processing Record 217 of Set 4 | caravelas\n",
      "Processing Record 218 of Set 4 | jinchang\n",
      "Processing Record 219 of Set 4 | acara\n",
      "Processing Record 220 of Set 4 | coihaique\n",
      "Processing Record 221 of Set 4 | fairbanks\n",
      "Processing Record 222 of Set 4 | rabo de peixe\n",
      "Processing Record 223 of Set 4 | cuajinicuilapa\n",
      "Processing Record 224 of Set 4 | ayagoz\n",
      "Processing Record 225 of Set 4 | tambovka\n",
      "Processing Record 226 of Set 4 | nemuro\n",
      "Processing Record 227 of Set 4 | guanica\n",
      "Processing Record 228 of Set 4 | ixtapa\n",
      "Processing Record 229 of Set 4 | vrangel\n",
      "Processing Record 230 of Set 4 | carnarvon\n",
      "Processing Record 231 of Set 4 | isangel\n",
      "City not found.....skipping\n",
      "Processing Record 233 of Set 4 | ojinaga\n",
      "Processing Record 234 of Set 4 | diamantino\n",
      "Processing Record 235 of Set 4 | bukachacha\n",
      "Processing Record 236 of Set 4 | dafeng\n",
      "Processing Record 237 of Set 4 | ponta delgada\n",
      "Processing Record 238 of Set 4 | talavera de la reina\n",
      "City not found.....skipping\n",
      "Processing Record 240 of Set 4 | port blair\n",
      "Processing Record 241 of Set 4 | namerikawa\n",
      "Processing Record 242 of Set 4 | kologriv\n",
      "City not found.....skipping\n",
      "Processing Record 244 of Set 4 | fare\n",
      "Processing Record 245 of Set 4 | tasiilaq\n",
      "Processing Record 246 of Set 4 | geraldton\n",
      "Processing Record 247 of Set 4 | nishihara\n",
      "Processing Record 248 of Set 4 | koindu\n",
      "Processing Record 249 of Set 4 | bayburt\n",
      "City not found.....skipping\n",
      "Processing Record 251 of Set 4 | airai\n",
      "Processing Record 252 of Set 4 | vila velha\n",
      "Processing Record 253 of Set 4 | chegdomyn\n",
      "Processing Record 254 of Set 4 | general roca\n",
      "Processing Record 255 of Set 4 | pitimbu\n",
      "Processing Record 256 of Set 4 | kaitangata\n",
      "Processing Record 257 of Set 4 | la ronge\n",
      "Processing Record 258 of Set 4 | perth\n",
      "Processing Record 259 of Set 4 | jiaonan\n",
      "Processing Record 260 of Set 4 | ahipara\n",
      "Processing Record 261 of Set 4 | walvis bay\n",
      "Processing Record 262 of Set 4 | chapais\n",
      "Processing Record 263 of Set 4 | jumla\n",
      "City not found.....skipping\n",
      "Processing Record 265 of Set 4 | margate\n",
      "Processing Record 266 of Set 4 | tahta\n",
      "Processing Record 267 of Set 4 | yulara\n",
      "Processing Record 268 of Set 4 | emmendingen\n",
      "Processing Record 269 of Set 4 | evensk\n",
      "Processing Record 270 of Set 4 | bathsheba\n",
      "Processing Record 271 of Set 4 | zhigansk\n",
      "Processing Record 272 of Set 4 | tema\n",
      "Processing Record 273 of Set 4 | manado\n",
      "Processing Record 274 of Set 4 | coahuayana\n",
      "Processing Record 275 of Set 4 | joshimath\n",
      "Processing Record 276 of Set 4 | nome\n",
      "Processing Record 277 of Set 4 | hofn\n",
      "Processing Record 278 of Set 4 | bandarbeyla\n",
      "Processing Record 279 of Set 4 | husavik\n",
      "Processing Record 280 of Set 4 | araouane\n",
      "Processing Record 281 of Set 4 | santa fe\n",
      "Processing Record 282 of Set 4 | los llanos de aridane\n",
      "Processing Record 283 of Set 4 | fez\n",
      "Processing Record 284 of Set 4 | codrington\n",
      "Processing Record 285 of Set 4 | kovdor\n",
      "Processing Record 286 of Set 4 | houma\n",
      "City not found.....skipping\n",
      "Processing Record 288 of Set 4 | erenhot\n",
      "Processing Record 289 of Set 4 | hasaki\n",
      "Processing Record 290 of Set 4 | bengkulu\n",
      "Processing Record 291 of Set 4 | waterfoot\n",
      "Processing Record 292 of Set 4 | jacareacanga\n",
      "City not found.....skipping\n",
      "Processing Record 294 of Set 4 | pafos\n",
      "Processing Record 295 of Set 4 | yarmouth\n",
      "Processing Record 296 of Set 4 | shache\n",
      "Processing Record 297 of Set 4 | saint-augustin\n",
      "Processing Record 298 of Set 4 | cam ranh\n",
      "City not found.....skipping\n",
      "Processing Record 300 of Set 4 | upernavik\n",
      "Processing Record 301 of Set 4 | yinchuan\n",
      "Processing Record 302 of Set 4 | sorland\n",
      "Processing Record 303 of Set 4 | dolinsk\n",
      "Processing Record 304 of Set 4 | saint-philippe\n",
      "Processing Record 305 of Set 4 | yarensk\n",
      "Processing Record 306 of Set 4 | mayo\n",
      "Processing Record 307 of Set 4 | mount pleasant\n",
      "Processing Record 308 of Set 4 | hami\n",
      "Processing Record 309 of Set 4 | newport\n",
      "Processing Record 310 of Set 4 | east london\n",
      "Processing Record 311 of Set 4 | solwezi\n",
      "Processing Record 312 of Set 4 | singaraja\n",
      "Processing Record 313 of Set 4 | nevers\n",
      "Processing Record 314 of Set 4 | rorvik\n",
      "Processing Record 315 of Set 4 | san patricio\n",
      "Processing Record 316 of Set 4 | sayanogorsk\n",
      "Processing Record 317 of Set 4 | igarka\n",
      "City not found.....skipping\n",
      "Processing Record 319 of Set 4 | ancud\n",
      "Processing Record 320 of Set 4 | marawi\n",
      "Processing Record 321 of Set 4 | nanortalik\n",
      "Processing Record 322 of Set 4 | tongchuan\n",
      "Processing Record 323 of Set 4 | iqaluit\n",
      "City not found.....skipping\n",
      "Processing Record 325 of Set 4 | tiksi\n",
      "Processing Record 326 of Set 4 | rock springs\n",
      "Processing Record 327 of Set 4 | choix\n",
      "Processing Record 328 of Set 4 | ilinskiy\n",
      "Processing Record 329 of Set 4 | taganak\n",
      "Processing Record 330 of Set 4 | paamiut\n",
      "Processing Record 331 of Set 4 | banda aceh\n",
      "Processing Record 332 of Set 4 | aginskoye\n",
      "Processing Record 333 of Set 4 | novoilinsk\n",
      "Processing Record 334 of Set 4 | khandyga\n",
      "Processing Record 335 of Set 4 | caborca\n",
      "Processing Record 336 of Set 4 | narsaq\n",
      "Processing Record 337 of Set 4 | vila franca do campo\n",
      "Processing Record 338 of Set 4 | mansa\n",
      "Processing Record 339 of Set 4 | labuhan\n",
      "Processing Record 340 of Set 4 | iralaya\n",
      "Processing Record 341 of Set 4 | tabatinga\n",
      "Processing Record 342 of Set 4 | eureka\n",
      "Processing Record 343 of Set 4 | grindavik\n",
      "Processing Record 344 of Set 4 | alofi\n",
      "Processing Record 345 of Set 4 | fort nelson\n",
      "City not found.....skipping\n",
      "Processing Record 347 of Set 4 | maceio\n",
      "City not found.....skipping\n",
      "City not found.....skipping\n",
      "Processing Record 350 of Set 4 | toma\n",
      "Processing Record 351 of Set 4 | shakawe\n",
      "Processing Record 352 of Set 4 | padang\n",
      "Processing Record 353 of Set 4 | chuy\n",
      "Processing Record 354 of Set 4 | port lincoln\n",
      "City not found.....skipping\n",
      "Processing Record 356 of Set 4 | jalu\n",
      "Processing Record 357 of Set 4 | dudinka\n",
      "Processing Record 358 of Set 4 | mazagao\n",
      "Processing Record 359 of Set 4 | pemberton\n",
      "Processing Record 360 of Set 4 | cidreira\n",
      "Processing Record 361 of Set 4 | comodoro rivadavia\n",
      "Processing Record 362 of Set 4 | avera\n",
      "Processing Record 363 of Set 4 | luganville\n",
      "Processing Record 364 of Set 4 | sao filipe\n",
      "Processing Record 365 of Set 4 | tautira\n",
      "Processing Record 366 of Set 4 | nikki\n",
      "City not found.....skipping\n",
      "Processing Record 368 of Set 4 | dajabon\n",
      "Processing Record 369 of Set 4 | sukhumi\n",
      "Processing Record 370 of Set 4 | mackay\n",
      "City not found.....skipping\n",
      "Processing Record 372 of Set 4 | andahuaylas\n",
      "Processing Record 373 of Set 4 | amarante do maranhao\n",
      "Processing Record 374 of Set 4 | laguna\n",
      "Processing Record 375 of Set 4 | nara\n",
      "Processing Record 376 of Set 4 | nayagarh\n",
      "Processing Record 377 of Set 4 | arlit\n",
      "Processing Record 378 of Set 4 | aklavik\n",
      "Processing Record 379 of Set 4 | necochea\n",
      "Processing Record 380 of Set 4 | roald\n",
      "Processing Record 381 of Set 4 | unity\n",
      "Processing Record 382 of Set 4 | mount isa\n",
      "Processing Record 383 of Set 4 | savannah bight\n",
      "Processing Record 384 of Set 4 | pozhva\n",
      "Processing Record 385 of Set 4 | udachnyy\n",
      "Processing Record 386 of Set 4 | okhotsk\n",
      "Processing Record 387 of Set 4 | tunduma\n",
      "Processing Record 388 of Set 4 | pangai\n",
      "Processing Record 389 of Set 4 | merrill\n",
      "Processing Record 390 of Set 4 | am timan\n",
      "Processing Record 391 of Set 4 | pangody\n",
      "Processing Record 392 of Set 4 | karratha\n",
      "Processing Record 393 of Set 4 | alice springs\n",
      "Processing Record 394 of Set 4 | korla\n",
      "Processing Record 395 of Set 4 | cadiz\n",
      "Processing Record 396 of Set 4 | oltu\n",
      "Processing Record 397 of Set 4 | tual\n",
      "Processing Record 398 of Set 4 | victor harbor\n",
      "Processing Record 399 of Set 4 | bambanglipuro\n",
      "Processing Record 400 of Set 4 | yashan\n",
      "Processing Record 401 of Set 4 | sangar\n",
      "Processing Record 402 of Set 4 | cayenne\n",
      "Processing Record 403 of Set 4 | fukue\n",
      "Processing Record 404 of Set 4 | pevek\n",
      "Processing Record 405 of Set 4 | sioux lookout\n",
      "Processing Record 406 of Set 4 | sidi ali\n",
      "Processing Record 407 of Set 4 | kupang\n",
      "Processing Record 408 of Set 4 | calvinia\n"
     ]
    },
    {
     "name": "stdout",
     "output_type": "stream",
     "text": [
      "Processing Record 409 of Set 4 | viransehir\n",
      "City not found.....skipping\n",
      "Processing Record 411 of Set 4 | honiara\n",
      "Processing Record 412 of Set 4 | cap malheureux\n",
      "Processing Record 413 of Set 4 | labuan\n",
      "Processing Record 414 of Set 4 | bilibino\n",
      "Processing Record 415 of Set 4 | ilulissat\n",
      "City not found.....skipping\n",
      "Processing Record 417 of Set 4 | cartagena\n",
      "Processing Record 418 of Set 4 | abha\n",
      "Processing Record 419 of Set 4 | xunchang\n",
      "Processing Record 420 of Set 4 | san policarpo\n",
      "Processing Record 421 of Set 4 | diu\n",
      "Processing Record 422 of Set 4 | kavaratti\n",
      "Processing Record 423 of Set 4 | bayan\n",
      "Processing Record 424 of Set 4 | dalby\n",
      "Processing Record 425 of Set 4 | tocopilla\n",
      "Processing Record 426 of Set 4 | kahului\n",
      "Processing Record 427 of Set 4 | yantal\n",
      "Processing Record 428 of Set 4 | coquimbo\n",
      "Processing Record 429 of Set 4 | whitehorse\n",
      "Processing Record 430 of Set 4 | hermosillo\n",
      "Processing Record 431 of Set 4 | ulladulla\n",
      "Processing Record 432 of Set 4 | ajaccio\n",
      "Processing Record 433 of Set 4 | pampa\n",
      "Processing Record 434 of Set 4 | kamina\n",
      "Processing Record 435 of Set 4 | santarem\n",
      "Processing Record 436 of Set 4 | chulym\n",
      "Processing Record 437 of Set 4 | coueron\n",
      "Processing Record 438 of Set 4 | bandar\n",
      "Processing Record 439 of Set 4 | barstow\n",
      "Processing Record 440 of Set 4 | westport\n",
      "Processing Record 441 of Set 4 | redlands\n",
      "Processing Record 442 of Set 4 | bani walid\n",
      "Processing Record 443 of Set 4 | starosubkhangulovo\n",
      "Processing Record 444 of Set 4 | son la\n",
      "Processing Record 445 of Set 4 | krasnoselkup\n",
      "Processing Record 446 of Set 4 | otavi\n",
      "Processing Record 447 of Set 4 | mucurapo\n",
      "Processing Record 448 of Set 4 | kabare\n",
      "Processing Record 449 of Set 4 | gat\n",
      "City not found.....skipping\n",
      "Processing Record 451 of Set 4 | yala\n",
      "City not found.....skipping\n",
      "Processing Record 453 of Set 4 | marquette\n",
      "Processing Record 454 of Set 4 | muli\n",
      "Processing Record 455 of Set 4 | ferme-neuve\n",
      "Processing Record 456 of Set 4 | nuevo casas grandes\n",
      "Processing Record 457 of Set 4 | porto novo\n",
      "Processing Record 458 of Set 4 | prieska\n",
      "Processing Record 459 of Set 4 | ewa beach\n",
      "Processing Record 460 of Set 4 | nizhnyaya tavda\n",
      "Processing Record 461 of Set 4 | shimoda\n",
      "City not found.....skipping\n",
      "City not found.....skipping\n",
      "Processing Record 464 of Set 4 | mahanoro\n",
      "Processing Record 465 of Set 4 | plettenberg bay\n",
      "Processing Record 466 of Set 4 | bougouni\n",
      "Processing Record 467 of Set 4 | pishin\n",
      "Processing Record 468 of Set 4 | san quintin\n",
      "Processing Record 469 of Set 4 | shakhovskaya\n",
      "Processing Record 470 of Set 4 | iquique\n",
      "Processing Record 471 of Set 4 | maldonado\n",
      "Processing Record 472 of Set 4 | chanika\n",
      "Processing Record 473 of Set 4 | melnikovo\n",
      "Processing Record 474 of Set 4 | takoradi\n",
      "Processing Record 475 of Set 4 | nerja\n",
      "Processing Record 476 of Set 4 | ilo\n",
      "Processing Record 477 of Set 4 | banjarmasin\n",
      "City not found.....skipping\n",
      "Processing Record 479 of Set 4 | matipo\n",
      "Processing Record 480 of Set 4 | the valley\n",
      "City not found.....skipping\n",
      "Processing Record 482 of Set 4 | solnechnyy\n",
      "City not found.....skipping\n",
      "Processing Record 484 of Set 4 | acari\n",
      "Processing Record 485 of Set 4 | dubbo\n",
      "Processing Record 486 of Set 4 | bay roberts\n",
      "Processing Record 487 of Set 4 | kungurtug\n",
      "Processing Record 488 of Set 4 | marystown\n",
      "Processing Record 489 of Set 4 | denizli\n",
      "Processing Record 490 of Set 4 | homer\n",
      "Processing Record 491 of Set 4 | muros\n",
      "Processing Record 492 of Set 4 | assai\n",
      "Processing Record 493 of Set 4 | manaus\n",
      "Processing Record 494 of Set 4 | hambantota\n",
      "Processing Record 495 of Set 4 | kashi\n",
      "Processing Record 496 of Set 4 | tabou\n",
      "Processing Record 497 of Set 4 | oranjemund\n",
      "Processing Record 498 of Set 4 | atherton\n",
      "Processing Record 499 of Set 4 | katsuura\n",
      "Processing Record 500 of Set 4 | salalah\n",
      "City not found.....skipping\n",
      "Processing Record 502 of Set 4 | rio gallegos\n",
      "Processing Record 503 of Set 4 | makaha\n",
      "City not found.....skipping\n",
      "Processing Record 505 of Set 4 | antananarivo\n",
      "Processing Record 506 of Set 4 | barranca\n",
      "Processing Record 507 of Set 4 | constitucion\n",
      "Processing Record 508 of Set 4 | otukpo\n",
      "Processing Record 509 of Set 4 | yerbogachen\n",
      "Processing Record 510 of Set 4 | sabinas hidalgo\n",
      "Processing Record 511 of Set 4 | koster\n",
      "Processing Record 512 of Set 4 | el alto\n",
      "Processing Record 513 of Set 4 | rio branco\n",
      "City not found.....skipping\n",
      "Processing Record 515 of Set 4 | klaksvik\n",
      "Processing Record 516 of Set 4 | roma\n",
      "Processing Record 517 of Set 4 | opuwo\n",
      "Processing Record 518 of Set 4 | usak\n",
      "Processing Record 519 of Set 4 | bergama\n",
      "Processing Record 520 of Set 4 | lantawan\n",
      "Processing Record 521 of Set 4 | mapiripan\n",
      "Processing Record 522 of Set 4 | buncrana\n",
      "Processing Record 523 of Set 4 | grenaa\n",
      "Processing Record 524 of Set 4 | turukhansk\n",
      "Processing Record 525 of Set 4 | bakel\n",
      "Processing Record 526 of Set 4 | great bend\n",
      "Processing Record 527 of Set 4 | kalininsk\n",
      "Processing Record 528 of Set 4 | talakan\n",
      "Processing Record 529 of Set 4 | bulawayo\n",
      "Processing Record 530 of Set 4 | aswan\n",
      "Processing Record 531 of Set 4 | port-gentil\n",
      "Processing Record 532 of Set 4 | namibe\n",
      "City not found.....skipping\n",
      "Processing Record 534 of Set 4 | ilhabela\n",
      "Processing Record 535 of Set 4 | sobolevo\n",
      "Processing Record 536 of Set 4 | xalpatlahuac\n",
      "Processing Record 537 of Set 4 | puerto madero\n",
      "Processing Record 538 of Set 4 | pedro juan caballero\n",
      "Processing Record 539 of Set 4 | limulunga\n",
      "Processing Record 540 of Set 4 | san juan\n",
      "Processing Record 541 of Set 4 | nixa\n",
      "Processing Record 542 of Set 4 | mago\n",
      "Processing Record 543 of Set 4 | lavrentiya\n",
      "Processing Record 544 of Set 4 | krasnouralsk\n",
      "Processing Record 545 of Set 4 | noumea\n",
      "Processing Record 546 of Set 4 | prescott\n",
      "Processing Record 547 of Set 4 | moyale\n",
      "Processing Record 548 of Set 4 | mwinilunga\n",
      "Processing Record 549 of Set 4 | berlevag\n",
      "Processing Record 550 of Set 4 | miri\n",
      "City not found.....skipping\n",
      "Processing Record 552 of Set 4 | manta\n",
      "Processing Record 553 of Set 4 | ballina\n",
      "Processing Record 554 of Set 4 | kilemary\n",
      "Processing Record 555 of Set 4 | portland\n",
      "Processing Record 556 of Set 4 | touros\n",
      "Processing Record 557 of Set 4 | bosaso\n",
      "Processing Record 558 of Set 4 | pendleton\n",
      "Processing Record 559 of Set 4 | alihe\n",
      "Processing Record 560 of Set 4 | altay\n",
      "Processing Record 561 of Set 4 | balabac\n",
      "Processing Record 562 of Set 4 | binabalian\n",
      "Processing Record 563 of Set 4 | kocevje\n",
      "City not found.....skipping\n",
      "Processing Record 565 of Set 4 | taltal\n",
      "Processing Record 566 of Set 4 | anadyr\n",
      "Processing Record 567 of Set 4 | burnie\n",
      "Processing Record 568 of Set 4 | bom jesus da lapa\n",
      "Processing Record 569 of Set 4 | brigantine\n",
      "Processing Record 570 of Set 4 | tweed\n",
      "Processing Record 571 of Set 4 | phek\n",
      "Processing Record 572 of Set 4 | durham\n",
      "Processing Record 573 of Set 4 | rumphi\n",
      "City not found.....skipping\n",
      "Processing Record 575 of Set 4 | matagami\n",
      "Processing Record 576 of Set 4 | doha\n",
      "City not found.....skipping\n",
      "Processing Record 578 of Set 4 | shingu\n",
      "Processing Record 579 of Set 4 | lahaina\n",
      "Processing Record 580 of Set 4 | promyshlennaya\n",
      "Processing Record 581 of Set 4 | moroni\n",
      "Processing Record 582 of Set 4 | lasa\n",
      "City not found.....skipping\n",
      "Processing Record 584 of Set 4 | rosa zarate\n",
      "Processing Record 585 of Set 4 | general pico\n",
      "Processing Record 586 of Set 4 | dongsheng\n",
      "Processing Record 587 of Set 4 | torbay\n",
      "Processing Record 588 of Set 4 | bikramganj\n",
      "Processing Record 589 of Set 4 | novobirilyussy\n",
      "Processing Record 590 of Set 4 | panguipulli\n",
      "Processing Record 591 of Set 4 | belmonte\n",
      "City not found.....skipping\n",
      "Processing Record 593 of Set 4 | mareeba\n",
      "Processing Record 594 of Set 4 | leningradskiy\n",
      "Processing Record 595 of Set 4 | sambava\n",
      "Processing Record 596 of Set 4 | roseburg\n",
      "Processing Record 597 of Set 4 | mandera\n",
      "City not found.....skipping\n",
      "Processing Record 599 of Set 4 | kysyl-syr\n",
      "Processing Record 600 of Set 4 | inongo\n",
      "City not found.....skipping\n",
      "Processing Record 602 of Set 4 | nenjiang\n",
      "Processing Record 603 of Set 4 | kirkwall\n",
      "Processing Record 604 of Set 4 | onguday\n",
      "Beginning Data Retrieval\n",
      "-----------------------------\n"
     ]
    }
   ],
   "source": [
    "# set up lists to hold reponse info (will be used for df)...city already done in previous code\n",
    "cityName = []\n",
    "clouds = []\n",
    "country = []\n",
    "date = []\n",
    "humidity = []\n",
    "lat = []\n",
    "long = []\n",
    "max_temp = []\n",
    "wind_speed = []\n",
    "\n",
    "\n",
    "# Loop through the list of cities and perform a request for data on each\n",
    "set_count = 0\n",
    "start_count = 49\n",
    "\n",
    "for count, city in enumerate(cities,1):\n",
    "    try:\n",
    "        response = requests.get(query_url + city).json()\n",
    "        cityName.append(response[\"name\"])\n",
    "        clouds.append(response[\"clouds\"][\"all\"])\n",
    "        country.append(response[\"sys\"][\"country\"])\n",
    "        date.append(response[\"dt\"])\n",
    "        humidity.append(response[\"main\"][\"humidity\"])\n",
    "        lat.append(response[\"coord\"][\"lat\"])\n",
    "        long.append(response[\"coord\"][\"lon\"])\n",
    "        max_temp.append(response[\"main\"][\"temp_max\"])\n",
    "        wind_speed.append(response[\"wind\"][\"speed\"])\n",
    "        if count/50==set_count+1:\n",
    "            set_count=set_count+1\n",
    "        print(f\"Processing Record {count} of Set {set_count} | {city}\")\n",
    "    except:\n",
    "        print(f\"City not found.....skipping\")\n",
    "print(f\"Beginning Data Retrieval\")\n",
    "print(f\"-----------------------------\")"
   ]
  },
  {
   "cell_type": "code",
   "execution_count": 112,
   "metadata": {},
   "outputs": [],
   "source": [
    "response = requests.get(query_url + \"kassala\").json()\n",
    "#print(json.dumps(response, indent=4, sort_keys=True))"
   ]
  },
  {
   "cell_type": "code",
   "execution_count": 113,
   "metadata": {},
   "outputs": [
    {
     "data": {
      "text/html": [
       "<div>\n",
       "<style scoped>\n",
       "    .dataframe tbody tr th:only-of-type {\n",
       "        vertical-align: middle;\n",
       "    }\n",
       "\n",
       "    .dataframe tbody tr th {\n",
       "        vertical-align: top;\n",
       "    }\n",
       "\n",
       "    .dataframe thead th {\n",
       "        text-align: right;\n",
       "    }\n",
       "</style>\n",
       "<table border=\"1\" class=\"dataframe\">\n",
       "  <thead>\n",
       "    <tr style=\"text-align: right;\">\n",
       "      <th></th>\n",
       "      <th>City</th>\n",
       "      <th>Cloudiness</th>\n",
       "      <th>Country</th>\n",
       "      <th>Date</th>\n",
       "      <th>Humidity</th>\n",
       "      <th>Lat</th>\n",
       "      <th>Lng</th>\n",
       "      <th>Max Temp</th>\n",
       "      <th>Wind Speed</th>\n",
       "    </tr>\n",
       "  </thead>\n",
       "  <tbody>\n",
       "    <tr>\n",
       "      <td>0</td>\n",
       "      <td>Mar del Plata</td>\n",
       "      <td>33</td>\n",
       "      <td>AR</td>\n",
       "      <td>1580024619</td>\n",
       "      <td>93</td>\n",
       "      <td>-38.00</td>\n",
       "      <td>-57.56</td>\n",
       "      <td>16.67</td>\n",
       "      <td>1.55</td>\n",
       "    </tr>\n",
       "    <tr>\n",
       "      <td>1</td>\n",
       "      <td>Hervey Bay</td>\n",
       "      <td>40</td>\n",
       "      <td>AU</td>\n",
       "      <td>1580024619</td>\n",
       "      <td>58</td>\n",
       "      <td>-25.30</td>\n",
       "      <td>152.85</td>\n",
       "      <td>30.00</td>\n",
       "      <td>5.70</td>\n",
       "    </tr>\n",
       "    <tr>\n",
       "      <td>2</td>\n",
       "      <td>Rundu</td>\n",
       "      <td>1</td>\n",
       "      <td>NA</td>\n",
       "      <td>1580024619</td>\n",
       "      <td>78</td>\n",
       "      <td>-17.93</td>\n",
       "      <td>19.77</td>\n",
       "      <td>24.00</td>\n",
       "      <td>2.60</td>\n",
       "    </tr>\n",
       "    <tr>\n",
       "      <td>3</td>\n",
       "      <td>Saint George</td>\n",
       "      <td>1</td>\n",
       "      <td>US</td>\n",
       "      <td>1580024619</td>\n",
       "      <td>57</td>\n",
       "      <td>37.10</td>\n",
       "      <td>-113.58</td>\n",
       "      <td>7.00</td>\n",
       "      <td>1.50</td>\n",
       "    </tr>\n",
       "    <tr>\n",
       "      <td>4</td>\n",
       "      <td>Richards Bay</td>\n",
       "      <td>0</td>\n",
       "      <td>ZA</td>\n",
       "      <td>1580024619</td>\n",
       "      <td>70</td>\n",
       "      <td>-28.78</td>\n",
       "      <td>32.04</td>\n",
       "      <td>28.73</td>\n",
       "      <td>6.37</td>\n",
       "    </tr>\n",
       "  </tbody>\n",
       "</table>\n",
       "</div>"
      ],
      "text/plain": [
       "            City  Cloudiness Country        Date  Humidity    Lat     Lng  \\\n",
       "0  Mar del Plata          33      AR  1580024619        93 -38.00  -57.56   \n",
       "1     Hervey Bay          40      AU  1580024619        58 -25.30  152.85   \n",
       "2          Rundu           1      NA  1580024619        78 -17.93   19.77   \n",
       "3   Saint George           1      US  1580024619        57  37.10 -113.58   \n",
       "4   Richards Bay           0      ZA  1580024619        70 -28.78   32.04   \n",
       "\n",
       "   Max Temp  Wind Speed  \n",
       "0     16.67        1.55  \n",
       "1     30.00        5.70  \n",
       "2     24.00        2.60  \n",
       "3      7.00        1.50  \n",
       "4     28.73        6.37  "
      ]
     },
     "execution_count": 113,
     "metadata": {},
     "output_type": "execute_result"
    }
   ],
   "source": [
    "# create a data frame from cities, lat, and temp\n",
    "weather_dict = {\n",
    "    \"City\": cityName,\n",
    "    \"Cloudiness\": clouds,\n",
    "    \"Country\": country,\n",
    "    \"Date\": date,\n",
    "    \"Humidity\": humidity,\n",
    "    \"Lat\": lat,\n",
    "    \"Lng\": long,\n",
    "    \"Max Temp\": max_temp,\n",
    "    \"Wind Speed\": wind_speed\n",
    "}\n",
    "weather_data = pd.DataFrame(weather_dict)\n",
    "weather_data.head()"
   ]
  },
  {
   "cell_type": "code",
   "execution_count": 114,
   "metadata": {},
   "outputs": [],
   "source": [
    "weather_data.to_csv(\"weatherOutput.csv\", index=False, header=True)"
   ]
  },
  {
   "cell_type": "code",
   "execution_count": 115,
   "metadata": {},
   "outputs": [
    {
     "data": {
      "image/png": "[encoded data removed]",
      "text/plain": [
       "<Figure size 432x288 with 1 Axes>"
      ]
     },
     "metadata": {
      "needs_background": "light"
     },
     "output_type": "display_data"
    },
    {
     "data": {
      "text/plain": [
       "<function matplotlib.pyplot.show(*args, **kw)>"
      ]
     },
     "execution_count": 115,
     "metadata": {},
     "output_type": "execute_result"
    },
    {
     "data": {
      "text/plain": [
       "<Figure size 432x288 with 0 Axes>"
      ]
     },
     "metadata": {},
     "output_type": "display_data"
    }
   ],
   "source": [
    "#scatter plot lat vs temp\n",
    "x_axis = weather_data['Lat']\n",
    "\n",
    "# Create a list of data that we will use for our y values\n",
    "y_axis = weather_data['Max Temp']\n",
    "\n",
    "# The size of each point on our plot is determined by their x value\n",
    "plt.scatter(x_axis, y_axis, marker=\"o\", facecolors=\"red\", edgecolors=\"black\",\n",
    "           alpha=0.75)\n",
    "plt.title(\"City Latitude vs Max Tempurature\")\n",
    "plt.ylabel(\"Max Temperature (F)\")\n",
    "plt.xlabel(\"City Latitude\")\n",
    "plt.show()\n",
    "\n",
    "#save chart to a .png file\n",
    "plt.savefig(\"cityLat_vs_windSpeed.png\")\n",
    "plt.show"
   ]
  },
  {
   "cell_type": "code",
   "execution_count": 116,
   "metadata": {},
   "outputs": [
    {
     "data": {
      "image/png": "[encoded data removed]",
      "text/plain": [
       "<Figure size 432x288 with 1 Axes>"
      ]
     },
     "metadata": {
      "needs_background": "light"
     },
     "output_type": "display_data"
    },
    {
     "data": {
      "text/plain": [
       "<function matplotlib.pyplot.show(*args, **kw)>"
      ]
     },
     "execution_count": 116,
     "metadata": {},
     "output_type": "execute_result"
    },
    {
     "data": {
      "text/plain": [
       "<Figure size 432x288 with 0 Axes>"
      ]
     },
     "metadata": {},
     "output_type": "display_data"
    }
   ],
   "source": [
    "#scatter plot lat vs temp\n",
    "x_axis = weather_data['Lat']\n",
    "\n",
    "# Create a list of data that we will use for our y values\n",
    "y_axis = weather_data['Humidity']\n",
    "\n",
    "# The size of each point on our plot is determined by their x value\n",
    "plt.scatter(x_axis, y_axis, marker=\"o\", facecolors=\"red\", edgecolors=\"black\",\n",
    "           alpha=0.75)\n",
    "plt.title(\"City Latitude vs Humidity\")\n",
    "plt.ylabel(\"Humidity\")\n",
    "plt.xlabel(\"City Latitude\")\n",
    "plt.show()\n",
    "\n",
    "#save chart to a .png file\n",
    "plt.savefig(\"cityLat_vs_humidity.png\")\n",
    "plt.show"
   ]
  },
  {
   "cell_type": "code",
   "execution_count": 117,
   "metadata": {},
   "outputs": [
    {
     "data": {
      "image/png": "[encoded data removed]",
      "text/plain": [
       "<Figure size 432x288 with 1 Axes>"
      ]
     },
     "metadata": {
      "needs_background": "light"
     },
     "output_type": "display_data"
    },
    {
     "data": {
      "text/plain": [
       "<function matplotlib.pyplot.show(*args, **kw)>"
      ]
     },
     "execution_count": 117,
     "metadata": {},
     "output_type": "execute_result"
    },
    {
     "data": {
      "text/plain": [
       "<Figure size 432x288 with 0 Axes>"
      ]
     },
     "metadata": {},
     "output_type": "display_data"
    }
   ],
   "source": [
    "#scatter plot lat vs cloudiness\n",
    "x_axis = weather_data['Lat']\n",
    "\n",
    "# Create a list of data that we will use for our y values\n",
    "y_axis = weather_data['Cloudiness']\n",
    "\n",
    "# The size of each point on our plot is determined by their x value\n",
    "plt.scatter(x_axis, y_axis, marker=\"o\", facecolors=\"red\", edgecolors=\"black\",\n",
    "           alpha=0.75)\n",
    "plt.title(\"City Latitude vs Coudiness\")\n",
    "plt.ylabel(\"Humidity\")\n",
    "plt.xlabel(\"City Latitude\")\n",
    "plt.show()\n",
    "\n",
    "#save chart to a .png file\n",
    "plt.savefig(\"cityLat_vs_cloudiness.png\")\n",
    "plt.show"
   ]
  },
  {
   "cell_type": "code",
   "execution_count": 118,
   "metadata": {},
   "outputs": [
    {
     "data": {
      "image/png": "[encoded data removed]",
      "text/plain": [
       "<Figure size 432x288 with 1 Axes>"
      ]
     },
     "metadata": {
      "needs_background": "light"
     },
     "output_type": "display_data"
    },
    {
     "data": {
      "text/plain": [
       "<function matplotlib.pyplot.show(*args, **kw)>"
      ]
     },
     "execution_count": 118,
     "metadata": {},
     "output_type": "execute_result"
    },
    {
     "data": {
      "text/plain": [
       "<Figure size 432x288 with 0 Axes>"
      ]
     },
     "metadata": {},
     "output_type": "display_data"
    }
   ],
   "source": [
    "#scatter plot lat vs cloudiness\n",
    "x_axis = weather_data['Lat']\n",
    "\n",
    "# Create a list of data that we will use for our y values\n",
    "y_axis = weather_data['Wind Speed']\n",
    "\n",
    "# The size of each point on our plot is determined by their x value\n",
    "plt.scatter(x_axis, y_axis, marker=\"o\", facecolors=\"red\", edgecolors=\"black\",\n",
    "           alpha=0.75)\n",
    "plt.title(\"City Latitude vs Wind Speed\")\n",
    "plt.ylabel(\"Wind Speed\")\n",
    "plt.xlabel(\"City Latitude\")\n",
    "plt.show()\n",
    "\n",
    "#save chart to a .png file\n",
    "plt.savefig(\"cityLat_vs_windSpeed.png\")\n",
    "plt.show"
   ]
  },
  {
   "cell_type": "code",
   "execution_count": 119,
   "metadata": {},
   "outputs": [
    {
     "data": {
      "text/html": [
       "<div>\n",
       "<style scoped>\n",
       "    .dataframe tbody tr th:only-of-type {\n",
       "        vertical-align: middle;\n",
       "    }\n",
       "\n",
       "    .dataframe tbody tr th {\n",
       "        vertical-align: top;\n",
       "    }\n",
       "\n",
       "    .dataframe thead th {\n",
       "        text-align: right;\n",
       "    }\n",
       "</style>\n",
       "<table border=\"1\" class=\"dataframe\">\n",
       "  <thead>\n",
       "    <tr style=\"text-align: right;\">\n",
       "      <th></th>\n",
       "      <th>City</th>\n",
       "      <th>Cloudiness</th>\n",
       "      <th>Country</th>\n",
       "      <th>Date</th>\n",
       "      <th>Humidity</th>\n",
       "      <th>Lat</th>\n",
       "      <th>Lng</th>\n",
       "      <th>Max Temp</th>\n",
       "      <th>Wind Speed</th>\n",
       "    </tr>\n",
       "  </thead>\n",
       "  <tbody>\n",
       "    <tr>\n",
       "      <td>3</td>\n",
       "      <td>Saint George</td>\n",
       "      <td>1</td>\n",
       "      <td>US</td>\n",
       "      <td>1580024619</td>\n",
       "      <td>57</td>\n",
       "      <td>37.10</td>\n",
       "      <td>-113.58</td>\n",
       "      <td>7.00</td>\n",
       "      <td>1.50</td>\n",
       "    </tr>\n",
       "    <tr>\n",
       "      <td>6</td>\n",
       "      <td>Severo-Kuril'sk</td>\n",
       "      <td>100</td>\n",
       "      <td>RU</td>\n",
       "      <td>1580024619</td>\n",
       "      <td>91</td>\n",
       "      <td>50.68</td>\n",
       "      <td>156.12</td>\n",
       "      <td>-7.86</td>\n",
       "      <td>17.39</td>\n",
       "    </tr>\n",
       "    <tr>\n",
       "      <td>8</td>\n",
       "      <td>Butaritari</td>\n",
       "      <td>36</td>\n",
       "      <td>KI</td>\n",
       "      <td>1580024619</td>\n",
       "      <td>72</td>\n",
       "      <td>3.07</td>\n",
       "      <td>172.79</td>\n",
       "      <td>29.47</td>\n",
       "      <td>2.77</td>\n",
       "    </tr>\n",
       "    <tr>\n",
       "      <td>10</td>\n",
       "      <td>Praia</td>\n",
       "      <td>75</td>\n",
       "      <td>CV</td>\n",
       "      <td>1580024620</td>\n",
       "      <td>78</td>\n",
       "      <td>14.92</td>\n",
       "      <td>-23.51</td>\n",
       "      <td>22.00</td>\n",
       "      <td>7.20</td>\n",
       "    </tr>\n",
       "    <tr>\n",
       "      <td>11</td>\n",
       "      <td>Male</td>\n",
       "      <td>100</td>\n",
       "      <td>MV</td>\n",
       "      <td>1580024620</td>\n",
       "      <td>73</td>\n",
       "      <td>4.17</td>\n",
       "      <td>73.51</td>\n",
       "      <td>27.67</td>\n",
       "      <td>4.47</td>\n",
       "    </tr>\n",
       "    <tr>\n",
       "      <td>...</td>\n",
       "      <td>...</td>\n",
       "      <td>...</td>\n",
       "      <td>...</td>\n",
       "      <td>...</td>\n",
       "      <td>...</td>\n",
       "      <td>...</td>\n",
       "      <td>...</td>\n",
       "      <td>...</td>\n",
       "      <td>...</td>\n",
       "    </tr>\n",
       "    <tr>\n",
       "      <td>535</td>\n",
       "      <td>Mandera</td>\n",
       "      <td>56</td>\n",
       "      <td>KE</td>\n",
       "      <td>1580024700</td>\n",
       "      <td>34</td>\n",
       "      <td>3.94</td>\n",
       "      <td>41.87</td>\n",
       "      <td>34.62</td>\n",
       "      <td>5.75</td>\n",
       "    </tr>\n",
       "    <tr>\n",
       "      <td>536</td>\n",
       "      <td>Kysyl-Syr</td>\n",
       "      <td>97</td>\n",
       "      <td>RU</td>\n",
       "      <td>1580024700</td>\n",
       "      <td>94</td>\n",
       "      <td>63.90</td>\n",
       "      <td>122.76</td>\n",
       "      <td>-31.62</td>\n",
       "      <td>5.79</td>\n",
       "    </tr>\n",
       "    <tr>\n",
       "      <td>538</td>\n",
       "      <td>Mergen</td>\n",
       "      <td>0</td>\n",
       "      <td>CN</td>\n",
       "      <td>1580024701</td>\n",
       "      <td>88</td>\n",
       "      <td>49.18</td>\n",
       "      <td>125.22</td>\n",
       "      <td>-15.49</td>\n",
       "      <td>3.04</td>\n",
       "    </tr>\n",
       "    <tr>\n",
       "      <td>539</td>\n",
       "      <td>Kirkwall</td>\n",
       "      <td>100</td>\n",
       "      <td>GB</td>\n",
       "      <td>1580024701</td>\n",
       "      <td>87</td>\n",
       "      <td>58.98</td>\n",
       "      <td>-2.96</td>\n",
       "      <td>7.00</td>\n",
       "      <td>12.90</td>\n",
       "    </tr>\n",
       "    <tr>\n",
       "      <td>540</td>\n",
       "      <td>Onguday</td>\n",
       "      <td>100</td>\n",
       "      <td>RU</td>\n",
       "      <td>1580024701</td>\n",
       "      <td>89</td>\n",
       "      <td>50.75</td>\n",
       "      <td>86.15</td>\n",
       "      <td>-9.29</td>\n",
       "      <td>3.69</td>\n",
       "    </tr>\n",
       "  </tbody>\n",
       "</table>\n",
       "<p>364 rows × 9 columns</p>\n",
       "</div>"
      ],
      "text/plain": [
       "                City  Cloudiness Country        Date  Humidity    Lat     Lng  \\\n",
       "3       Saint George           1      US  1580024619        57  37.10 -113.58   \n",
       "6    Severo-Kuril'sk         100      RU  1580024619        91  50.68  156.12   \n",
       "8         Butaritari          36      KI  1580024619        72   3.07  172.79   \n",
       "10             Praia          75      CV  1580024620        78  14.92  -23.51   \n",
       "11              Male         100      MV  1580024620        73   4.17   73.51   \n",
       "..               ...         ...     ...         ...       ...    ...     ...   \n",
       "535          Mandera          56      KE  1580024700        34   3.94   41.87   \n",
       "536        Kysyl-Syr          97      RU  1580024700        94  63.90  122.76   \n",
       "538           Mergen           0      CN  1580024701        88  49.18  125.22   \n",
       "539         Kirkwall         100      GB  1580024701        87  58.98   -2.96   \n",
       "540          Onguday         100      RU  1580024701        89  50.75   86.15   \n",
       "\n",
       "     Max Temp  Wind Speed  \n",
       "3        7.00        1.50  \n",
       "6       -7.86       17.39  \n",
       "8       29.47        2.77  \n",
       "10      22.00        7.20  \n",
       "11      27.67        4.47  \n",
       "..        ...         ...  \n",
       "535     34.62        5.75  \n",
       "536    -31.62        5.79  \n",
       "538    -15.49        3.04  \n",
       "539      7.00       12.90  \n",
       "540     -9.29        3.69  \n",
       "\n",
       "[364 rows x 9 columns]"
      ]
     },
     "execution_count": 119,
     "metadata": {},
     "output_type": "execute_result"
    }
   ],
   "source": [
    "# create Northern Hemisphere\n",
    "northern_df = weather_data[weather_data['Lat']>=0]\n",
    "northern_df"
   ]
  },
  {
   "cell_type": "code",
   "execution_count": 120,
   "metadata": {},
   "outputs": [
    {
     "data": {
      "text/html": [
       "<div>\n",
       "<style scoped>\n",
       "    .dataframe tbody tr th:only-of-type {\n",
       "        vertical-align: middle;\n",
       "    }\n",
       "\n",
       "    .dataframe tbody tr th {\n",
       "        vertical-align: top;\n",
       "    }\n",
       "\n",
       "    .dataframe thead th {\n",
       "        text-align: right;\n",
       "    }\n",
       "</style>\n",
       "<table border=\"1\" class=\"dataframe\">\n",
       "  <thead>\n",
       "    <tr style=\"text-align: right;\">\n",
       "      <th></th>\n",
       "      <th>City</th>\n",
       "      <th>Cloudiness</th>\n",
       "      <th>Country</th>\n",
       "      <th>Date</th>\n",
       "      <th>Humidity</th>\n",
       "      <th>Lat</th>\n",
       "      <th>Lng</th>\n",
       "      <th>Max Temp</th>\n",
       "      <th>Wind Speed</th>\n",
       "    </tr>\n",
       "  </thead>\n",
       "  <tbody>\n",
       "    <tr>\n",
       "      <td>0</td>\n",
       "      <td>Mar del Plata</td>\n",
       "      <td>33</td>\n",
       "      <td>AR</td>\n",
       "      <td>1580024619</td>\n",
       "      <td>93</td>\n",
       "      <td>-38.00</td>\n",
       "      <td>-57.56</td>\n",
       "      <td>16.67</td>\n",
       "      <td>1.55</td>\n",
       "    </tr>\n",
       "    <tr>\n",
       "      <td>1</td>\n",
       "      <td>Hervey Bay</td>\n",
       "      <td>40</td>\n",
       "      <td>AU</td>\n",
       "      <td>1580024619</td>\n",
       "      <td>58</td>\n",
       "      <td>-25.30</td>\n",
       "      <td>152.85</td>\n",
       "      <td>30.00</td>\n",
       "      <td>5.70</td>\n",
       "    </tr>\n",
       "    <tr>\n",
       "      <td>2</td>\n",
       "      <td>Rundu</td>\n",
       "      <td>1</td>\n",
       "      <td>NA</td>\n",
       "      <td>1580024619</td>\n",
       "      <td>78</td>\n",
       "      <td>-17.93</td>\n",
       "      <td>19.77</td>\n",
       "      <td>24.00</td>\n",
       "      <td>2.60</td>\n",
       "    </tr>\n",
       "    <tr>\n",
       "      <td>4</td>\n",
       "      <td>Richards Bay</td>\n",
       "      <td>0</td>\n",
       "      <td>ZA</td>\n",
       "      <td>1580024619</td>\n",
       "      <td>70</td>\n",
       "      <td>-28.78</td>\n",
       "      <td>32.04</td>\n",
       "      <td>28.73</td>\n",
       "      <td>6.37</td>\n",
       "    </tr>\n",
       "    <tr>\n",
       "      <td>5</td>\n",
       "      <td>Hermanus</td>\n",
       "      <td>0</td>\n",
       "      <td>ZA</td>\n",
       "      <td>1580024619</td>\n",
       "      <td>66</td>\n",
       "      <td>-34.42</td>\n",
       "      <td>19.23</td>\n",
       "      <td>19.44</td>\n",
       "      <td>6.26</td>\n",
       "    </tr>\n",
       "    <tr>\n",
       "      <td>...</td>\n",
       "      <td>...</td>\n",
       "      <td>...</td>\n",
       "      <td>...</td>\n",
       "      <td>...</td>\n",
       "      <td>...</td>\n",
       "      <td>...</td>\n",
       "      <td>...</td>\n",
       "      <td>...</td>\n",
       "      <td>...</td>\n",
       "    </tr>\n",
       "    <tr>\n",
       "      <td>529</td>\n",
       "      <td>Panguipulli</td>\n",
       "      <td>20</td>\n",
       "      <td>CL</td>\n",
       "      <td>1580024699</td>\n",
       "      <td>100</td>\n",
       "      <td>-39.63</td>\n",
       "      <td>-72.33</td>\n",
       "      <td>15.00</td>\n",
       "      <td>0.50</td>\n",
       "    </tr>\n",
       "    <tr>\n",
       "      <td>530</td>\n",
       "      <td>Belmonte</td>\n",
       "      <td>90</td>\n",
       "      <td>BR</td>\n",
       "      <td>1580024699</td>\n",
       "      <td>88</td>\n",
       "      <td>-15.86</td>\n",
       "      <td>-38.88</td>\n",
       "      <td>26.00</td>\n",
       "      <td>3.60</td>\n",
       "    </tr>\n",
       "    <tr>\n",
       "      <td>531</td>\n",
       "      <td>Mareeba</td>\n",
       "      <td>100</td>\n",
       "      <td>AU</td>\n",
       "      <td>1580024700</td>\n",
       "      <td>94</td>\n",
       "      <td>-17.00</td>\n",
       "      <td>145.43</td>\n",
       "      <td>26.11</td>\n",
       "      <td>1.50</td>\n",
       "    </tr>\n",
       "    <tr>\n",
       "      <td>533</td>\n",
       "      <td>Sambava</td>\n",
       "      <td>100</td>\n",
       "      <td>MG</td>\n",
       "      <td>1580024700</td>\n",
       "      <td>91</td>\n",
       "      <td>-14.27</td>\n",
       "      <td>50.17</td>\n",
       "      <td>26.72</td>\n",
       "      <td>1.76</td>\n",
       "    </tr>\n",
       "    <tr>\n",
       "      <td>537</td>\n",
       "      <td>Inongo</td>\n",
       "      <td>90</td>\n",
       "      <td>CD</td>\n",
       "      <td>1580024700</td>\n",
       "      <td>23</td>\n",
       "      <td>-1.95</td>\n",
       "      <td>18.27</td>\n",
       "      <td>33.03</td>\n",
       "      <td>1.24</td>\n",
       "    </tr>\n",
       "  </tbody>\n",
       "</table>\n",
       "<p>177 rows × 9 columns</p>\n",
       "</div>"
      ],
      "text/plain": [
       "              City  Cloudiness Country        Date  Humidity    Lat     Lng  \\\n",
       "0    Mar del Plata          33      AR  1580024619        93 -38.00  -57.56   \n",
       "1       Hervey Bay          40      AU  1580024619        58 -25.30  152.85   \n",
       "2            Rundu           1      NA  1580024619        78 -17.93   19.77   \n",
       "4     Richards Bay           0      ZA  1580024619        70 -28.78   32.04   \n",
       "5         Hermanus           0      ZA  1580024619        66 -34.42   19.23   \n",
       "..             ...         ...     ...         ...       ...    ...     ...   \n",
       "529    Panguipulli          20      CL  1580024699       100 -39.63  -72.33   \n",
       "530       Belmonte          90      BR  1580024699        88 -15.86  -38.88   \n",
       "531        Mareeba         100      AU  1580024700        94 -17.00  145.43   \n",
       "533        Sambava         100      MG  1580024700        91 -14.27   50.17   \n",
       "537         Inongo          90      CD  1580024700        23  -1.95   18.27   \n",
       "\n",
       "     Max Temp  Wind Speed  \n",
       "0       16.67        1.55  \n",
       "1       30.00        5.70  \n",
       "2       24.00        2.60  \n",
       "4       28.73        6.37  \n",
       "5       19.44        6.26  \n",
       "..        ...         ...  \n",
       "529     15.00        0.50  \n",
       "530     26.00        3.60  \n",
       "531     26.11        1.50  \n",
       "533     26.72        1.76  \n",
       "537     33.03        1.24  \n",
       "\n",
       "[177 rows x 9 columns]"
      ]
     },
     "execution_count": 120,
     "metadata": {},
     "output_type": "execute_result"
    }
   ],
   "source": [
    "# create Southern Hemisphere\n",
    "southern_df = weather_data[weather_data['Lat']<0]\n",
    "southern_df"
   ]
  },
  {
   "cell_type": "code",
   "execution_count": 121,
   "metadata": {},
   "outputs": [],
   "source": [
    "#create x_axis and y_axis variables for north and south hemispheres, and various charts\n",
    "\n",
    "x_north = northern_df['Lat']\n",
    "x_south = southern_df['Lat']\n",
    "\n",
    "#create titles and variable for each chart\n",
    "title1 = \"Northern Hemisphere - Temperature (F) vs. Latitude\"\n",
    "y_north_temp = northern_df['Max Temp']\n",
    "\n",
    "title2 = \"Southern Hemisphere - Temperature (F) vs. Latitude\"\n",
    "y_south_temp = southern_df['Max Temp']\n",
    "\n",
    "title3 = \"Northern Hemisphere - Humidity (%) vs. Latitude\"\n",
    "y_north_humidity = northern_df['Humidity']\n",
    "\n",
    "title4 = \"Southern Hemisphere - Humidity (%) vs. Latitude\"\n",
    "y_south_humidity = southern_df['Humidity']\n",
    "\n",
    "title5 = \"Northern Hemisphere - Cloudiness (%) vs. Latitude\"\n",
    "y_north_clouds = northern_df['Cloudiness']\n",
    "\n",
    "title6 = \"Southern Hemisphere - Cloudiness (%) vs. Latitude\"\n",
    "y_south_clouds = southern_df['Cloudiness']\n",
    "\n",
    "title7 = \"Northern Hemisphere - Wind Speed (mph) vs. Latitude\"\n",
    "y_north_wind = northern_df['Wind Speed']\n",
    "\n",
    "title8 = \"Southern Hemisphere - Wind Speed (mph) vs. Latitude\"\n",
    "y_south_wind = southern_df['Wind Speed']\n",
    "\n",
    "#create x label to be used for all charts\n",
    "x_label = \"Latitude\"\n"
   ]
  },
  {
   "cell_type": "markdown",
   "metadata": {},
   "source": [
    "# #Northern Hemisphere - Temperature (F) vs. Latitude"
   ]
  },
  {
   "cell_type": "code",
   "execution_count": 122,
   "metadata": {},
   "outputs": [
    {
     "name": "stdout",
     "output_type": "stream",
     "text": [
      "The r-squared is: -0.8875353452484949\n"
     ]
    },
    {
     "data": {
      "image/png": "[encoded data removed]",
      "text/plain": [
       "<Figure size 432x288 with 1 Axes>"
      ]
     },
     "metadata": {
      "needs_background": "light"
     },
     "output_type": "display_data"
    },
    {
     "data": {
      "text/plain": [
       "<function matplotlib.pyplot.show(*args, **kw)>"
      ]
     },
     "execution_count": 122,
     "metadata": {},
     "output_type": "execute_result"
    },
    {
     "data": {
      "text/plain": [
       "<Figure size 432x288 with 0 Axes>"
      ]
     },
     "metadata": {},
     "output_type": "display_data"
    }
   ],
   "source": [
    "# Create northern hemisphere - temp vs lat with linear regression and r-squared\n",
    "x_values = x_north\n",
    "y_values = y_north_temp\n",
    "(slope, intercept, rvalue, pvalue, stderr) = linregress(x_values, y_values)\n",
    "regress_values = x_values * slope + intercept\n",
    "line_eq = \"y = \" + str(round(slope,2)) + \"x + \" + str(round(intercept,2))\n",
    "plt.scatter(x_values,y_values)\n",
    "plt.plot(x_values,regress_values,\"r-\")\n",
    "plt.annotate(line_eq,(0,-40),fontsize=12,color=\"red\")\n",
    "plt.title(title1)\n",
    "plt.xlabel(x_label)\n",
    "plt.ylabel(\"Max Temp\")\n",
    "print(f\"The r-squared is: {rvalue}\")\n",
    "plt.show()\n",
    "\n",
    "#save chart to a .png file\n",
    "plt.savefig(\"northHemLat_vs_temp.png\")\n",
    "plt.show"
   ]
  },
  {
   "cell_type": "markdown",
   "metadata": {},
   "source": [
    "# Southern Hemisphere - Temperature (F) vs. Latitude"
   ]
  },
  {
   "cell_type": "code",
   "execution_count": 123,
   "metadata": {},
   "outputs": [
    {
     "name": "stdout",
     "output_type": "stream",
     "text": [
      "The r-squared is: 0.5155078016021387\n"
     ]
    },
    {
     "data": {
      "image/png": "[encoded data removed]",
      "text/plain": [
       "<Figure size 432x288 with 1 Axes>"
      ]
     },
     "metadata": {
      "needs_background": "light"
     },
     "output_type": "display_data"
    },
    {
     "data": {
      "text/plain": [
       "<function matplotlib.pyplot.show(*args, **kw)>"
      ]
     },
     "execution_count": 123,
     "metadata": {},
     "output_type": "execute_result"
    },
    {
     "data": {
      "text/plain": [
       "<Figure size 432x288 with 0 Axes>"
      ]
     },
     "metadata": {},
     "output_type": "display_data"
    }
   ],
   "source": [
    "# Create southern hemisphere - temp vs lat with linear regression and r-squared\n",
    "x_values = x_south\n",
    "y_values = y_south_temp\n",
    "(slope, intercept, rvalue, pvalue, stderr) = linregress(x_values, y_values)\n",
    "regress_values = x_values * slope + intercept\n",
    "line_eq = \"y = \" + str(round(slope,2)) + \"x + \" + str(round(intercept,2))\n",
    "plt.scatter(x_values,y_values)\n",
    "plt.plot(x_values,regress_values,\"r-\")\n",
    "plt.annotate(line_eq,(-40,10),fontsize=12,color=\"red\")\n",
    "plt.title(title2)\n",
    "plt.xlabel(x_label)\n",
    "plt.ylabel(\"Max Temp\")\n",
    "print(f\"The r-squared is: {rvalue}\")\n",
    "plt.show()\n",
    "\n",
    "#save chart to a .png file\n",
    "plt.savefig(\"southHemLat_vs_temp.png\")\n",
    "plt.show"
   ]
  },
  {
   "cell_type": "markdown",
   "metadata": {},
   "source": [
    "# Northern Hemisphere - Humidity (%) vs. Latitude"
   ]
  },
  {
   "cell_type": "code",
   "execution_count": 124,
   "metadata": {},
   "outputs": [
    {
     "name": "stdout",
     "output_type": "stream",
     "text": [
      "The r-squared is: 0.39408247460973267\n"
     ]
    },
    {
     "data": {
      "image/png": "[encoded data removed]",
      "text/plain": [
       "<Figure size 432x288 with 1 Axes>"
      ]
     },
     "metadata": {
      "needs_background": "light"
     },
     "output_type": "display_data"
    },
    {
     "data": {
      "text/plain": [
       "<function matplotlib.pyplot.show(*args, **kw)>"
      ]
     },
     "execution_count": 124,
     "metadata": {},
     "output_type": "execute_result"
    },
    {
     "data": {
      "text/plain": [
       "<Figure size 432x288 with 0 Axes>"
      ]
     },
     "metadata": {},
     "output_type": "display_data"
    }
   ],
   "source": [
    "# Create northern hemisphere - humidity vs lat with linear regression and r-squared\n",
    "x_values = x_north\n",
    "y_values = y_north_humidity\n",
    "(slope, intercept, rvalue, pvalue, stderr) = linregress(x_values, y_values)\n",
    "regress_values = x_values * slope + intercept\n",
    "line_eq = \"y = \" + str(round(slope,2)) + \"x + \" + str(round(intercept,2))\n",
    "plt.scatter(x_values,y_values)\n",
    "plt.plot(x_values,regress_values,\"r-\")\n",
    "plt.annotate(line_eq,(50,30),fontsize=12,color=\"red\")\n",
    "plt.title(title3)\n",
    "plt.xlabel(x_label)\n",
    "plt.ylabel(\"Humidity\")\n",
    "print(f\"The r-squared is: {rvalue}\")\n",
    "plt.show()\n",
    "\n",
    "#save chart to a .png file\n",
    "plt.savefig(\"northHemLat_vs_humidity.png\")\n",
    "plt.show"
   ]
  },
  {
   "cell_type": "markdown",
   "metadata": {},
   "source": [
    "# Southern Hemisphere - Humidity (%) vs. Latitude"
   ]
  },
  {
   "cell_type": "code",
   "execution_count": 125,
   "metadata": {},
   "outputs": [
    {
     "name": "stdout",
     "output_type": "stream",
     "text": [
      "The r-squared is: 0.27943204883833794\n"
     ]
    },
    {
     "data": {
      "image/png": "[encoded data removed]",
      "text/plain": [
       "<Figure size 432x288 with 1 Axes>"
      ]
     },
     "metadata": {
      "needs_background": "light"
     },
     "output_type": "display_data"
    },
    {
     "data": {
      "text/plain": [
       "<function matplotlib.pyplot.show(*args, **kw)>"
      ]
     },
     "execution_count": 125,
     "metadata": {},
     "output_type": "execute_result"
    },
    {
     "data": {
      "text/plain": [
       "<Figure size 432x288 with 0 Axes>"
      ]
     },
     "metadata": {},
     "output_type": "display_data"
    }
   ],
   "source": [
    "# Create southern hemisphere - humidity vs lat with linear regression and r-squared\n",
    "x_values = x_south\n",
    "y_values = y_south_humidity\n",
    "(slope, intercept, rvalue, pvalue, stderr) = linregress(x_values, y_values)\n",
    "regress_values = x_values * slope + intercept\n",
    "line_eq = \"y = \" + str(round(slope,2)) + \"x + \" + str(round(intercept,2))\n",
    "plt.scatter(x_values,y_values)\n",
    "plt.plot(x_values,regress_values,\"r-\")\n",
    "plt.annotate(line_eq,(-20,20),fontsize=12,color=\"red\")\n",
    "plt.title(title4)\n",
    "plt.xlabel(x_label)\n",
    "plt.ylabel(\"Humidity\")\n",
    "print(f\"The r-squared is: {rvalue}\")\n",
    "plt.show()\n",
    "\n",
    "plt.savefig(\"southHemLat_vs_humidity.png\")\n",
    "plt.show"
   ]
  },
  {
   "cell_type": "markdown",
   "metadata": {},
   "source": [
    "# Northern Hemisphere - Cloudiness (%) vs. Latitude"
   ]
  },
  {
   "cell_type": "code",
   "execution_count": 126,
   "metadata": {},
   "outputs": [
    {
     "name": "stdout",
     "output_type": "stream",
     "text": [
      "The r-squared is: 0.21769150210973964\n"
     ]
    },
    {
     "data": {
      "image/png": "[encoded data removed]",
      "text/plain": [
       "<Figure size 432x288 with 1 Axes>"
      ]
     },
     "metadata": {
      "needs_background": "light"
     },
     "output_type": "display_data"
    },
    {
     "data": {
      "text/plain": [
       "<function matplotlib.pyplot.show(*args, **kw)>"
      ]
     },
     "execution_count": 126,
     "metadata": {},
     "output_type": "execute_result"
    },
    {
     "data": {
      "text/plain": [
       "<Figure size 432x288 with 0 Axes>"
      ]
     },
     "metadata": {},
     "output_type": "display_data"
    }
   ],
   "source": [
    "# Create northern hemisphere - cloudiness vs lat with linear regression and r-squared\n",
    "x_values = x_north\n",
    "y_values = y_north_clouds\n",
    "(slope, intercept, rvalue, pvalue, stderr) = linregress(x_values, y_values)\n",
    "regress_values = x_values * slope + intercept\n",
    "line_eq = \"y = \" + str(round(slope,2)) + \"x + \" + str(round(intercept,2))\n",
    "plt.scatter(x_values,y_values)\n",
    "plt.plot(x_values,regress_values,\"r-\")\n",
    "plt.annotate(line_eq,(55,30),fontsize=12,color=\"red\")\n",
    "plt.title(title5)\n",
    "plt.xlabel(x_label)\n",
    "plt.ylabel(\"Cloudiness\")\n",
    "print(f\"The r-squared is: {rvalue}\")\n",
    "plt.show()\n",
    "\n",
    "plt.savefig(\"northHemLat_vs_cloudiness.png\")\n",
    "plt.show"
   ]
  },
  {
   "cell_type": "markdown",
   "metadata": {},
   "source": [
    "# #Southern Hemisphere - Cloudiness (%) vs. Latitude"
   ]
  },
  {
   "cell_type": "code",
   "execution_count": 127,
   "metadata": {},
   "outputs": [
    {
     "name": "stdout",
     "output_type": "stream",
     "text": [
      "The r-squared is: 0.22680957092783763\n"
     ]
    },
    {
     "data": {
      "image/png": "[encoded data removed]",
      "text/plain": [
       "<Figure size 432x288 with 1 Axes>"
      ]
     },
     "metadata": {
      "needs_background": "light"
     },
     "output_type": "display_data"
    },
    {
     "data": {
      "text/plain": [
       "<function matplotlib.pyplot.show(*args, **kw)>"
      ]
     },
     "execution_count": 127,
     "metadata": {},
     "output_type": "execute_result"
    },
    {
     "data": {
      "text/plain": [
       "<Figure size 432x288 with 0 Axes>"
      ]
     },
     "metadata": {},
     "output_type": "display_data"
    }
   ],
   "source": [
    "# Create southern hemisphere - cloudiness vs lat with linear regression and r-squared\n",
    "x_values = x_south\n",
    "y_values = y_south_clouds\n",
    "(slope, intercept, rvalue, pvalue, stderr) = linregress(x_values, y_values)\n",
    "regress_values = x_values * slope + intercept\n",
    "line_eq = \"y = \" + str(round(slope,2)) + \"x + \" + str(round(intercept,2))\n",
    "plt.scatter(x_values,y_values)\n",
    "plt.plot(x_values,regress_values,\"r-\")\n",
    "plt.annotate(line_eq,(-55,20),fontsize=12,color=\"red\")\n",
    "plt.title(title6)\n",
    "plt.xlabel(x_label)\n",
    "plt.ylabel(\"Cloudiness\")\n",
    "print(f\"The r-squared is: {rvalue}\")\n",
    "plt.show()\n",
    "\n",
    "plt.savefig(\"southHemLat_vs_cloudiness.png\")\n",
    "plt.show"
   ]
  },
  {
   "cell_type": "markdown",
   "metadata": {},
   "source": [
    "# Northern Hemisphere - Wind Speed (mph) vs. Latitude"
   ]
  },
  {
   "cell_type": "code",
   "execution_count": 128,
   "metadata": {},
   "outputs": [
    {
     "name": "stdout",
     "output_type": "stream",
     "text": [
      "The r-squared is: 0.14725856110080376\n"
     ]
    },
    {
     "data": {
      "image/png": "[encoded data removed]",
      "text/plain": [
       "<Figure size 432x288 with 1 Axes>"
      ]
     },
     "metadata": {
      "needs_background": "light"
     },
     "output_type": "display_data"
    },
    {
     "data": {
      "text/plain": [
       "<function matplotlib.pyplot.show(*args, **kw)>"
      ]
     },
     "execution_count": 128,
     "metadata": {},
     "output_type": "execute_result"
    },
    {
     "data": {
      "text/plain": [
       "<Figure size 432x288 with 0 Axes>"
      ]
     },
     "metadata": {},
     "output_type": "display_data"
    }
   ],
   "source": [
    "# Create northern hemisphere - wind speed vs lat with linear regression and r-squared\n",
    "x_values = x_north\n",
    "y_values = y_north_wind\n",
    "(slope, intercept, rvalue, pvalue, stderr) = linregress(x_values, y_values)\n",
    "regress_values = x_values * slope + intercept\n",
    "line_eq = \"y = \" + str(round(slope,2)) + \"x + \" + str(round(intercept,2))\n",
    "plt.scatter(x_values,y_values)\n",
    "plt.plot(x_values,regress_values,\"r-\")\n",
    "plt.annotate(line_eq,(0,15),fontsize=12,color=\"red\")\n",
    "plt.title(title7)\n",
    "plt.xlabel(x_label)\n",
    "plt.ylabel(\"Wind Speed\")\n",
    "print(f\"The r-squared is: {rvalue}\")\n",
    "plt.show()\n",
    "\n",
    "plt.savefig(\"northHemLat_vs_windSpeed.png\")\n",
    "plt.show"
   ]
  },
  {
   "cell_type": "markdown",
   "metadata": {},
   "source": [
    "# Southern Hemisphere - Wind Speed (mph) vs. Latitude"
   ]
  },
  {
   "cell_type": "code",
   "execution_count": 129,
   "metadata": {},
   "outputs": [
    {
     "name": "stdout",
     "output_type": "stream",
     "text": [
      "The r-squared is: -0.42096354832855887\n"
     ]
    },
    {
     "data": {
      "image/png": "[encoded data removed]",
      "text/plain": [
       "<Figure size 432x288 with 1 Axes>"
      ]
     },
     "metadata": {
      "needs_background": "light"
     },
     "output_type": "display_data"
    },
    {
     "data": {
      "text/plain": [
       "<function matplotlib.pyplot.show(*args, **kw)>"
      ]
     },
     "execution_count": 129,
     "metadata": {},
     "output_type": "execute_result"
    },
    {
     "data": {
      "text/plain": [
       "<Figure size 432x288 with 0 Axes>"
      ]
     },
     "metadata": {},
     "output_type": "display_data"
    }
   ],
   "source": [
    "# Create southern hemisphere - wind speed vs lat with linear regression and r-squared\n",
    "x_values = x_south\n",
    "y_values = y_south_wind\n",
    "(slope, intercept, rvalue, pvalue, stderr) = linregress(x_values, y_values)\n",
    "regress_values = x_values * slope + intercept\n",
    "line_eq = \"y = \" + str(round(slope,2)) + \"x + \" + str(round(intercept,2))\n",
    "plt.scatter(x_values,y_values)\n",
    "plt.plot(x_values,regress_values,\"r-\")\n",
    "plt.annotate(line_eq,(-30,14),fontsize=12,color=\"red\")\n",
    "plt.title(title8)\n",
    "plt.xlabel(x_label)\n",
    "plt.ylabel(\"Wind Speed\")\n",
    "print(f\"The r-squared is: {rvalue}\")\n",
    "plt.show()\n",
    "\n",
    "plt.savefig(\"southHemLat_vs_windSpeed.png\")\n",
    "plt.show"
   ]
  },
  {
   "cell_type": "code",
   "execution_count": null,
   "metadata": {},
   "outputs": [],
   "source": []
  }
 ],
 "metadata": {
  "kernelspec": {
   "display_name": "Python 3",
   "language": "python",
   "name": "python3"
  },
  "language_info": {
   "codemirror_mode": {
    "name": "ipython",
    "version": 3
   },
   "file_extension": ".py",
   "mimetype": "text/x-python",
   "name": "python",
   "nbconvert_exporter": "python",
   "pygments_lexer": "ipython3",
   "version": "3.7.4"
  }
 },
 "nbformat": 4,
 "nbformat_minor": 2
}
