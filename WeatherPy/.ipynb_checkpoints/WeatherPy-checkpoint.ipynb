{
 "cells": [
  {
   "cell_type": "markdown",
   "metadata": {},
   "source": [
    "# Stephanie Smith\n",
    "Python API Challenge HW\n",
    "WeatherPy"
   ]
  },
  {
   "cell_type": "markdown",
   "metadata": {},
   "source": [
    "utilize: https://pypi.python.org/pypi/citipy"
   ]
  },
  {
   "cell_type": "code",
   "execution_count": null,
   "metadata": {},
   "outputs": [],
   "source": [
    "#pip install citipy"
   ]
  },
  {
   "cell_type": "code",
   "execution_count": 1,
   "metadata": {},
   "outputs": [
    {
     "name": "stdout",
     "output_type": "stream",
     "text": [
      "0b3f8e2a43251d206d5aeab517c4ad2a\n"
     ]
    }
   ],
   "source": [
    "# Dependencies and Setup\n",
    "import matplotlib.pyplot as plt\n",
    "import pandas as pd\n",
    "import numpy as np\n",
    "import requests\n",
    "import time\n",
    "from scipy.stats import linregress\n",
    "import json\n",
    "\n",
    "# Import API key\n",
    "from config import api_key\n",
    "print(api_key)\n",
    "\n",
    "# Incorporated citipy to determine city based on latitude and longitude\n",
    "from citipy import citipy\n",
    "\n",
    "# Output File (CSV)\n",
    "output_data_file = \"output_data/cities.csv\"\n",
    "\n",
    "# Range of latitudes and longitudes\n",
    "lat_range = (-90, 90)\n",
    "lng_range = (-180, 180)"
   ]
  },
  {
   "cell_type": "markdown",
   "metadata": {},
   "source": [
    "Generate Cities List\n"
   ]
  },
  {
   "cell_type": "code",
   "execution_count": 2,
   "metadata": {},
   "outputs": [
    {
     "data": {
      "text/plain": [
       "640"
      ]
     },
     "execution_count": 2,
     "metadata": {},
     "output_type": "execute_result"
    }
   ],
   "source": [
    "# List for holding lat_lngs and cities\n",
    "lat_lngs = []\n",
    "cities = []\n",
    "\n",
    "# Create a set of random lat and lng combinations\n",
    "lats = np.random.uniform(low=-90.000, high=90.000, size=1500)\n",
    "lngs = np.random.uniform(low=-180.000, high=180.000, size=1500)\n",
    "lat_lngs = zip(lats, lngs)\n",
    "\n",
    "# Identify nearest city for each lat, lng combination\n",
    "for lat_lng in lat_lngs:\n",
    "    city = citipy.nearest_city(lat_lng[0], lat_lng[1]).city_name\n",
    "    \n",
    "    # If the city is unique, then add it to a our cities list\n",
    "    if city not in cities:\n",
    "        cities.append(city)\n",
    "\n",
    "# Print the city count to confirm sufficient count\n",
    "len(cities)"
   ]
  },
  {
   "cell_type": "code",
   "execution_count": 3,
   "metadata": {},
   "outputs": [],
   "source": [
    "# Save config information.\n",
    "url = \"http://api.openweathermap.org/data/2.5/weather?\"\n",
    "units = \"imperial\"\n",
    "\n",
    "# Build partial query URL\n",
    "query_url = f\"{url}appid={api_key}&units={units}&q=\""
   ]
  },
  {
   "cell_type": "code",
   "execution_count": 4,
   "metadata": {},
   "outputs": [],
   "source": [
    "#run a test on url structure\n",
    "#city = \"Paris\"\n",
    "#response = requests.get(query_url + city).json()\n",
    "#print(json.dumps(response, indent=4, sort_keys=True))"
   ]
  },
  {
   "cell_type": "code",
   "execution_count": 5,
   "metadata": {},
   "outputs": [
    {
     "name": "stdout",
     "output_type": "stream",
     "text": [
      "Processing Record 1 of Set 0 | los llanos de aridane\n",
      "Processing Record 2 of Set 0 | college\n",
      "Processing Record 3 of Set 0 | port keats\n",
      "Processing Record 4 of Set 0 | cape town\n",
      "Processing Record 5 of Set 0 | bluff\n",
      "Processing Record 6 of Set 0 | ballina\n",
      "Processing Record 7 of Set 0 | dikson\n",
      "Processing Record 8 of Set 0 | ushuaia\n",
      "City not found.....skipping\n",
      "Processing Record 10 of Set 0 | butaritari\n",
      "Processing Record 11 of Set 0 | black river\n",
      "Processing Record 12 of Set 0 | kapaa\n",
      "Processing Record 13 of Set 0 | vila velha\n",
      "City not found.....skipping\n",
      "Processing Record 15 of Set 0 | atuona\n",
      "Processing Record 16 of Set 0 | port alfred\n",
      "Processing Record 17 of Set 0 | fort nelson\n",
      "City not found.....skipping\n",
      "Processing Record 19 of Set 0 | okahandja\n",
      "Processing Record 20 of Set 0 | cayenne\n",
      "Processing Record 21 of Set 0 | coquimbo\n",
      "Processing Record 22 of Set 0 | alta floresta\n",
      "Processing Record 23 of Set 0 | albany\n",
      "Processing Record 24 of Set 0 | hailar\n",
      "Processing Record 25 of Set 0 | sao joao da barra\n",
      "City not found.....skipping\n",
      "Processing Record 27 of Set 0 | williston\n",
      "Processing Record 28 of Set 0 | hithadhoo\n",
      "Processing Record 29 of Set 0 | qaqortoq\n",
      "Processing Record 30 of Set 0 | adre\n",
      "Processing Record 31 of Set 0 | lavrentiya\n",
      "Processing Record 32 of Set 0 | komsomolskiy\n",
      "City not found.....skipping\n",
      "Processing Record 34 of Set 0 | punta arenas\n",
      "Processing Record 35 of Set 0 | lorengau\n",
      "Processing Record 36 of Set 0 | cabatuan\n",
      "Processing Record 37 of Set 0 | nicoya\n",
      "Processing Record 38 of Set 0 | sao felix do xingu\n",
      "Processing Record 39 of Set 0 | naze\n",
      "Processing Record 40 of Set 0 | ribeira grande\n",
      "Processing Record 41 of Set 0 | puerto ayora\n",
      "Processing Record 42 of Set 0 | hobart\n",
      "Processing Record 43 of Set 0 | castro\n",
      "Processing Record 44 of Set 0 | avarua\n",
      "Processing Record 45 of Set 0 | norman wells\n",
      "Processing Record 46 of Set 0 | anzio\n",
      "Processing Record 47 of Set 0 | kulhudhuffushi\n",
      "Processing Record 48 of Set 0 | kati\n",
      "Processing Record 49 of Set 0 | senanga\n",
      "Processing Record 50 of Set 1 | kodiak\n",
      "Processing Record 51 of Set 1 | busselton\n",
      "Processing Record 52 of Set 1 | new norfolk\n",
      "Processing Record 53 of Set 1 | cambridge\n",
      "City not found.....skipping\n",
      "Processing Record 55 of Set 1 | ponta do sol\n",
      "Processing Record 56 of Set 1 | tiksi\n",
      "City not found.....skipping\n",
      "Processing Record 58 of Set 1 | manokwari\n",
      "Processing Record 59 of Set 1 | jamestown\n",
      "Processing Record 60 of Set 1 | grand gaube\n",
      "Processing Record 61 of Set 1 | honningsvag\n",
      "Processing Record 62 of Set 1 | mahebourg\n",
      "Processing Record 63 of Set 1 | vaini\n",
      "Processing Record 64 of Set 1 | canberra\n",
      "Processing Record 65 of Set 1 | rikitea\n",
      "Processing Record 66 of Set 1 | touros\n",
      "Processing Record 67 of Set 1 | hilo\n",
      "City not found.....skipping\n",
      "Processing Record 69 of Set 1 | yellowknife\n",
      "Processing Record 70 of Set 1 | baiyin\n",
      "Processing Record 71 of Set 1 | chulman\n",
      "Processing Record 72 of Set 1 | willowmore\n",
      "Processing Record 73 of Set 1 | torbay\n",
      "Processing Record 74 of Set 1 | mataura\n",
      "City not found.....skipping\n",
      "Processing Record 76 of Set 1 | oranjemund\n",
      "Processing Record 77 of Set 1 | riyadh\n",
      "Processing Record 78 of Set 1 | zaoyang\n",
      "Processing Record 79 of Set 1 | port macquarie\n",
      "Processing Record 80 of Set 1 | hammerfest\n",
      "Processing Record 81 of Set 1 | dryden\n",
      "Processing Record 82 of Set 1 | davila\n",
      "Processing Record 83 of Set 1 | seoul\n",
      "Processing Record 84 of Set 1 | khatanga\n",
      "City not found.....skipping\n",
      "Processing Record 86 of Set 1 | astana\n",
      "City not found.....skipping\n",
      "Processing Record 88 of Set 1 | sur\n",
      "Processing Record 89 of Set 1 | tuatapere\n",
      "Processing Record 90 of Set 1 | nikolskoye\n",
      "Processing Record 91 of Set 1 | cidreira\n",
      "Processing Record 92 of Set 1 | flinders\n",
      "Processing Record 93 of Set 1 | walvis bay\n",
      "Processing Record 94 of Set 1 | qaanaaq\n",
      "Processing Record 95 of Set 1 | tuktoyaktuk\n",
      "Processing Record 96 of Set 1 | champerico\n",
      "Processing Record 97 of Set 1 | iqaluit\n",
      "Processing Record 98 of Set 1 | half moon bay\n",
      "Processing Record 99 of Set 1 | east london\n",
      "City not found.....skipping\n",
      "Processing Record 101 of Set 1 | bredasdorp\n",
      "Processing Record 102 of Set 1 | colonia\n",
      "Processing Record 103 of Set 1 | pimentel\n",
      "Processing Record 104 of Set 1 | litovko\n",
      "Processing Record 105 of Set 1 | kurumkan\n",
      "Processing Record 106 of Set 1 | antofagasta\n",
      "City not found.....skipping\n",
      "Processing Record 108 of Set 1 | bethel\n",
      "Processing Record 109 of Set 1 | kavaratti\n",
      "Processing Record 110 of Set 1 | tokur\n",
      "Processing Record 111 of Set 1 | puerto escondido\n",
      "Processing Record 112 of Set 1 | ancud\n",
      "Processing Record 113 of Set 1 | san patricio\n",
      "Processing Record 114 of Set 1 | bengkulu\n",
      "Processing Record 115 of Set 1 | talpa\n",
      "Processing Record 116 of Set 1 | zonguldak\n",
      "City not found.....skipping\n",
      "Processing Record 118 of Set 1 | filadelfia\n",
      "Processing Record 119 of Set 1 | tonaya\n",
      "Processing Record 120 of Set 1 | santa barbara\n",
      "Processing Record 121 of Set 1 | prichard\n",
      "Processing Record 122 of Set 1 | roald\n",
      "City not found.....skipping\n",
      "City not found.....skipping\n",
      "Processing Record 125 of Set 1 | barrow\n",
      "Processing Record 126 of Set 1 | mecca\n",
      "Processing Record 127 of Set 1 | ayorou\n",
      "Processing Record 128 of Set 1 | hermanus\n",
      "Processing Record 129 of Set 1 | waingapu\n",
      "Processing Record 130 of Set 1 | luderitz\n",
      "Processing Record 131 of Set 1 | wana\n",
      "Processing Record 132 of Set 1 | fortuna\n",
      "Processing Record 133 of Set 1 | marrakesh\n",
      "Processing Record 134 of Set 1 | alice springs\n",
      "Processing Record 135 of Set 1 | caravelas\n",
      "Processing Record 136 of Set 1 | dudinka\n",
      "Processing Record 137 of Set 1 | kirakira\n",
      "Processing Record 138 of Set 1 | melnikovo\n",
      "Processing Record 139 of Set 1 | bulawayo\n",
      "Processing Record 140 of Set 1 | chuy\n",
      "Processing Record 141 of Set 1 | port victoria\n",
      "Processing Record 142 of Set 1 | khash\n",
      "City not found.....skipping\n",
      "Processing Record 144 of Set 1 | beloha\n",
      "Processing Record 145 of Set 1 | bouna\n",
      "Processing Record 146 of Set 1 | tasiilaq\n",
      "Processing Record 147 of Set 1 | port elizabeth\n",
      "Processing Record 148 of Set 1 | curuca\n",
      "Processing Record 149 of Set 1 | baykit\n",
      "Processing Record 150 of Set 1 | kedougou\n",
      "Processing Record 151 of Set 1 | slave lake\n",
      "Processing Record 152 of Set 1 | sao filipe\n",
      "Processing Record 153 of Set 1 | takoradi\n",
      "Processing Record 154 of Set 1 | arraial do cabo\n",
      "Processing Record 155 of Set 1 | saint-philippe\n",
      "Processing Record 156 of Set 1 | santa isabel do rio negro\n",
      "Processing Record 157 of Set 1 | hovd\n",
      "Processing Record 158 of Set 1 | shenjiamen\n",
      "Processing Record 159 of Set 1 | kaitangata\n",
      "Processing Record 160 of Set 1 | georgetown\n",
      "City not found.....skipping\n",
      "Processing Record 162 of Set 1 | chokurdakh\n",
      "City not found.....skipping\n",
      "Processing Record 164 of Set 1 | mikuni\n",
      "Processing Record 165 of Set 1 | yelets\n",
      "Processing Record 166 of Set 1 | zhuanghe\n",
      "Processing Record 167 of Set 1 | sorland\n",
      "Processing Record 168 of Set 1 | riga\n",
      "Processing Record 169 of Set 1 | souillac\n",
      "Processing Record 170 of Set 1 | mahibadhoo\n",
      "Processing Record 171 of Set 1 | teodoro sampaio\n",
      "Processing Record 172 of Set 1 | rundu\n",
      "Processing Record 173 of Set 1 | lenger\n",
      "Processing Record 174 of Set 1 | la ronge\n",
      "Processing Record 175 of Set 1 | carnarvon\n",
      "Processing Record 176 of Set 1 | mar del plata\n",
      "Processing Record 177 of Set 1 | peniche\n",
      "Processing Record 178 of Set 1 | koulamoutou\n",
      "Processing Record 179 of Set 1 | inuvik\n",
      "City not found.....skipping\n",
      "Processing Record 181 of Set 1 | leshukonskoye\n",
      "Processing Record 182 of Set 1 | harper\n",
      "Processing Record 183 of Set 1 | cockburn town\n",
      "Processing Record 184 of Set 1 | mount pleasant\n",
      "Processing Record 185 of Set 1 | kui buri\n",
      "Processing Record 186 of Set 1 | manoel urbano\n",
      "Processing Record 187 of Set 1 | tshikapa\n",
      "Processing Record 188 of Set 1 | gizo\n",
      "Processing Record 189 of Set 1 | srednekolymsk\n",
      "Processing Record 190 of Set 1 | newport\n",
      "Processing Record 191 of Set 1 | magugu\n",
      "Processing Record 192 of Set 1 | atar\n",
      "Processing Record 193 of Set 1 | krasnoselkup\n",
      "Processing Record 194 of Set 1 | karratha\n",
      "Processing Record 195 of Set 1 | opuwo\n",
      "Processing Record 196 of Set 1 | tambura\n",
      "City not found.....skipping\n",
      "Processing Record 198 of Set 1 | pekalongan\n",
      "City not found.....skipping\n",
      "Processing Record 200 of Set 1 | victoria\n",
      "Processing Record 201 of Set 1 | moranbah\n",
      "Processing Record 202 of Set 1 | mao\n",
      "Processing Record 203 of Set 1 | belmonte\n"
     ]
    },
    {
     "name": "stdout",
     "output_type": "stream",
     "text": [
      "City not found.....skipping\n",
      "Processing Record 205 of Set 1 | faanui\n",
      "Processing Record 206 of Set 1 | pardina\n",
      "Processing Record 207 of Set 1 | meulaboh\n",
      "Processing Record 208 of Set 1 | kichera\n",
      "Processing Record 209 of Set 1 | tomatlan\n",
      "Processing Record 210 of Set 1 | puerto maldonado\n",
      "Processing Record 211 of Set 1 | gursahaiganj\n",
      "Processing Record 212 of Set 1 | kaabong\n",
      "Processing Record 213 of Set 1 | nguruka\n",
      "Processing Record 214 of Set 1 | bilma\n",
      "Processing Record 215 of Set 1 | coruripe\n",
      "Processing Record 216 of Set 1 | richards bay\n",
      "Processing Record 217 of Set 1 | pisco\n",
      "Processing Record 218 of Set 1 | koumac\n",
      "Processing Record 219 of Set 1 | saint anthony\n",
      "Processing Record 220 of Set 1 | redlands\n",
      "Processing Record 221 of Set 1 | gejiu\n",
      "Processing Record 222 of Set 1 | anadyr\n",
      "Processing Record 223 of Set 1 | varkkallai\n",
      "Processing Record 224 of Set 1 | hamilton\n",
      "City not found.....skipping\n",
      "Processing Record 226 of Set 1 | tangjiazhuang\n",
      "Processing Record 227 of Set 1 | vila franca do campo\n",
      "Processing Record 228 of Set 1 | tautira\n",
      "Processing Record 229 of Set 1 | adrar\n",
      "Processing Record 230 of Set 1 | hualmay\n",
      "Processing Record 231 of Set 1 | trairi\n",
      "Processing Record 232 of Set 1 | canon city\n",
      "Processing Record 233 of Set 1 | aklavik\n",
      "Processing Record 234 of Set 1 | kruisfontein\n",
      "Processing Record 235 of Set 1 | phan thiet\n",
      "Processing Record 236 of Set 1 | namibe\n",
      "Processing Record 237 of Set 1 | ola\n",
      "Processing Record 238 of Set 1 | imbituba\n",
      "Processing Record 239 of Set 1 | upernavik\n",
      "Processing Record 240 of Set 1 | port blair\n",
      "City not found.....skipping\n",
      "Processing Record 242 of Set 1 | sitka\n",
      "Processing Record 243 of Set 1 | dunedin\n",
      "Processing Record 244 of Set 1 | denpasar\n",
      "Processing Record 245 of Set 1 | flagstaff\n",
      "Processing Record 246 of Set 1 | severo-kurilsk\n",
      "Processing Record 247 of Set 1 | kovdor\n",
      "Processing Record 248 of Set 1 | monywa\n",
      "Processing Record 249 of Set 1 | esperance\n",
      "Processing Record 250 of Set 1 | sinnamary\n",
      "Processing Record 251 of Set 1 | saskylakh\n",
      "Processing Record 252 of Set 1 | taganak\n",
      "Processing Record 253 of Set 1 | presidente epitacio\n",
      "Processing Record 254 of Set 1 | labuhan\n",
      "Processing Record 255 of Set 1 | grindavik\n",
      "Processing Record 256 of Set 1 | randolph\n",
      "Processing Record 257 of Set 1 | treinta y tres\n",
      "Processing Record 258 of Set 1 | kaya\n",
      "Processing Record 259 of Set 1 | alekseyevsk\n",
      "Processing Record 260 of Set 1 | williamsburg\n",
      "Processing Record 261 of Set 1 | rujiena\n",
      "Processing Record 262 of Set 1 | kostino\n",
      "Processing Record 263 of Set 1 | wajima\n",
      "Processing Record 264 of Set 1 | chesterton\n",
      "Processing Record 265 of Set 1 | suntar\n",
      "Processing Record 266 of Set 1 | vestmannaeyjar\n",
      "Processing Record 267 of Set 1 | lebu\n",
      "City not found.....skipping\n",
      "City not found.....skipping\n",
      "Processing Record 270 of Set 1 | itaperuna\n",
      "Processing Record 271 of Set 1 | phalaborwa\n",
      "Processing Record 272 of Set 1 | balaka\n",
      "Processing Record 273 of Set 1 | hasaki\n",
      "Processing Record 274 of Set 1 | maumere\n",
      "Processing Record 275 of Set 1 | aguimes\n",
      "Processing Record 276 of Set 1 | key largo\n",
      "Processing Record 277 of Set 1 | klaksvik\n",
      "Processing Record 278 of Set 1 | lima\n",
      "Processing Record 279 of Set 1 | longyearbyen\n",
      "City not found.....skipping\n",
      "Processing Record 281 of Set 1 | muli\n",
      "Processing Record 282 of Set 1 | buala\n",
      "Processing Record 283 of Set 1 | bambous virieux\n",
      "Processing Record 284 of Set 1 | grenville\n",
      "Processing Record 285 of Set 1 | itaituba\n",
      "Processing Record 286 of Set 1 | vardo\n",
      "Processing Record 287 of Set 1 | tucurui\n",
      "Processing Record 288 of Set 1 | broken hill\n",
      "Processing Record 289 of Set 1 | quatre cocos\n",
      "Processing Record 290 of Set 1 | waipawa\n",
      "Processing Record 291 of Set 1 | constitucion\n",
      "Processing Record 292 of Set 1 | ramhormoz\n",
      "Processing Record 293 of Set 1 | chlorakas\n",
      "Processing Record 294 of Set 1 | anloga\n",
      "Processing Record 295 of Set 1 | hereford\n",
      "Processing Record 296 of Set 1 | malatya\n",
      "Processing Record 297 of Set 1 | balabac\n",
      "Processing Record 298 of Set 1 | noumea\n",
      "Processing Record 299 of Set 1 | thompson\n",
      "Processing Record 300 of Set 1 | kunda\n",
      "Processing Record 301 of Set 1 | cabo san lucas\n",
      "Processing Record 302 of Set 1 | marawi\n",
      "Processing Record 303 of Set 1 | doha\n",
      "Processing Record 304 of Set 1 | kudahuvadhoo\n",
      "Processing Record 305 of Set 1 | ananas\n",
      "City not found.....skipping\n",
      "Processing Record 307 of Set 1 | broome\n",
      "Processing Record 308 of Set 1 | hofn\n",
      "Processing Record 309 of Set 1 | codrington\n",
      "Processing Record 310 of Set 1 | saint george\n",
      "Processing Record 311 of Set 1 | ransang\n",
      "Processing Record 312 of Set 1 | tilichiki\n",
      "Processing Record 313 of Set 1 | talnakh\n",
      "Processing Record 314 of Set 1 | zlitan\n",
      "Processing Record 315 of Set 1 | birao\n",
      "Processing Record 316 of Set 1 | mabaruma\n",
      "Processing Record 317 of Set 1 | bogorodskoye\n",
      "Processing Record 318 of Set 1 | zhifang\n",
      "Processing Record 319 of Set 1 | diego de almagro\n",
      "Processing Record 320 of Set 1 | narasannapeta\n",
      "Processing Record 321 of Set 1 | narsaq\n",
      "Processing Record 322 of Set 1 | ravar\n",
      "Processing Record 323 of Set 1 | kindu\n",
      "Processing Record 324 of Set 1 | henties bay\n",
      "Processing Record 325 of Set 1 | saldanha\n",
      "Processing Record 326 of Set 1 | the pas\n",
      "Processing Record 327 of Set 1 | terney\n",
      "Processing Record 328 of Set 1 | kieta\n",
      "Processing Record 329 of Set 1 | itagiba\n",
      "Processing Record 330 of Set 1 | great yarmouth\n",
      "Processing Record 331 of Set 1 | grootfontein\n",
      "Processing Record 332 of Set 1 | alappuzha\n",
      "Processing Record 333 of Set 1 | grandview\n",
      "Processing Record 334 of Set 1 | hirara\n",
      "Processing Record 335 of Set 1 | marienburg\n",
      "City not found.....skipping\n",
      "Processing Record 337 of Set 1 | toledo\n",
      "Processing Record 338 of Set 1 | berlevag\n",
      "Processing Record 339 of Set 1 | zhob\n",
      "Processing Record 340 of Set 1 | rassvet\n",
      "Processing Record 341 of Set 1 | cootamundra\n",
      "Processing Record 342 of Set 1 | pevek\n",
      "Processing Record 343 of Set 1 | inyonga\n",
      "Processing Record 344 of Set 1 | yaan\n",
      "Processing Record 345 of Set 1 | balkanabat\n",
      "Processing Record 346 of Set 1 | turmalina\n",
      "City not found.....skipping\n",
      "Processing Record 348 of Set 1 | tongliao\n",
      "Processing Record 349 of Set 1 | bandarbeyla\n",
      "Processing Record 350 of Set 1 | taoudenni\n",
      "Processing Record 351 of Set 1 | airai\n",
      "Processing Record 352 of Set 1 | nome\n",
      "Processing Record 353 of Set 1 | mount isa\n",
      "Processing Record 354 of Set 1 | aliwal north\n",
      "Processing Record 355 of Set 1 | polson\n",
      "Processing Record 356 of Set 1 | bulolo\n",
      "City not found.....skipping\n",
      "Processing Record 358 of Set 1 | burnie\n",
      "Processing Record 359 of Set 1 | tiznit\n",
      "Processing Record 360 of Set 1 | port lincoln\n",
      "Processing Record 361 of Set 1 | ocos\n",
      "Processing Record 362 of Set 1 | carroll\n",
      "Processing Record 363 of Set 1 | arvika\n",
      "Processing Record 364 of Set 1 | nishihara\n",
      "Processing Record 365 of Set 1 | kiunga\n",
      "Processing Record 366 of Set 1 | guerrero negro\n",
      "Processing Record 367 of Set 1 | comodoro rivadavia\n",
      "Processing Record 368 of Set 1 | maubin\n",
      "Processing Record 369 of Set 1 | nouadhibou\n",
      "Processing Record 370 of Set 1 | cherskiy\n",
      "Processing Record 371 of Set 1 | olinda\n",
      "Processing Record 372 of Set 1 | lompoc\n",
      "Processing Record 373 of Set 1 | rio grande\n",
      "Processing Record 374 of Set 1 | hami\n",
      "Processing Record 375 of Set 1 | watrous\n",
      "Processing Record 376 of Set 1 | gat\n",
      "Processing Record 377 of Set 1 | geraldton\n",
      "Processing Record 378 of Set 1 | panaba\n",
      "Processing Record 379 of Set 1 | hambantota\n",
      "Processing Record 380 of Set 1 | teguldet\n",
      "Processing Record 381 of Set 1 | nanortalik\n",
      "Processing Record 382 of Set 1 | imeni poliny osipenko\n",
      "Processing Record 383 of Set 1 | almeria\n",
      "City not found.....skipping\n",
      "Processing Record 385 of Set 1 | luena\n",
      "Processing Record 386 of Set 1 | buchanan\n",
      "Processing Record 387 of Set 1 | sorong\n",
      "Processing Record 388 of Set 1 | mongu\n",
      "City not found.....skipping\n",
      "Processing Record 390 of Set 1 | marmande\n",
      "Processing Record 391 of Set 1 | capiibary\n",
      "Processing Record 392 of Set 1 | isla vista\n",
      "Processing Record 393 of Set 1 | otukpo\n",
      "Processing Record 394 of Set 1 | san policarpo\n",
      "Processing Record 395 of Set 1 | mariquita\n",
      "Processing Record 396 of Set 1 | harwich\n",
      "Processing Record 397 of Set 1 | bitung\n",
      "City not found.....skipping\n",
      "Processing Record 399 of Set 1 | tromso\n",
      "Processing Record 400 of Set 1 | olafsvik\n",
      "Processing Record 401 of Set 1 | axim\n",
      "Processing Record 402 of Set 1 | miyako\n",
      "Processing Record 403 of Set 1 | lalmohan\n"
     ]
    },
    {
     "name": "stdout",
     "output_type": "stream",
     "text": [
      "Processing Record 404 of Set 1 | camargo\n",
      "City not found.....skipping\n",
      "Processing Record 406 of Set 1 | lubbock\n",
      "Processing Record 407 of Set 1 | fairbanks\n",
      "Processing Record 408 of Set 1 | iskateley\n",
      "Processing Record 409 of Set 1 | raahe\n",
      "Processing Record 410 of Set 1 | whitehorse\n",
      "Processing Record 411 of Set 1 | statesboro\n",
      "Processing Record 412 of Set 1 | cap malheureux\n",
      "Processing Record 413 of Set 1 | port moresby\n",
      "Processing Record 414 of Set 1 | pata\n",
      "Processing Record 415 of Set 1 | andenes\n",
      "Processing Record 416 of Set 1 | raudeberg\n",
      "Processing Record 417 of Set 1 | magangue\n",
      "Processing Record 418 of Set 1 | turukhansk\n",
      "Processing Record 419 of Set 1 | ahipara\n",
      "Processing Record 420 of Set 1 | kavieng\n",
      "Processing Record 421 of Set 1 | san-pedro\n",
      "Processing Record 422 of Set 1 | breves\n",
      "Processing Record 423 of Set 1 | bismil\n",
      "Processing Record 424 of Set 1 | kudat\n",
      "Processing Record 425 of Set 1 | ritchie\n",
      "Processing Record 426 of Set 1 | wanxian\n",
      "Processing Record 427 of Set 1 | aba\n",
      "Processing Record 428 of Set 1 | durango\n",
      "Processing Record 429 of Set 1 | kahului\n",
      "Processing Record 430 of Set 1 | eureka\n",
      "Processing Record 431 of Set 1 | florence\n",
      "Processing Record 432 of Set 1 | mango\n",
      "Processing Record 433 of Set 1 | samandag\n",
      "Processing Record 434 of Set 1 | leningradskiy\n",
      "Processing Record 435 of Set 1 | belaya gora\n",
      "Processing Record 436 of Set 1 | desbiens\n",
      "Processing Record 437 of Set 1 | panhala\n",
      "Processing Record 438 of Set 1 | coihaique\n",
      "Processing Record 439 of Set 1 | catuday\n",
      "Processing Record 440 of Set 1 | pestravka\n",
      "Processing Record 441 of Set 1 | fallon\n",
      "Processing Record 442 of Set 1 | shubarkuduk\n",
      "Processing Record 443 of Set 1 | murmashi\n",
      "City not found.....skipping\n",
      "Processing Record 445 of Set 1 | kasangulu\n",
      "Processing Record 446 of Set 1 | pacific grove\n",
      "Processing Record 447 of Set 1 | takaka\n",
      "City not found.....skipping\n",
      "Processing Record 449 of Set 1 | xingcheng\n",
      "Processing Record 450 of Set 1 | lluta\n",
      "Processing Record 451 of Set 1 | crixas\n",
      "Processing Record 452 of Set 1 | joshimath\n",
      "Processing Record 453 of Set 1 | kismayo\n",
      "Processing Record 454 of Set 1 | sioux lookout\n",
      "Processing Record 455 of Set 1 | yarmouth\n",
      "Processing Record 456 of Set 1 | sainte-suzanne\n",
      "Processing Record 457 of Set 1 | ahmadpur\n",
      "Processing Record 458 of Set 1 | provideniya\n",
      "Processing Record 459 of Set 1 | hobyo\n",
      "Processing Record 460 of Set 1 | high level\n",
      "Processing Record 461 of Set 1 | hay river\n",
      "Processing Record 462 of Set 1 | ponta delgada\n",
      "Processing Record 463 of Set 1 | dubbo\n",
      "Processing Record 464 of Set 1 | yulara\n",
      "City not found.....skipping\n",
      "Processing Record 466 of Set 1 | kurya\n",
      "Processing Record 467 of Set 1 | mehamn\n",
      "Processing Record 468 of Set 1 | agua verde\n",
      "City not found.....skipping\n",
      "Processing Record 470 of Set 1 | aksu\n",
      "City not found.....skipping\n",
      "City not found.....skipping\n",
      "Processing Record 473 of Set 1 | lakes entrance\n",
      "Processing Record 474 of Set 1 | impfondo\n",
      "City not found.....skipping\n",
      "Processing Record 476 of Set 1 | sueca\n",
      "Processing Record 477 of Set 1 | quba\n",
      "Processing Record 478 of Set 1 | moron\n",
      "Processing Record 479 of Set 1 | necochea\n",
      "Processing Record 480 of Set 1 | samarai\n",
      "Processing Record 481 of Set 1 | celestun\n",
      "Processing Record 482 of Set 1 | laguna\n",
      "Processing Record 483 of Set 1 | lugovoy\n",
      "Processing Record 484 of Set 1 | korla\n",
      "Processing Record 485 of Set 1 | coahuayana\n",
      "Processing Record 486 of Set 1 | naqadeh\n",
      "Processing Record 487 of Set 1 | vallenar\n",
      "Processing Record 488 of Set 1 | moose factory\n",
      "Processing Record 489 of Set 1 | luebo\n",
      "Processing Record 490 of Set 1 | yomou\n",
      "City not found.....skipping\n",
      "Processing Record 492 of Set 1 | nizwa\n",
      "Processing Record 493 of Set 1 | santa rosa\n",
      "Processing Record 494 of Set 1 | zeya\n",
      "Processing Record 495 of Set 1 | port angeles\n",
      "Processing Record 496 of Set 1 | emborion\n",
      "Processing Record 497 of Set 1 | kadambur\n",
      "Processing Record 498 of Set 1 | ketchikan\n",
      "Processing Record 499 of Set 1 | kathor\n",
      "Processing Record 500 of Set 1 | tual\n",
      "Processing Record 501 of Set 1 | rumuruti\n",
      "Processing Record 502 of Set 1 | culebra\n",
      "Processing Record 503 of Set 1 | vanersborg\n",
      "Processing Record 504 of Set 1 | kohlu\n",
      "Processing Record 505 of Set 1 | chicama\n",
      "Processing Record 506 of Set 1 | fukuma\n",
      "Processing Record 507 of Set 1 | esil\n",
      "Processing Record 508 of Set 1 | lakhdenpokhya\n",
      "Processing Record 509 of Set 1 | nanakuli\n",
      "Processing Record 510 of Set 1 | mbandaka\n",
      "Processing Record 511 of Set 1 | moriya\n",
      "Processing Record 512 of Set 1 | leh\n",
      "City not found.....skipping\n",
      "Processing Record 514 of Set 1 | boende\n",
      "Processing Record 515 of Set 1 | chitrakonda\n",
      "Processing Record 516 of Set 1 | yanggu\n",
      "Processing Record 517 of Set 1 | pundaguitan\n",
      "Processing Record 518 of Set 1 | mountain home\n",
      "Processing Record 519 of Set 1 | lahaina\n",
      "Processing Record 520 of Set 1 | saint-georges\n",
      "Processing Record 521 of Set 1 | pizarro\n",
      "Processing Record 522 of Set 1 | sabang\n",
      "Processing Record 523 of Set 1 | coxim\n",
      "Processing Record 524 of Set 1 | salvador\n",
      "Processing Record 525 of Set 1 | le pradet\n",
      "Processing Record 526 of Set 1 | margate\n",
      "Processing Record 527 of Set 1 | itoman\n",
      "Processing Record 528 of Set 1 | ust-omchug\n",
      "Processing Record 529 of Set 1 | urengoy\n",
      "Processing Record 530 of Set 1 | russell\n",
      "Processing Record 531 of Set 1 | ternate\n",
      "Processing Record 532 of Set 1 | marsh harbour\n",
      "Processing Record 533 of Set 1 | poum\n",
      "Processing Record 534 of Set 1 | pishin\n",
      "Processing Record 535 of Set 1 | tommot\n",
      "Processing Record 536 of Set 1 | aksarka\n",
      "Processing Record 537 of Set 1 | segezha\n",
      "Processing Record 538 of Set 1 | qandala\n",
      "Processing Record 539 of Set 1 | ilulissat\n",
      "City not found.....skipping\n",
      "Processing Record 541 of Set 1 | rancho palos verdes\n",
      "Processing Record 542 of Set 1 | saravan\n",
      "Processing Record 543 of Set 1 | ranau\n",
      "Processing Record 544 of Set 1 | petropavlovsk-kamchatskiy\n",
      "Processing Record 545 of Set 1 | sao mateus\n",
      "Processing Record 546 of Set 1 | huanren\n",
      "Processing Record 547 of Set 1 | huarmey\n",
      "Processing Record 548 of Set 1 | paracatu\n",
      "Processing Record 549 of Set 1 | batamshinskiy\n",
      "Processing Record 550 of Set 1 | janauba\n",
      "Processing Record 551 of Set 1 | gogrial\n",
      "Processing Record 552 of Set 1 | bathsheba\n",
      "Processing Record 553 of Set 1 | canico\n",
      "City not found.....skipping\n",
      "Processing Record 555 of Set 1 | deniliquin\n",
      "Processing Record 556 of Set 1 | nouakchott\n",
      "Processing Record 557 of Set 1 | haines junction\n",
      "Processing Record 558 of Set 1 | pinega\n",
      "Processing Record 559 of Set 1 | thanh hoa\n",
      "Processing Record 560 of Set 1 | mitsamiouli\n",
      "Processing Record 561 of Set 1 | shieli\n",
      "Processing Record 562 of Set 1 | muros\n",
      "Processing Record 563 of Set 1 | dolores\n",
      "Processing Record 564 of Set 1 | beringovskiy\n",
      "Processing Record 565 of Set 1 | northam\n",
      "City not found.....skipping\n",
      "Processing Record 567 of Set 1 | ossora\n",
      "Processing Record 568 of Set 1 | miri\n",
      "Processing Record 569 of Set 1 | yumen\n",
      "Processing Record 570 of Set 1 | stabat\n",
      "Processing Record 571 of Set 1 | bandrele\n",
      "Processing Record 572 of Set 1 | port hardy\n",
      "Processing Record 573 of Set 1 | banda aceh\n",
      "Processing Record 574 of Set 1 | kununurra\n",
      "Processing Record 575 of Set 1 | mbanza-ngungu\n",
      "Processing Record 576 of Set 1 | ulladulla\n",
      "Processing Record 577 of Set 1 | bafra\n",
      "Processing Record 578 of Set 1 | port hawkesbury\n",
      "Processing Record 579 of Set 1 | semporna\n",
      "City not found.....skipping\n",
      "Processing Record 581 of Set 1 | aksehir\n",
      "Processing Record 582 of Set 1 | matamoros\n",
      "Processing Record 583 of Set 1 | chokwe\n",
      "Processing Record 584 of Set 1 | severnoye\n",
      "Processing Record 585 of Set 1 | salalah\n",
      "Processing Record 586 of Set 1 | okato\n",
      "Processing Record 587 of Set 1 | wundanyi\n",
      "Processing Record 588 of Set 1 | makakilo city\n",
      "Processing Record 589 of Set 1 | megion\n",
      "Processing Record 590 of Set 1 | nipawin\n",
      "Processing Record 591 of Set 1 | merauke\n",
      "City not found.....skipping\n",
      "Processing Record 593 of Set 1 | ca mau\n",
      "Processing Record 594 of Set 1 | husavik\n",
      "Processing Record 595 of Set 1 | nueva guinea\n",
      "Processing Record 596 of Set 1 | silivri\n",
      "Processing Record 597 of Set 1 | edson\n",
      "Processing Record 598 of Set 1 | kazachka\n",
      "Processing Record 599 of Set 1 | witu\n",
      "Processing Record 600 of Set 1 | filingue\n",
      "Processing Record 601 of Set 1 | tornio\n",
      "Processing Record 602 of Set 1 | maryville\n",
      "Processing Record 603 of Set 1 | calama\n",
      "Processing Record 604 of Set 1 | tessalit\n"
     ]
    },
    {
     "name": "stdout",
     "output_type": "stream",
     "text": [
      "Processing Record 605 of Set 1 | kingman\n",
      "Processing Record 606 of Set 1 | cooma\n",
      "City not found.....skipping\n",
      "Processing Record 608 of Set 1 | khudumelapye\n",
      "Processing Record 609 of Set 1 | bandarban\n",
      "Processing Record 610 of Set 1 | bloomsburg\n",
      "City not found.....skipping\n",
      "Processing Record 612 of Set 1 | namatanai\n",
      "Processing Record 613 of Set 1 | kamenka\n",
      "Processing Record 614 of Set 1 | egvekinot\n",
      "Processing Record 615 of Set 1 | conceicao do araguaia\n",
      "Processing Record 616 of Set 1 | mushie\n",
      "Processing Record 617 of Set 1 | lapua\n",
      "Processing Record 618 of Set 1 | puerto leguizamo\n",
      "Processing Record 619 of Set 1 | khorixas\n",
      "Processing Record 620 of Set 1 | bardiyah\n",
      "Processing Record 621 of Set 1 | penzance\n",
      "Processing Record 622 of Set 1 | pangnirtung\n",
      "Processing Record 623 of Set 1 | passos\n",
      "Processing Record 624 of Set 1 | kolyvan\n",
      "Processing Record 625 of Set 1 | boralday\n",
      "Processing Record 626 of Set 1 | kaeo\n",
      "Processing Record 627 of Set 1 | sijunjung\n",
      "Processing Record 628 of Set 1 | katsuura\n",
      "Processing Record 629 of Set 1 | abu samrah\n",
      "City not found.....skipping\n",
      "Processing Record 631 of Set 1 | kochi\n",
      "Processing Record 632 of Set 1 | yar-sale\n",
      "Processing Record 633 of Set 1 | iaciara\n",
      "Processing Record 634 of Set 1 | chongwe\n",
      "Processing Record 635 of Set 1 | osoyoos\n",
      "Processing Record 636 of Set 1 | woodward\n",
      "Processing Record 637 of Set 1 | mount gambier\n",
      "Processing Record 638 of Set 1 | chernyshevskiy\n",
      "Processing Record 639 of Set 1 | barra do corda\n",
      "Processing Record 640 of Set 1 | tura\n",
      "Beginning Data Retrieval\n",
      "-----------------------------\n"
     ]
    }
   ],
   "source": [
    "# set up lists to hold reponse info (will be used for df)...city already done in previous code\n",
    "cityName = []\n",
    "clouds = []\n",
    "country = []\n",
    "date = []\n",
    "humidity = []\n",
    "lat = []\n",
    "long = []\n",
    "max_temp = []\n",
    "wind_speed = []\n",
    "\n",
    "\n",
    "# Loop through the list of cities and perform a request for data on each\n",
    "set_count = 0\n",
    "start_count = 49\n",
    "\n",
    "for count, city in enumerate(cities,1):\n",
    "    try:\n",
    "        response = requests.get(query_url + city).json()\n",
    "        cityName.append(response[\"name\"])\n",
    "        clouds.append(response[\"clouds\"][\"all\"])\n",
    "        country.append(response[\"sys\"][\"country\"])\n",
    "        date.append(response[\"dt\"])\n",
    "        humidity.append(response[\"main\"][\"humidity\"])\n",
    "        lat.append(response[\"coord\"][\"lat\"])\n",
    "        long.append(response[\"coord\"][\"lon\"])\n",
    "        max_temp.append(response[\"main\"][\"temp_max\"])\n",
    "        wind_speed.append(response[\"wind\"][\"speed\"])\n",
    "        if count/50==set_count+1:\n",
    "            set_count=set_count+1\n",
    "        print(f\"Processing Record {count} of Set {set_count} | {city}\")\n",
    "    except:\n",
    "        print(f\"City not found.....skipping\")\n",
    "print(f\"Beginning Data Retrieval\")\n",
    "print(f\"-----------------------------\")"
   ]
  },
  {
   "cell_type": "code",
   "execution_count": 7,
   "metadata": {},
   "outputs": [
    {
     "data": {
      "text/html": [
       "<div>\n",
       "<style scoped>\n",
       "    .dataframe tbody tr th:only-of-type {\n",
       "        vertical-align: middle;\n",
       "    }\n",
       "\n",
       "    .dataframe tbody tr th {\n",
       "        vertical-align: top;\n",
       "    }\n",
       "\n",
       "    .dataframe thead th {\n",
       "        text-align: right;\n",
       "    }\n",
       "</style>\n",
       "<table border=\"1\" class=\"dataframe\">\n",
       "  <thead>\n",
       "    <tr style=\"text-align: right;\">\n",
       "      <th></th>\n",
       "      <th>City</th>\n",
       "      <th>Cloudiness</th>\n",
       "      <th>Country</th>\n",
       "      <th>Date</th>\n",
       "      <th>Humidity</th>\n",
       "      <th>Lat</th>\n",
       "      <th>Lng</th>\n",
       "      <th>Max Temp</th>\n",
       "      <th>Wind Speed</th>\n",
       "    </tr>\n",
       "  </thead>\n",
       "  <tbody>\n",
       "    <tr>\n",
       "      <td>0</td>\n",
       "      <td>Los Llanos de Aridane</td>\n",
       "      <td>20</td>\n",
       "      <td>ES</td>\n",
       "      <td>1580239422</td>\n",
       "      <td>72</td>\n",
       "      <td>28.66</td>\n",
       "      <td>-17.92</td>\n",
       "      <td>66.20</td>\n",
       "      <td>6.93</td>\n",
       "    </tr>\n",
       "    <tr>\n",
       "      <td>1</td>\n",
       "      <td>College</td>\n",
       "      <td>20</td>\n",
       "      <td>US</td>\n",
       "      <td>1580239533</td>\n",
       "      <td>74</td>\n",
       "      <td>64.86</td>\n",
       "      <td>-147.80</td>\n",
       "      <td>-17.00</td>\n",
       "      <td>3.47</td>\n",
       "    </tr>\n",
       "    <tr>\n",
       "      <td>2</td>\n",
       "      <td>Port Keats</td>\n",
       "      <td>66</td>\n",
       "      <td>AU</td>\n",
       "      <td>1580239534</td>\n",
       "      <td>84</td>\n",
       "      <td>-14.25</td>\n",
       "      <td>129.55</td>\n",
       "      <td>85.71</td>\n",
       "      <td>15.26</td>\n",
       "    </tr>\n",
       "    <tr>\n",
       "      <td>3</td>\n",
       "      <td>Cape Town</td>\n",
       "      <td>75</td>\n",
       "      <td>ZA</td>\n",
       "      <td>1580239502</td>\n",
       "      <td>82</td>\n",
       "      <td>-33.93</td>\n",
       "      <td>18.42</td>\n",
       "      <td>71.01</td>\n",
       "      <td>12.75</td>\n",
       "    </tr>\n",
       "    <tr>\n",
       "      <td>4</td>\n",
       "      <td>Bluff</td>\n",
       "      <td>86</td>\n",
       "      <td>NZ</td>\n",
       "      <td>1580239534</td>\n",
       "      <td>80</td>\n",
       "      <td>-46.60</td>\n",
       "      <td>168.33</td>\n",
       "      <td>61.00</td>\n",
       "      <td>5.77</td>\n",
       "    </tr>\n",
       "  </tbody>\n",
       "</table>\n",
       "</div>"
      ],
      "text/plain": [
       "                    City  Cloudiness Country        Date  Humidity    Lat  \\\n",
       "0  Los Llanos de Aridane          20      ES  1580239422        72  28.66   \n",
       "1                College          20      US  1580239533        74  64.86   \n",
       "2             Port Keats          66      AU  1580239534        84 -14.25   \n",
       "3              Cape Town          75      ZA  1580239502        82 -33.93   \n",
       "4                  Bluff          86      NZ  1580239534        80 -46.60   \n",
       "\n",
       "      Lng  Max Temp  Wind Speed  \n",
       "0  -17.92     66.20        6.93  \n",
       "1 -147.80    -17.00        3.47  \n",
       "2  129.55     85.71       15.26  \n",
       "3   18.42     71.01       12.75  \n",
       "4  168.33     61.00        5.77  "
      ]
     },
     "execution_count": 7,
     "metadata": {},
     "output_type": "execute_result"
    }
   ],
   "source": [
    "# create a data frame from cities, lat, and temp\n",
    "weather_dict = {\n",
    "    \"City\": cityName,\n",
    "    \"Cloudiness\": clouds,\n",
    "    \"Country\": country,\n",
    "    \"Date\": date,\n",
    "    \"Humidity\": humidity,\n",
    "    \"Lat\": lat,\n",
    "    \"Lng\": long,\n",
    "    \"Max Temp\": max_temp,\n",
    "    \"Wind Speed\": wind_speed\n",
    "}\n",
    "weather_data = pd.DataFrame(weather_dict)\n",
    "weather_data.head()"
   ]
  },
  {
   "cell_type": "code",
   "execution_count": 8,
   "metadata": {},
   "outputs": [],
   "source": [
    "weather_data.to_csv(\"weatherOutput.csv\", index=False, header=True)"
   ]
  },
  {
   "cell_type": "code",
   "execution_count": 36,
   "metadata": {},
   "outputs": [
    {
     "data": {
      "image/png": "[encoded data removed]",
      "text/plain": [
       "<Figure size 432x288 with 1 Axes>"
      ]
     },
     "metadata": {
      "needs_background": "light"
     },
     "output_type": "display_data"
    },
    {
     "data": {
      "text/plain": [
       "<function matplotlib.pyplot.show(*args, **kw)>"
      ]
     },
     "execution_count": 36,
     "metadata": {},
     "output_type": "execute_result"
    },
    {
     "data": {
      "text/plain": [
       "<Figure size 432x288 with 0 Axes>"
      ]
     },
     "metadata": {},
     "output_type": "display_data"
    }
   ],
   "source": [
    "#scatter plot lat vs temp\n",
    "x_axis = weather_data['Lat']\n",
    "\n",
    "# Create a list of data that we will use for our y values\n",
    "y_axis = weather_data['Max Temp']\n",
    "\n",
    "# The size of each point on our plot is determined by their x value\n",
    "plt.scatter(x_axis, y_axis, marker=\"o\", facecolors=\"red\", edgecolors=\"black\",\n",
    "           alpha=0.75)\n",
    "plt.title(\"City Latitude vs Max Tempurature\")\n",
    "plt.ylabel(\"Max Temperature (F)\")\n",
    "plt.xlabel(\"City Latitude\")\n",
    "plt.show()\n",
    "\n",
    "#save chart to a .png file\n",
    "plt.savefig(\"imageResults/cityLat_vs_windSpeed.png\")\n",
    "plt.show"
   ]
  },
  {
   "cell_type": "markdown",
   "metadata": {},
   "source": [
    "# Observation\n",
    "\n",
    "Scatter plot comparing Max Temp with City Latitude.  There seems to be a relationship between higher temperatures and lower latitudes, and lower temperatures with higher latitudes."
   ]
  },
  {
   "cell_type": "code",
   "execution_count": 37,
   "metadata": {},
   "outputs": [
    {
     "data": {
      "image/png": "[encoded data removed]",
      "text/plain": [
       "<Figure size 432x288 with 1 Axes>"
      ]
     },
     "metadata": {
      "needs_background": "light"
     },
     "output_type": "display_data"
    },
    {
     "data": {
      "text/plain": [
       "<function matplotlib.pyplot.show(*args, **kw)>"
      ]
     },
     "execution_count": 37,
     "metadata": {},
     "output_type": "execute_result"
    },
    {
     "data": {
      "text/plain": [
       "<Figure size 432x288 with 0 Axes>"
      ]
     },
     "metadata": {},
     "output_type": "display_data"
    }
   ],
   "source": [
    "#scatter plot lat vs temp\n",
    "x_axis = weather_data['Lat']\n",
    "\n",
    "# Create a list of data that we will use for our y values\n",
    "y_axis = weather_data['Humidity']\n",
    "# Observation\n",
    "\n",
    "Scatter plot comparing Max Temp with City Latitude.  There seems to be a relationship between higher temperatures and lower latitudes, and lower temperatures with higher latitudes.\n",
    "# The size of each point on our plot is determined by their x value\n",
    "plt.scatter(x_axis, y_axis, marker=\"o\", facecolors=\"red\", edgecolors=\"black\",\n",
    "           alpha=0.75)\n",
    "plt.title(\"City Latitude vs Humidity\")\n",
    "plt.ylabel(\"Humidity\")\n",
    "plt.xlabel(\"City Latitude\")\n",
    "plt.show()\n",
    "\n",
    "#save chart to a .png file\n",
    "plt.savefig(\"imageResults/cityLat_vs_humidity.png\")\n",
    "plt.show"
   ]
  },
  {
   "cell_type": "markdown",
   "metadata": {},
   "source": [
    "# Observation\n",
    "\n",
    "Scatter plot comparing Humidity with City Latitude.  It is possible there is a relationship between humidity and latitude, but it would help to include further analysis such as linear regression as I am struggling to see it."
   ]
  },
  {
   "cell_type": "code",
   "execution_count": 51,
   "metadata": {},
   "outputs": [
    {
     "data": {
      "image/png": "[encoded data removed]",
      "text/plain": [
       "<Figure size 432x288 with 1 Axes>"
      ]
     },
     "metadata": {
      "needs_background": "light"
     },
     "output_type": "display_data"
    },
    {
     "data": {
      "text/plain": [
       "<function matplotlib.pyplot.show(*args, **kw)>"
      ]
     },
     "execution_count": 51,
     "metadata": {},
     "output_type": "execute_result"
    },
    {
     "data": {
      "text/plain": [
       "<Figure size 432x288 with 0 Axes>"
      ]
     },
     "metadata": {},
     "output_type": "display_data"
    }
   ],
   "source": [
    "#scatter plot lat vs cloudiness\n",
    "x_axis = weather_data['Lat']\n",
    "\n",
    "# Create a list of data that we will use for our y values\n",
    "y_axis = weather_data['Cloudiness']\n",
    "\n",
    "# The size of each point on our plot is determined by their x value\n",
    "plt.scatter(x_axis, y_axis, marker=\"o\", facecolors=\"red\", edgecolors=\"black\",\n",
    "           alpha=0.75)\n",
    "plt.title(\"City Latitude vs Coudiness\")\n",
    "plt.ylabel(\"Cloudiness\")\n",
    "plt.xlabel(\"City Latitude\")\n",
    "plt.show()\n",
    "\n",
    "#save chart to a .png file\n",
    "plt.savefig(\"imageResults/cityLat_vs_cloudiness.png\")\n",
    "plt.show"
   ]
  },
  {
   "cell_type": "markdown",
   "metadata": {},
   "source": [
    "# Observation\n",
    "\n",
    "Scatter plot comparing Cloudiness with City Latitude.  There does not seem to be a relationship between cloudiness and latitude with the given dataset."
   ]
  },
  {
   "cell_type": "code",
   "execution_count": 39,
   "metadata": {},
   "outputs": [
    {
     "data": {
      "image/png": "[encoded data removed]",
      "text/plain": [
       "<Figure size 432x288 with 1 Axes>"
      ]
     },
     "metadata": {
      "needs_background": "light"
     },
     "output_type": "display_data"
    },
    {
     "data": {
      "text/plain": [
       "<function matplotlib.pyplot.show(*args, **kw)>"
      ]
     },
     "execution_count": 39,
     "metadata": {},
     "output_type": "execute_result"
    },
    {
     "data": {
      "text/plain": [
       "<Figure size 432x288 with 0 Axes>"
      ]
     },
     "metadata": {},
     "output_type": "display_data"
    }
   ],
   "source": [
    "#scatter plot lat vs cloudiness\n",
    "x_axis = weather_data['Lat']\n",
    "\n",
    "# Create a list of data that we will use for our y values\n",
    "y_axis = weather_data['Wind Speed']\n",
    "\n",
    "# The size of each point on our plot is determined by their x value\n",
    "plt.scatter(x_axis, y_axis, marker=\"o\", facecolors=\"red\", edgecolors=\"black\",\n",
    "           alpha=0.75)\n",
    "plt.title(\"City Latitude vs Wind Speed\")\n",
    "plt.ylabel(\"Wind Speed\")\n",
    "plt.xlabel(\"City Latitude\")\n",
    "plt.show()\n",
    "\n",
    "#save chart to a .png file\n",
    "plt.savefig(\"imageResults/cityLat_vs_windSpeed.png\")\n",
    "plt.show"
   ]
  },
  {
   "cell_type": "markdown",
   "metadata": {},
   "source": [
    "# Observation\n",
    "\n",
    "Scatter plot comparing Wind Speed with City Latitude.  There does not seem to be a relationship between wind speed and latitude with the given dataset."
   ]
  },
  {
   "cell_type": "code",
   "execution_count": 40,
   "metadata": {},
   "outputs": [
    {
     "data": {
      "text/html": [
       "<div>\n",
       "<style scoped>\n",
       "    .dataframe tbody tr th:only-of-type {\n",
       "        vertical-align: middle;\n",
       "    }\n",
       "\n",
       "    .dataframe tbody tr th {\n",
       "        vertical-align: top;\n",
       "    }\n",
       "\n",
       "    .dataframe thead th {\n",
       "        text-align: right;\n",
       "    }\n",
       "</style>\n",
       "<table border=\"1\" class=\"dataframe\">\n",
       "  <thead>\n",
       "    <tr style=\"text-align: right;\">\n",
       "      <th></th>\n",
       "      <th>City</th>\n",
       "      <th>Cloudiness</th>\n",
       "      <th>Country</th>\n",
       "      <th>Date</th>\n",
       "      <th>Humidity</th>\n",
       "      <th>Lat</th>\n",
       "      <th>Lng</th>\n",
       "      <th>Max Temp</th>\n",
       "      <th>Wind Speed</th>\n",
       "    </tr>\n",
       "  </thead>\n",
       "  <tbody>\n",
       "    <tr>\n",
       "      <td>0</td>\n",
       "      <td>Los Llanos de Aridane</td>\n",
       "      <td>20</td>\n",
       "      <td>ES</td>\n",
       "      <td>1580239422</td>\n",
       "      <td>72</td>\n",
       "      <td>28.66</td>\n",
       "      <td>-17.92</td>\n",
       "      <td>66.20</td>\n",
       "      <td>6.93</td>\n",
       "    </tr>\n",
       "    <tr>\n",
       "      <td>1</td>\n",
       "      <td>College</td>\n",
       "      <td>20</td>\n",
       "      <td>US</td>\n",
       "      <td>1580239533</td>\n",
       "      <td>74</td>\n",
       "      <td>64.86</td>\n",
       "      <td>-147.80</td>\n",
       "      <td>-17.00</td>\n",
       "      <td>3.47</td>\n",
       "    </tr>\n",
       "    <tr>\n",
       "      <td>6</td>\n",
       "      <td>Dikson</td>\n",
       "      <td>56</td>\n",
       "      <td>RU</td>\n",
       "      <td>1580239534</td>\n",
       "      <td>98</td>\n",
       "      <td>73.51</td>\n",
       "      <td>80.55</td>\n",
       "      <td>-13.85</td>\n",
       "      <td>12.35</td>\n",
       "    </tr>\n",
       "    <tr>\n",
       "      <td>8</td>\n",
       "      <td>Butaritari</td>\n",
       "      <td>90</td>\n",
       "      <td>KI</td>\n",
       "      <td>1580239535</td>\n",
       "      <td>81</td>\n",
       "      <td>3.07</td>\n",
       "      <td>172.79</td>\n",
       "      <td>83.73</td>\n",
       "      <td>18.75</td>\n",
       "    </tr>\n",
       "    <tr>\n",
       "      <td>9</td>\n",
       "      <td>Black River</td>\n",
       "      <td>52</td>\n",
       "      <td>JM</td>\n",
       "      <td>1580239513</td>\n",
       "      <td>69</td>\n",
       "      <td>18.03</td>\n",
       "      <td>-77.85</td>\n",
       "      <td>84.00</td>\n",
       "      <td>1.01</td>\n",
       "    </tr>\n",
       "    <tr>\n",
       "      <td>...</td>\n",
       "      <td>...</td>\n",
       "      <td>...</td>\n",
       "      <td>...</td>\n",
       "      <td>...</td>\n",
       "      <td>...</td>\n",
       "      <td>...</td>\n",
       "      <td>...</td>\n",
       "      <td>...</td>\n",
       "      <td>...</td>\n",
       "    </tr>\n",
       "    <tr>\n",
       "      <td>578</td>\n",
       "      <td>Yar-Sale</td>\n",
       "      <td>99</td>\n",
       "      <td>RU</td>\n",
       "      <td>1580239607</td>\n",
       "      <td>94</td>\n",
       "      <td>66.83</td>\n",
       "      <td>70.83</td>\n",
       "      <td>-6.45</td>\n",
       "      <td>19.37</td>\n",
       "    </tr>\n",
       "    <tr>\n",
       "      <td>581</td>\n",
       "      <td>Osoyoos</td>\n",
       "      <td>90</td>\n",
       "      <td>CA</td>\n",
       "      <td>1580239607</td>\n",
       "      <td>80</td>\n",
       "      <td>49.03</td>\n",
       "      <td>-119.45</td>\n",
       "      <td>41.00</td>\n",
       "      <td>8.05</td>\n",
       "    </tr>\n",
       "    <tr>\n",
       "      <td>582</td>\n",
       "      <td>Woodward</td>\n",
       "      <td>90</td>\n",
       "      <td>US</td>\n",
       "      <td>1580239454</td>\n",
       "      <td>96</td>\n",
       "      <td>36.43</td>\n",
       "      <td>-99.39</td>\n",
       "      <td>33.80</td>\n",
       "      <td>13.87</td>\n",
       "    </tr>\n",
       "    <tr>\n",
       "      <td>584</td>\n",
       "      <td>Chernyshevskiy</td>\n",
       "      <td>91</td>\n",
       "      <td>RU</td>\n",
       "      <td>1580239607</td>\n",
       "      <td>90</td>\n",
       "      <td>63.01</td>\n",
       "      <td>112.47</td>\n",
       "      <td>3.78</td>\n",
       "      <td>4.97</td>\n",
       "    </tr>\n",
       "    <tr>\n",
       "      <td>586</td>\n",
       "      <td>Tura</td>\n",
       "      <td>0</td>\n",
       "      <td>IN</td>\n",
       "      <td>1580239604</td>\n",
       "      <td>64</td>\n",
       "      <td>25.52</td>\n",
       "      <td>90.22</td>\n",
       "      <td>59.79</td>\n",
       "      <td>3.20</td>\n",
       "    </tr>\n",
       "  </tbody>\n",
       "</table>\n",
       "<p>396 rows × 9 columns</p>\n",
       "</div>"
      ],
      "text/plain": [
       "                      City  Cloudiness Country        Date  Humidity    Lat  \\\n",
       "0    Los Llanos de Aridane          20      ES  1580239422        72  28.66   \n",
       "1                  College          20      US  1580239533        74  64.86   \n",
       "6                   Dikson          56      RU  1580239534        98  73.51   \n",
       "8               Butaritari          90      KI  1580239535        81   3.07   \n",
       "9              Black River          52      JM  1580239513        69  18.03   \n",
       "..                     ...         ...     ...         ...       ...    ...   \n",
       "578               Yar-Sale          99      RU  1580239607        94  66.83   \n",
       "581                Osoyoos          90      CA  1580239607        80  49.03   \n",
       "582               Woodward          90      US  1580239454        96  36.43   \n",
       "584         Chernyshevskiy          91      RU  1580239607        90  63.01   \n",
       "586                   Tura           0      IN  1580239604        64  25.52   \n",
       "\n",
       "        Lng  Max Temp  Wind Speed  \n",
       "0    -17.92     66.20        6.93  \n",
       "1   -147.80    -17.00        3.47  \n",
       "6     80.55    -13.85       12.35  \n",
       "8    172.79     83.73       18.75  \n",
       "9    -77.85     84.00        1.01  \n",
       "..      ...       ...         ...  \n",
       "578   70.83     -6.45       19.37  \n",
       "581 -119.45     41.00        8.05  \n",
       "582  -99.39     33.80       13.87  \n",
       "584  112.47      3.78        4.97  \n",
       "586   90.22     59.79        3.20  \n",
       "\n",
       "[396 rows x 9 columns]"
      ]
     },
     "execution_count": 40,
     "metadata": {},
     "output_type": "execute_result"
    }
   ],
   "source": [
    "# create Northern Hemisphere\n",
    "northern_df = weather_data[weather_data['Lat']>=0]\n",
    "northern_df"
   ]
  },
  {
   "cell_type": "code",
   "execution_count": 41,
   "metadata": {},
   "outputs": [
    {
     "data": {
      "text/html": [
       "<div>\n",
       "<style scoped>\n",
       "    .dataframe tbody tr th:only-of-type {\n",
       "        vertical-align: middle;\n",
       "    }\n",
       "\n",
       "    .dataframe tbody tr th {\n",
       "        vertical-align: top;\n",
       "    }\n",
       "\n",
       "    .dataframe thead th {\n",
       "        text-align: right;\n",
       "    }\n",
       "</style>\n",
       "<table border=\"1\" class=\"dataframe\">\n",
       "  <thead>\n",
       "    <tr style=\"text-align: right;\">\n",
       "      <th></th>\n",
       "      <th>City</th>\n",
       "      <th>Cloudiness</th>\n",
       "      <th>Country</th>\n",
       "      <th>Date</th>\n",
       "      <th>Humidity</th>\n",
       "      <th>Lat</th>\n",
       "      <th>Lng</th>\n",
       "      <th>Max Temp</th>\n",
       "      <th>Wind Speed</th>\n",
       "    </tr>\n",
       "  </thead>\n",
       "  <tbody>\n",
       "    <tr>\n",
       "      <td>2</td>\n",
       "      <td>Port Keats</td>\n",
       "      <td>66</td>\n",
       "      <td>AU</td>\n",
       "      <td>1580239534</td>\n",
       "      <td>84</td>\n",
       "      <td>-14.25</td>\n",
       "      <td>129.55</td>\n",
       "      <td>85.71</td>\n",
       "      <td>15.26</td>\n",
       "    </tr>\n",
       "    <tr>\n",
       "      <td>3</td>\n",
       "      <td>Cape Town</td>\n",
       "      <td>75</td>\n",
       "      <td>ZA</td>\n",
       "      <td>1580239502</td>\n",
       "      <td>82</td>\n",
       "      <td>-33.93</td>\n",
       "      <td>18.42</td>\n",
       "      <td>71.01</td>\n",
       "      <td>12.75</td>\n",
       "    </tr>\n",
       "    <tr>\n",
       "      <td>4</td>\n",
       "      <td>Bluff</td>\n",
       "      <td>86</td>\n",
       "      <td>NZ</td>\n",
       "      <td>1580239534</td>\n",
       "      <td>80</td>\n",
       "      <td>-46.60</td>\n",
       "      <td>168.33</td>\n",
       "      <td>61.00</td>\n",
       "      <td>5.77</td>\n",
       "    </tr>\n",
       "    <tr>\n",
       "      <td>5</td>\n",
       "      <td>Ballina</td>\n",
       "      <td>1</td>\n",
       "      <td>AU</td>\n",
       "      <td>1580239534</td>\n",
       "      <td>100</td>\n",
       "      <td>-28.87</td>\n",
       "      <td>153.57</td>\n",
       "      <td>73.40</td>\n",
       "      <td>4.70</td>\n",
       "    </tr>\n",
       "    <tr>\n",
       "      <td>7</td>\n",
       "      <td>Ushuaia</td>\n",
       "      <td>75</td>\n",
       "      <td>AR</td>\n",
       "      <td>1580239160</td>\n",
       "      <td>81</td>\n",
       "      <td>-54.80</td>\n",
       "      <td>-68.30</td>\n",
       "      <td>48.20</td>\n",
       "      <td>29.97</td>\n",
       "    </tr>\n",
       "    <tr>\n",
       "      <td>...</td>\n",
       "      <td>...</td>\n",
       "      <td>...</td>\n",
       "      <td>...</td>\n",
       "      <td>...</td>\n",
       "      <td>...</td>\n",
       "      <td>...</td>\n",
       "      <td>...</td>\n",
       "      <td>...</td>\n",
       "      <td>...</td>\n",
       "    </tr>\n",
       "    <tr>\n",
       "      <td>574</td>\n",
       "      <td>Sijunjung</td>\n",
       "      <td>100</td>\n",
       "      <td>ID</td>\n",
       "      <td>1580239606</td>\n",
       "      <td>99</td>\n",
       "      <td>-0.69</td>\n",
       "      <td>100.95</td>\n",
       "      <td>72.07</td>\n",
       "      <td>2.28</td>\n",
       "    </tr>\n",
       "    <tr>\n",
       "      <td>579</td>\n",
       "      <td>Iaciara</td>\n",
       "      <td>98</td>\n",
       "      <td>BR</td>\n",
       "      <td>1580239607</td>\n",
       "      <td>84</td>\n",
       "      <td>-14.10</td>\n",
       "      <td>-46.63</td>\n",
       "      <td>78.06</td>\n",
       "      <td>6.06</td>\n",
       "    </tr>\n",
       "    <tr>\n",
       "      <td>580</td>\n",
       "      <td>Chongwe</td>\n",
       "      <td>20</td>\n",
       "      <td>ZM</td>\n",
       "      <td>1580239607</td>\n",
       "      <td>73</td>\n",
       "      <td>-15.33</td>\n",
       "      <td>28.68</td>\n",
       "      <td>71.60</td>\n",
       "      <td>4.70</td>\n",
       "    </tr>\n",
       "    <tr>\n",
       "      <td>583</td>\n",
       "      <td>Mount Gambier</td>\n",
       "      <td>90</td>\n",
       "      <td>AU</td>\n",
       "      <td>1580239565</td>\n",
       "      <td>93</td>\n",
       "      <td>-37.83</td>\n",
       "      <td>140.77</td>\n",
       "      <td>50.00</td>\n",
       "      <td>1.12</td>\n",
       "    </tr>\n",
       "    <tr>\n",
       "      <td>585</td>\n",
       "      <td>Barra do Corda</td>\n",
       "      <td>59</td>\n",
       "      <td>BR</td>\n",
       "      <td>1580239608</td>\n",
       "      <td>84</td>\n",
       "      <td>-5.50</td>\n",
       "      <td>-45.25</td>\n",
       "      <td>83.10</td>\n",
       "      <td>2.73</td>\n",
       "    </tr>\n",
       "  </tbody>\n",
       "</table>\n",
       "<p>191 rows × 9 columns</p>\n",
       "</div>"
      ],
      "text/plain": [
       "               City  Cloudiness Country        Date  Humidity    Lat     Lng  \\\n",
       "2        Port Keats          66      AU  1580239534        84 -14.25  129.55   \n",
       "3         Cape Town          75      ZA  1580239502        82 -33.93   18.42   \n",
       "4             Bluff          86      NZ  1580239534        80 -46.60  168.33   \n",
       "5           Ballina           1      AU  1580239534       100 -28.87  153.57   \n",
       "7           Ushuaia          75      AR  1580239160        81 -54.80  -68.30   \n",
       "..              ...         ...     ...         ...       ...    ...     ...   \n",
       "574       Sijunjung         100      ID  1580239606        99  -0.69  100.95   \n",
       "579         Iaciara          98      BR  1580239607        84 -14.10  -46.63   \n",
       "580         Chongwe          20      ZM  1580239607        73 -15.33   28.68   \n",
       "583   Mount Gambier          90      AU  1580239565        93 -37.83  140.77   \n",
       "585  Barra do Corda          59      BR  1580239608        84  -5.50  -45.25   \n",
       "\n",
       "     Max Temp  Wind Speed  \n",
       "2       85.71       15.26  \n",
       "3       71.01       12.75  \n",
       "4       61.00        5.77  \n",
       "5       73.40        4.70  \n",
       "7       48.20       29.97  \n",
       "..        ...         ...  \n",
       "574     72.07        2.28  \n",
       "579     78.06        6.06  \n",
       "580     71.60        4.70  \n",
       "583     50.00        1.12  \n",
       "585     83.10        2.73  \n",
       "\n",
       "[191 rows x 9 columns]"
      ]
     },
     "execution_count": 41,
     "metadata": {},
     "output_type": "execute_result"
    }
   ],
   "source": [
    "# create Southern Hemisphere\n",
    "southern_df = weather_data[weather_data['Lat']<0]\n",
    "southern_df"
   ]
  },
  {
   "cell_type": "code",
   "execution_count": 42,
   "metadata": {},
   "outputs": [],
   "source": [
    "#create x_axis and y_axis variables for north and south hemispheres, and various charts\n",
    "\n",
    "x_north = northern_df['Lat']\n",
    "x_south = southern_df['Lat']\n",
    "\n",
    "#create titles and variable for each chart\n",
    "title1 = \"Northern Hemisphere - Temperature (F) vs. Latitude\"\n",
    "y_north_temp = northern_df['Max Temp']\n",
    "\n",
    "title2 = \"Southern Hemisphere - Temperature (F) vs. Latitude\"\n",
    "y_south_temp = southern_df['Max Temp']\n",
    "\n",
    "title3 = \"Northern Hemisphere - Humidity (%) vs. Latitude\"\n",
    "y_north_humidity = northern_df['Humidity']\n",
    "\n",
    "title4 = \"Southern Hemisphere - Humidity (%) vs. Latitude\"\n",
    "y_south_humidity = southern_df['Humidity']\n",
    "\n",
    "title5 = \"Northern Hemisphere - Cloudiness (%) vs. Latitude\"\n",
    "y_north_clouds = northern_df['Cloudiness']\n",
    "\n",
    "title6 = \"Southern Hemisphere - Cloudiness (%) vs. Latitude\"\n",
    "y_south_clouds = southern_df['Cloudiness']\n",
    "\n",
    "title7 = \"Northern Hemisphere - Wind Speed (mph) vs. Latitude\"\n",
    "y_north_wind = northern_df['Wind Speed']\n",
    "\n",
    "title8 = \"Southern Hemisphere - Wind Speed (mph) vs. Latitude\"\n",
    "y_south_wind = southern_df['Wind Speed']\n",
    "\n",
    "#create x label to be used for all charts\n",
    "x_label = \"Latitude\"\n"
   ]
  },
  {
   "cell_type": "markdown",
   "metadata": {},
   "source": [
    "# #Northern Hemisphere - Temperature (F) vs. Latitude"
   ]
  },
  {
   "cell_type": "code",
   "execution_count": 43,
   "metadata": {},
   "outputs": [
    {
     "name": "stdout",
     "output_type": "stream",
     "text": [
      "The r-squared is: -0.8860723871889189\n"
     ]
    },
    {
     "data": {
      "image/png": "[encoded data removed]",
      "text/plain": [
       "<Figure size 432x288 with 1 Axes>"
      ]
     },
     "metadata": {
      "needs_background": "light"
     },
     "output_type": "display_data"
    },
    {
     "data": {
      "text/plain": [
       "<function matplotlib.pyplot.show(*args, **kw)>"
      ]
     },
     "execution_count": 43,
     "metadata": {},
     "output_type": "execute_result"
    },
    {
     "data": {
      "text/plain": [
       "<Figure size 432x288 with 0 Axes>"
      ]
     },
     "metadata": {},
     "output_type": "display_data"
    }
   ],
   "source": [
    "# Create northern hemisphere - temp vs lat with linear regression and r-squared\n",
    "x_values = x_north\n",
    "y_values = y_north_temp\n",
    "(slope, intercept, rvalue, pvalue, stderr) = linregress(x_values, y_values)\n",
    "regress_values = x_values * slope + intercept\n",
    "line_eq = \"y = \" + str(round(slope,2)) + \"x + \" + str(round(intercept,2))\n",
    "plt.scatter(x_values,y_values)\n",
    "plt.plot(x_values,regress_values,\"r-\")\n",
    "plt.annotate(line_eq,(0,20),fontsize=12,color=\"red\")\n",
    "plt.title(title1)\n",
    "plt.xlabel(x_label)\n",
    "plt.ylabel(\"Max Temp\")\n",
    "print(f\"The r-squared is: {rvalue}\")\n",
    "plt.show()\n",
    "\n",
    "#save chart to a .png file\n",
    "plt.savefig(\"imageResults/northHemLat_vs_temp.png\")\n",
    "plt.show"
   ]
  },
  {
   "cell_type": "markdown",
   "metadata": {},
   "source": [
    "# Observation\n",
    "\n",
    "Scatter plot with linear regression comparing Temp with City Latitude in the Norther Hemisphere.  These are negatively correlated."
   ]
  },
  {
   "cell_type": "markdown",
   "metadata": {},
   "source": [
    "# Southern Hemisphere - Temperature (F) vs. Latitude"
   ]
  },
  {
   "cell_type": "code",
   "execution_count": 44,
   "metadata": {},
   "outputs": [
    {
     "name": "stdout",
     "output_type": "stream",
     "text": [
      "The r-squared is: 0.5145661745778022\n"
     ]
    },
    {
     "data": {
      "image/png": "[encoded data removed]",
      "text/plain": [
       "<Figure size 432x288 with 1 Axes>"
      ]
     },
     "metadata": {
      "needs_background": "light"
     },
     "output_type": "display_data"
    },
    {
     "data": {
      "text/plain": [
       "<function matplotlib.pyplot.show(*args, **kw)>"
      ]
     },
     "execution_count": 44,
     "metadata": {},
     "output_type": "execute_result"
    },
    {
     "data": {
      "text/plain": [
       "<Figure size 432x288 with 0 Axes>"
      ]
     },
     "metadata": {},
     "output_type": "display_data"
    }
   ],
   "source": [
    "# Create southern hemisphere - temp vs lat with linear regression and r-squared\n",
    "x_values = x_south\n",
    "y_values = y_south_temp\n",
    "(slope, intercept, rvalue, pvalue, stderr) = linregress(x_values, y_values)\n",
    "regress_values = x_values * slope + intercept\n",
    "line_eq = \"y = \" + str(round(slope,2)) + \"x + \" + str(round(intercept,2))\n",
    "plt.scatter(x_values,y_values)\n",
    "plt.plot(x_values,regress_values,\"r-\")\n",
    "plt.annotate(line_eq,(-20,40),fontsize=12,color=\"red\")\n",
    "plt.title(title2)\n",
    "plt.xlabel(x_label)\n",
    "plt.ylabel(\"Max Temp\")\n",
    "print(f\"The r-squared is: {rvalue}\")\n",
    "plt.show()\n",
    "\n",
    "#save chart to a .png file\n",
    "plt.savefig(\"imageResults/southHemLat_vs_temp.png\")\n",
    "plt.show"
   ]
  },
  {
   "cell_type": "markdown",
   "metadata": {},
   "source": [
    "# Observation\n",
    "\n",
    "Scatter plot with linear regression comparing Temp with City Latitude in the Southern Hemisphere.  These have a positive correlation, but not as strong as in the Northern Hemisphere."
   ]
  },
  {
   "cell_type": "markdown",
   "metadata": {},
   "source": [
    "# Northern Hemisphere - Humidity (%) vs. Latitude"
   ]
  },
  {
   "cell_type": "code",
   "execution_count": 45,
   "metadata": {},
   "outputs": [
    {
     "name": "stdout",
     "output_type": "stream",
     "text": [
      "The r-squared is: 0.3626422136072313\n"
     ]
    },
    {
     "data": {
      "image/png": "[encoded data removed]",
      "text/plain": [
       "<Figure size 432x288 with 1 Axes>"
      ]
     },
     "metadata": {
      "needs_background": "light"
     },
     "output_type": "display_data"
    },
    {
     "data": {
      "text/plain": [
       "<function matplotlib.pyplot.show(*args, **kw)>"
      ]
     },
     "execution_count": 45,
     "metadata": {},
     "output_type": "execute_result"
    },
    {
     "data": {
      "text/plain": [
       "<Figure size 432x288 with 0 Axes>"
      ]
     },
     "metadata": {},
     "output_type": "display_data"
    }
   ],
   "source": [
    "# Create northern hemisphere - humidity vs lat with linear regression and r-squared\n",
    "x_values = x_north\n",
    "y_values = y_north_humidity\n",
    "(slope, intercept, rvalue, pvalue, stderr) = linregress(x_values, y_values)\n",
    "regress_values = x_values * slope + intercept\n",
    "line_eq = \"y = \" + str(round(slope,2)) + \"x + \" + str(round(intercept,2))\n",
    "plt.scatter(x_values,y_values)\n",
    "plt.plot(x_values,regress_values,\"r-\")\n",
    "plt.annotate(line_eq,(50,30),fontsize=12,color=\"red\")\n",
    "plt.title(title3)\n",
    "plt.xlabel(x_label)\n",
    "plt.ylabel(\"Humidity\")\n",
    "print(f\"The r-squared is: {rvalue}\")\n",
    "plt.show()\n",
    "\n",
    "#save chart to a .png file\n",
    "plt.savefig(\"imageResults/northHemLat_vs_humidity.png\")\n",
    "plt.show"
   ]
  },
  {
   "cell_type": "markdown",
   "metadata": {},
   "source": [
    "# Observation\n",
    "\n",
    "Scatter plot with linear regression comparing Humidity with City Latitude in the Northern Hemisphere.  These have a positive correlation."
   ]
  },
  {
   "cell_type": "markdown",
   "metadata": {},
   "source": [
    "# Southern Hemisphere - Humidity (%) vs. Latitude"
   ]
  },
  {
   "cell_type": "code",
   "execution_count": 46,
   "metadata": {},
   "outputs": [
    {
     "name": "stdout",
     "output_type": "stream",
     "text": [
      "The r-squared is: 0.13114840554013898\n"
     ]
    },
    {
     "data": {
      "image/png": "[encoded data removed]",
      "text/plain": [
       "<Figure size 432x288 with 1 Axes>"
      ]
     },
     "metadata": {
      "needs_background": "light"
     },
     "output_type": "display_data"
    },
    {
     "data": {
      "text/plain": [
       "<function matplotlib.pyplot.show(*args, **kw)>"
      ]
     },
     "execution_count": 46,
     "metadata": {},
     "output_type": "execute_result"
    },
    {
     "data": {
      "text/plain": [
       "<Figure size 432x288 with 0 Axes>"
      ]
     },
     "metadata": {},
     "output_type": "display_data"
    }
   ],
   "source": [
    "# Create southern hemisphere - humidity vs lat with linear regression and r-squared\n",
    "x_values = x_south\n",
    "y_values = y_south_humidity\n",
    "(slope, intercept, rvalue, pvalue, stderr) = linregress(x_values, y_values)\n",
    "regress_values = x_values * slope + intercept\n",
    "line_eq = \"y = \" + str(round(slope,2)) + \"x + \" + str(round(intercept,2))\n",
    "plt.scatter(x_values,y_values)\n",
    "plt.plot(x_values,regress_values,\"r-\")\n",
    "plt.annotate(line_eq,(-20,20),fontsize=12,color=\"red\")\n",
    "plt.title(title4)\n",
    "plt.xlabel(x_label)\n",
    "plt.ylabel(\"Humidity\")\n",
    "print(f\"The r-squared is: {rvalue}\")\n",
    "plt.show()\n",
    "\n",
    "plt.savefig(\"imageResults/southHemLat_vs_humidity.png\")\n",
    "plt.show"
   ]
  },
  {
   "cell_type": "markdown",
   "metadata": {},
   "source": [
    "# Observation\n",
    "\n",
    "Scatter plot with linear regression comparing Humidity with City Latitude in the Southern Hemisphere.  These have a weak positive correlation."
   ]
  },
  {
   "cell_type": "markdown",
   "metadata": {},
   "source": [
    "# Northern Hemisphere - Cloudiness (%) vs. Latitude"
   ]
  },
  {
   "cell_type": "code",
   "execution_count": 47,
   "metadata": {},
   "outputs": [
    {
     "name": "stdout",
     "output_type": "stream",
     "text": [
      "The r-squared is: 0.2423173709666564\n"
     ]
    },
    {
     "data": {
      "image/png": "[encoded data removed]",
      "text/plain": [
       "<Figure size 432x288 with 1 Axes>"
      ]
     },
     "metadata": {
      "needs_background": "light"
     },
     "output_type": "display_data"
    },
    {
     "data": {
      "text/plain": [
       "<function matplotlib.pyplot.show(*args, **kw)>"
      ]
     },
     "execution_count": 47,
     "metadata": {},
     "output_type": "execute_result"
    },
    {
     "data": {
      "text/plain": [
       "<Figure size 432x288 with 0 Axes>"
      ]
     },
     "metadata": {},
     "output_type": "display_data"
    }
   ],
   "source": [
    "# Create northern hemisphere - cloudiness vs lat with linear regression and r-squared\n",
    "x_values = x_north\n",
    "y_values = y_north_clouds\n",
    "(slope, intercept, rvalue, pvalue, stderr) = linregress(x_values, y_values)\n",
    "regress_values = x_values * slope + intercept\n",
    "line_eq = \"y = \" + str(round(slope,2)) + \"x + \" + str(round(intercept,2))\n",
    "plt.scatter(x_values,y_values)\n",
    "plt.plot(x_values,regress_values,\"r-\")\n",
    "plt.annotate(line_eq,(50,10),fontsize=12,color=\"red\")\n",
    "plt.title(title5)\n",
    "plt.xlabel(x_label)\n",
    "plt.ylabel(\"Cloudiness\")\n",
    "print(f\"The r-squared is: {rvalue}\")\n",
    "plt.show()\n",
    "\n",
    "plt.savefig(\"imageResults/northHemLat_vs_cloudiness.png\")\n",
    "plt.show"
   ]
  },
  {
   "cell_type": "markdown",
   "metadata": {},
   "source": [
    "# #Southern Hemisphere - Cloudiness (%) vs. Latitude"
   ]
  },
  {
   "cell_type": "code",
   "execution_count": 48,
   "metadata": {},
   "outputs": [
    {
     "name": "stdout",
     "output_type": "stream",
     "text": [
      "The r-squared is: 0.23608623676387164\n"
     ]
    },
    {
     "data": {
      "image/png": "[encoded data removed]",
      "text/plain": [
       "<Figure size 432x288 with 1 Axes>"
      ]
     },
     "metadata": {
      "needs_background": "light"
     },
     "output_type": "display_data"
    },
    {
     "data": {
      "text/plain": [
       "<function matplotlib.pyplot.show(*args, **kw)>"
      ]
     },
     "execution_count": 48,
     "metadata": {},
     "output_type": "execute_result"
    },
    {
     "data": {
      "text/plain": [
       "<Figure size 432x288 with 0 Axes>"
      ]
     },
     "metadata": {},
     "output_type": "display_data"
    }
   ],
   "source": [
    "# Create southern hemisphere - cloudiness vs lat with linear regression and r-squared\n",
    "x_values = x_south\n",
    "y_values = y_south_clouds\n",
    "(slope, intercept, rvalue, pvalue, stderr) = linregress(x_values, y_values)\n",
    "regress_values = x_values * slope + intercept\n",
    "line_eq = \"y = \" + str(round(slope,2)) + \"x + \" + str(round(intercept,2))\n",
    "plt.scatter(x_values,y_values)\n",
    "plt.plot(x_values,regress_values,\"r-\")\n",
    "plt.annotate(line_eq,(-55,20),fontsize=12,color=\"red\")\n",
    "plt.title(title6)\n",
    "plt.xlabel(x_label)\n",
    "plt.ylabel(\"Cloudiness\")\n",
    "print(f\"The r-squared is: {rvalue}\")\n",
    "plt.show()\n",
    "\n",
    "plt.savefig(\"imageResults/southHemLat_vs_cloudiness.png\")\n",
    "plt.show"
   ]
  },
  {
   "cell_type": "markdown",
   "metadata": {},
   "source": [
    "# Northern Hemisphere - Wind Speed (mph) vs. Latitude"
   ]
  },
  {
   "cell_type": "code",
   "execution_count": 49,
   "metadata": {},
   "outputs": [
    {
     "name": "stdout",
     "output_type": "stream",
     "text": [
      "The r-squared is: 0.035972798943020884\n"
     ]
    },
    {
     "data": {
      "image/png": "[encoded data removed]",
      "text/plain": [
       "<Figure size 432x288 with 1 Axes>"
      ]
     },
     "metadata": {
      "needs_background": "light"
     },
     "output_type": "display_data"
    },
    {
     "data": {
      "text/plain": [
       "<function matplotlib.pyplot.show(*args, **kw)>"
      ]
     },
     "execution_count": 49,
     "metadata": {},
     "output_type": "execute_result"
    },
    {
     "data": {
      "text/plain": [
       "<Figure size 432x288 with 0 Axes>"
      ]
     },
     "metadata": {},
     "output_type": "display_data"
    }
   ],
   "source": [
    "# Create northern hemisphere - wind speed vs lat with linear regression and r-squared\n",
    "x_values = x_north\n",
    "y_values = y_north_wind\n",
    "(slope, intercept, rvalue, pvalue, stderr) = linregress(x_values, y_values)\n",
    "regress_values = x_values * slope + intercept\n",
    "line_eq = \"y = \" + str(round(slope,2)) + \"x + \" + str(round(intercept,2))\n",
    "plt.scatter(x_values,y_values)\n",
    "plt.plot(x_values,regress_values,\"r-\")\n",
    "plt.annotate(line_eq,(0,30),fontsize=12,color=\"red\")\n",
    "plt.title(title7)\n",
    "plt.xlabel(x_label)\n",
    "plt.ylabel(\"Wind Speed\")\n",
    "print(f\"The r-squared is: {rvalue}\")\n",
    "plt.show()\n",
    "\n",
    "plt.savefig(\"imageResults/northHemLat_vs_windSpeed.png\")\n",
    "plt.show"
   ]
  },
  {
   "cell_type": "markdown",
   "metadata": {},
   "source": [
    "# Southern Hemisphere - Wind Speed (mph) vs. Latitude"
   ]
  },
  {
   "cell_type": "code",
   "execution_count": 50,
   "metadata": {},
   "outputs": [
    {
     "name": "stdout",
     "output_type": "stream",
     "text": [
      "The r-squared is: -0.23472120176408606\n"
     ]
    },
    {
     "data": {
      "image/png": "[encoded data removed]",
      "text/plain": [
       "<Figure size 432x288 with 1 Axes>"
      ]
     },
     "metadata": {
      "needs_background": "light"
     },
     "output_type": "display_data"
    },
    {
     "data": {
      "text/plain": [
       "<function matplotlib.pyplot.show(*args, **kw)>"
      ]
     },
     "execution_count": 50,
     "metadata": {},
     "output_type": "execute_result"
    },
    {
     "data": {
      "text/plain": [
       "<Figure size 432x288 with 0 Axes>"
      ]
     },
     "metadata": {},
     "output_type": "display_data"
    }
   ],
   "source": [
    "# Create southern hemisphere - wind speed vs lat with linear regression and r-squared\n",
    "x_values = x_south\n",
    "y_values = y_south_wind\n",
    "(slope, intercept, rvalue, pvalue, stderr) = linregress(x_values, y_values)\n",
    "regress_values = x_values * slope + intercept\n",
    "line_eq = \"y = \" + str(round(slope,2)) + \"x + \" + str(round(intercept,2))\n",
    "plt.scatter(x_values,y_values)\n",
    "plt.plot(x_values,regress_values,\"r-\")\n",
    "plt.annotate(line_eq,(-20,25),fontsize=12,color=\"red\")\n",
    "plt.title(title8)\n",
    "plt.xlabel(x_label)\n",
    "plt.ylabel(\"Wind Speed\")\n",
    "print(f\"The r-squared is: {rvalue}\")\n",
    "plt.show()\n",
    "\n",
    "plt.savefig(\"imageResults/southHemLat_vs_windSpeed.png\")\n",
    "plt.show"
   ]
  },
  {
   "cell_type": "code",
   "execution_count": null,
   "metadata": {},
   "outputs": [],
   "source": []
  },
  {
   "cell_type": "code",
   "execution_count": null,
   "metadata": {},
   "outputs": [],
   "source": []
  }
 ],
 "metadata": {
  "kernelspec": {
   "display_name": "Python 3",
   "language": "python",
   "name": "python3"
  },
  "language_info": {
   "codemirror_mode": {
    "name": "ipython",
    "version": 3
   },
   "file_extension": ".py",
   "mimetype": "text/x-python",
   "name": "python",
   "nbconvert_exporter": "python",
   "pygments_lexer": "ipython3",
   "version": "3.7.4"
  }
 },
 "nbformat": 4,
 "nbformat_minor": 2
}
